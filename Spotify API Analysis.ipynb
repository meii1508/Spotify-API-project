{
 "cells": [
  {
   "cell_type": "markdown",
   "metadata": {
    "application/vnd.databricks.v1+cell": {
     "cellMetadata": {
      "byteLimit": 2048000,
      "rowLimit": 10000
     },
     "inputWidgets": {},
     "nuid": "61418fec-a08d-4d8b-9708-c9b989200300",
     "showTitle": false,
     "title": ""
    }
   },
   "source": [
    "#FETCHING DATA FROM SPOTIFY API\n"
   ]
  },
  {
   "cell_type": "markdown",
   "metadata": {
    "application/vnd.databricks.v1+cell": {
     "cellMetadata": {
      "byteLimit": 2048000,
      "rowLimit": 10000
     },
     "inputWidgets": {},
     "nuid": "1d89c66e-6219-41d1-ad17-1af249b1b854",
     "showTitle": false,
     "title": ""
    }
   },
   "source": [
    "**In the fetching data step, first of all we need to import library Spotipy, which is essential for communicating with Spotify's API then we will import libraries needed for API calls, data handling, and data analysis and some specific modules for authentication and data manipulation.**"
   ]
  },
  {
   "cell_type": "code",
   "execution_count": 0,
   "metadata": {
    "application/vnd.databricks.v1+cell": {
     "cellMetadata": {
      "byteLimit": 2048000,
      "rowLimit": 10000
     },
     "inputWidgets": {},
     "nuid": "b47444cd-7da9-4b86-b5e6-459a26f2a071",
     "showTitle": false,
     "title": ""
    }
   },
   "outputs": [
    {
     "output_type": "stream",
     "name": "stdout",
     "output_type": "stream",
     "text": [
      "\u001B[43mNote: you may need to restart the kernel using %restart_python or dbutils.library.restartPython() to use updated packages.\u001B[0m\nRequirement already satisfied: spotipy in /local_disk0/.ephemeral_nfs/envs/pythonEnv-9d94dde6-4586-4587-83c9-d070d50070dc/lib/python3.11/site-packages (2.24.0)\nRequirement already satisfied: redis>=3.5.3 in /local_disk0/.ephemeral_nfs/envs/pythonEnv-9d94dde6-4586-4587-83c9-d070d50070dc/lib/python3.11/site-packages (from spotipy) (5.0.7)\nRequirement already satisfied: requests>=2.25.0 in /databricks/python3/lib/python3.11/site-packages (from spotipy) (2.31.0)\nRequirement already satisfied: urllib3>=1.26.0 in /databricks/python3/lib/python3.11/site-packages (from spotipy) (1.26.16)\nRequirement already satisfied: idna<4,>=2.5 in /databricks/python3/lib/python3.11/site-packages (from requests>=2.25.0->spotipy) (3.4)\nRequirement already satisfied: certifi>=2017.4.17 in /databricks/python3/lib/python3.11/site-packages (from requests>=2.25.0->spotipy) (2023.7.22)\nRequirement already satisfied: charset-normalizer<4,>=2 in /databricks/python3/lib/python3.11/site-packages (from requests>=2.25.0->spotipy) (2.0.4)\n\u001B[43mNote: you may need to restart the kernel using %restart_python or dbutils.library.restartPython() to use updated packages.\u001B[0m\n"
     ]
    }
   ],
   "source": [
    "# Installing the Spotipy library to interact with the Spotify Web API\n",
    "%pip install spotipy"
   ]
  },
  {
   "cell_type": "code",
   "execution_count": 0,
   "metadata": {
    "application/vnd.databricks.v1+cell": {
     "cellMetadata": {
      "byteLimit": 2048000,
      "rowLimit": 10000
     },
     "inputWidgets": {},
     "nuid": "f606201b-3719-41f5-ad4a-07d9c173c513",
     "showTitle": false,
     "title": ""
    }
   },
   "outputs": [],
   "source": [
    "# Importing necessary libraries\n",
    "import spotipy\n",
    "import requests\n",
    "import pandas as pd\n",
    "from spotipy.oauth2 import SpotifyClientCredentials\n",
    "from pyspark.sql.functions import col,expr"
   ]
  },
  {
   "cell_type": "markdown",
   "metadata": {
    "application/vnd.databricks.v1+cell": {
     "cellMetadata": {
      "byteLimit": 2048000,
      "rowLimit": 10000
     },
     "inputWidgets": {},
     "nuid": "30b82404-e910-440d-bbde-ab7c4005b754",
     "showTitle": false,
     "title": ""
    }
   },
   "source": [
    "**Client_id and client_secret will be obtained from Spotify's developer dashboard. They are required to access Spotify's API**"
   ]
  },
  {
   "cell_type": "code",
   "execution_count": 0,
   "metadata": {
    "application/vnd.databricks.v1+cell": {
     "cellMetadata": {
      "byteLimit": 2048000,
      "rowLimit": 10000
     },
     "inputWidgets": {},
     "nuid": "111172fb-c598-45d2-8b43-585ac4f3edb3",
     "showTitle": false,
     "title": ""
    }
   },
   "outputs": [],
   "source": [
    "# Setting up Spotify API credentials\n",
    "client_id = \"bf0d9d77e23e4ce3ae4462f94af3c01c\"\n",
    "client_secret = \"ce41b3e502ba4b3e90f824c1a3ebaa46\""
   ]
  },
  {
   "cell_type": "code",
   "execution_count": 0,
   "metadata": {
    "application/vnd.databricks.v1+cell": {
     "cellMetadata": {
      "byteLimit": 2048000,
      "rowLimit": 10000
     },
     "inputWidgets": {},
     "nuid": "e8b737ec-6153-403e-a3d8-73a820765da7",
     "showTitle": false,
     "title": ""
    }
   },
   "outputs": [],
   "source": [
    "# Initializing Spotify client with credentials\n",
    "client_credentials_manager = SpotifyClientCredentials(client_id=client_id, client_secret=client_secret)\n",
    "sp = spotipy.Spotify(client_credentials_manager=client_credentials_manager)"
   ]
  },
  {
   "cell_type": "markdown",
   "metadata": {
    "application/vnd.databricks.v1+cell": {
     "cellMetadata": {
      "byteLimit": 2048000,
      "rowLimit": 10000
     },
     "inputWidgets": {},
     "nuid": "8e641113-b7f0-4235-9316-be15c1188256",
     "showTitle": false,
     "title": ""
    }
   },
   "source": [
    "**Makes the actual call to Spotify's API to retrieve a list of artists names and artist IDs based on 100 recommended tracks which seed genre are multiple genres**\n"
   ]
  },
  {
   "cell_type": "code",
   "execution_count": 0,
   "metadata": {
    "application/vnd.databricks.v1+cell": {
     "cellMetadata": {
      "byteLimit": 2048000,
      "rowLimit": 10000
     },
     "inputWidgets": {},
     "nuid": "8f1d97e4-049a-4acb-a309-4f80b0de6c07",
     "showTitle": false,
     "title": ""
    }
   },
   "outputs": [],
   "source": [
    "# Fetching recommended artists based on seed genres\n",
    "limit = 100\n",
    "seed_genres = [\"pop\", \"indie\", \"country\",\"k-pop\", \"r-n-b\"]\n",
    "results = sp.recommendations(seed_genres=seed_genres, limit=limit)\n",
    "\n",
    "# Extracting artist details (just name and ID) from the recommended tracks\n",
    "artists = []\n",
    "for track in results[\"tracks\"]:\n",
    "    artist_name = track[\"artists\"][0][\"name\"]\n",
    "    artist_id = track[\"artists\"][0][\"id\"]\n",
    "    artist_market = track[\"available_markets\"]\n",
    "    artist = {\"name\": artist_name, \"id\": artist_id, \"market\": artist_market}\n",
    "    artists.append(artist)"
   ]
  },
  {
   "cell_type": "markdown",
   "metadata": {
    "application/vnd.databricks.v1+cell": {
     "cellMetadata": {
      "byteLimit": 2048000,
      "rowLimit": 10000
     },
     "inputWidgets": {},
     "nuid": "7900167a-860f-4e85-8ddc-fe18083a9379",
     "showTitle": false,
     "title": ""
    }
   },
   "source": [
    "**Then for each artist, we will extract the top tracks list**"
   ]
  },
  {
   "cell_type": "code",
   "execution_count": 0,
   "metadata": {
    "application/vnd.databricks.v1+cell": {
     "cellMetadata": {
      "byteLimit": 2048000,
      "rowLimit": 10000
     },
     "inputWidgets": {},
     "nuid": "b07578ca-6acc-4a0d-b347-c8ef444a5c9e",
     "showTitle": false,
     "title": ""
    }
   },
   "outputs": [],
   "source": [
    "tracks = []\n",
    "for artist in artists:\n",
    "    artist_id = artist[\"id\"]\n",
    "    # Fetching the top tracks for the given artist ID\n",
    "    top_tracks = sp.artist_top_tracks(artist_id)\n",
    "    # Appending the fetched top tracks to the tracks list\n",
    "    tracks.append(top_tracks)"
   ]
  },
  {
   "cell_type": "markdown",
   "metadata": {
    "application/vnd.databricks.v1+cell": {
     "cellMetadata": {
      "byteLimit": 2048000,
      "rowLimit": 10000
     },
     "inputWidgets": {},
     "nuid": "b7d80cc4-15d3-4ea1-8230-5fb8c2399ddc",
     "showTitle": false,
     "title": ""
    }
   },
   "source": [
    "# DATA CLEANING AND TRANSFORMATION"
   ]
  },
  {
   "cell_type": "markdown",
   "metadata": {
    "application/vnd.databricks.v1+cell": {
     "cellMetadata": {
      "byteLimit": 2048000,
      "rowLimit": 10000
     },
     "inputWidgets": {},
     "nuid": "4150874a-2cb8-4a59-9793-ef0a1db6f750",
     "showTitle": false,
     "title": ""
    }
   },
   "source": [
    "**In this step, we will access PySpark and define schema to create DataFrame in order to transform data into tabular format. We also cleaned the data by removing some duplicate value and block the null value when defining the schema**"
   ]
  },
  {
   "cell_type": "code",
   "execution_count": 0,
   "metadata": {
    "application/vnd.databricks.v1+cell": {
     "cellMetadata": {
      "byteLimit": 2048000,
      "rowLimit": 10000
     },
     "inputWidgets": {},
     "nuid": "55fdcaf6-2b98-48cd-879c-cdd8b23d5d60",
     "showTitle": false,
     "title": ""
    }
   },
   "outputs": [],
   "source": [
    "# Importing necessary libraries for creating a SparkSession and defining the schema for a DataFrame\n",
    "from pyspark.sql import SparkSession\n",
    "from pyspark.sql.types import StructType, StructField, StringType, LongType, IntegerType\n",
    "\n"
   ]
  },
  {
   "cell_type": "code",
   "execution_count": 0,
   "metadata": {
    "application/vnd.databricks.v1+cell": {
     "cellMetadata": {
      "byteLimit": 2048000,
      "rowLimit": 10000
     },
     "inputWidgets": {},
     "nuid": "c8cb174c-ba55-4110-bfa4-ae3129d6eb1c",
     "showTitle": false,
     "title": ""
    }
   },
   "outputs": [],
   "source": [
    "# Defining schema for the DataFrame\n",
    "schema = StructType([\n",
    "    StructField(\"Track ID\", StringType(), nullable=False),\n",
    "    StructField(\"Track Name\", StringType(), nullable=False),\n",
    "    StructField(\"Duration (ms)\", LongType(), nullable=False),\n",
    "    StructField(\"Popularity\", IntegerType(), nullable=False),\n",
    "    StructField(\"Album Name\", StringType(), nullable=False),\n",
    "    StructField(\"Album Type\", StringType(), nullable=False),\n",
    "    StructField(\"Release Date\", StringType(), nullable=False),\n",
    "    StructField(\"Artist\", StringType(), nullable=False)\n",
    "])"
   ]
  },
  {
   "cell_type": "code",
   "execution_count": 0,
   "metadata": {
    "application/vnd.databricks.v1+cell": {
     "cellMetadata": {
      "byteLimit": 2048000,
      "rowLimit": 10000
     },
     "inputWidgets": {},
     "nuid": "1e53e9c6-d1ed-4ea4-adb5-bed56804991e",
     "showTitle": false,
     "title": ""
    }
   },
   "outputs": [],
   "source": [
    "rows = []\n",
    "for track in tracks:\n",
    "    for track_data in track[\"tracks\"]:\n",
    "        track_id = track_data[\"id\"]\n",
    "        track_name = track_data[\"name\"]\n",
    "        track_duration = track_data[\"duration_ms\"]\n",
    "        track_popularity = track_data[\"popularity\"]\n",
    "        album_name = track_data[\"album\"][\"name\"]\n",
    "        album_type = track_data[\"album\"][\"album_type\"]\n",
    "        album_release_date = track_data[\"album\"][\"release_date\"]\n",
    "        # Combining artist names into a single string\n",
    "        artist_names = \", \".join([artist[\"name\"] for artist in track_data[\"artists\"]])\n",
    "        rows.append((track_id, track_name, track_duration, track_popularity, album_name, album_type, album_release_date, artist_names))\n",
    "# Creating a DataFrame from the collected rows with the predefined schema\n",
    "df = spark.createDataFrame(rows, schema)"
   ]
  },
  {
   "cell_type": "code",
   "execution_count": 0,
   "metadata": {
    "application/vnd.databricks.v1+cell": {
     "cellMetadata": {
      "byteLimit": 2048000,
      "rowLimit": 10000
     },
     "inputWidgets": {},
     "nuid": "0806c80f-6dfa-4aa8-b1f4-f8e771adfc5d",
     "showTitle": false,
     "title": ""
    }
   },
   "outputs": [
    {
     "output_type": "stream",
     "name": "stdout",
     "output_type": "stream",
     "text": [
      "+--------------------+--------------------+-------------+----------+--------------------+----------+------------+--------------------+\n|            Track ID|          Track Name|Duration (ms)|Popularity|          Album Name|Album Type|Release Date|              Artist|\n+--------------------+--------------------+-------------+----------+--------------------+----------+------------+--------------------+\n|6Ymvlzom4TQeoKqAW...|Somethin' 'Bout A...|       213826|        67|        Up All Night|     album|  2012-01-01|           Kip Moore|\n|53Ji6ZvVjsBl4pIui...|Bones (feat. OneR...|       205792|        52|              Church|     album|  2020-02-07|Galantis, OneRepu...|\n|4WKOsXGqZiG5ihoL5...|   Heartbreak Anthem|       183725|        59|                  Rx|     album|  2024-05-17|Galantis, David G...|\n|61voPX1C71rhwynuL...|          Beer Money|       218146|        55|        Up All Night|     album|  2012-01-01|           Kip Moore|\n|46lFttIf5hnUZMGvj...|     Runaway (U & I)|       227073|        76|            Pharmacy|     album|  2015-06-05|            Galantis|\n|73WWkaWkIRSP3MYGZ...| More Girls Like You|       154706|        56|           SLOWHEART|     album|  2017-09-08|           Kip Moore|\n|3GBApU0NuzH4hKZq4...|       What You Know|       191706|        74|     Tourist History|     album|  2010-02-17|Two Door Cinema Club|\n|1uXcsl79LVRf13rGx...|             Lighter|       172268|        61|                  Rx|     album|  2024-05-17|Galantis, David G...|\n|2EuSpBqoWsE5ohMBC...|      Fire On Wheels|       156973|        48|      Fire On Wheels|    single|  2022-06-24|           Kip Moore|\n|2KE3Ukz2maas53WCt...|One Cry (feat. Ro...|       186790|        56|                  Rx|     album|  2024-05-17| Galantis, Rosa Linn|\n|3aIhJDHxr1kgTSnut...| Peanut Butter Jelly|       203133|        64|            Pharmacy|     album|  2015-06-05|            Galantis|\n|5rHx94vZVW6wHmnTe...|          Pretty Low|       172655|        62|          Pretty Low|    single|  2024-06-21|Dillon Francis, G...|\n|6NCbMyR7A8MjbX0Uh...|          She's Mine|       229493|        52|          Wild World|     album|  2020-05-29|           Kip Moore|\n|6viHvc13l9A6Ua6xu...|           Last Shot|       228480|        52|           SLOWHEART|     album|  2017-09-08|           Kip Moore|\n|6mBlft6IhCJwPNKhn...|            The Bull|       189160|        52|           SLOWHEART|     album|  2017-09-08|           Kip Moore|\n|5JqTe36RFGJ1wdYBm...|           Mountains|       178619|        67|           Mountains|    single|  2024-05-10|Jonas Blue, Galan...|\n|1kaJ2dEM1jeXQaH7u...| Run (with Galantis)|       190093|        53|Only Honest On Th...|     album|  2022-03-18|Becky Hill, Galantis|\n|6M6Tk58pQvABy6ru6...|            No Money|       191293|        71|          The Aviary|     album|  2017-09-15|            Galantis|\n|59iOzvbFUg6dab7qL...|           Wild Ones|       201920|        49|  Wild Ones (Deluxe)|     album|  2015-08-21|           Kip Moore|\n|15bIuGUsLwF0gxI48...|        I'm To Blame|       136013|        48|  Wild Ones (Deluxe)|     album|  2015-08-21|           Kip Moore|\n+--------------------+--------------------+-------------+----------+--------------------+----------+------------+--------------------+\nonly showing top 20 rows\n\n"
     ]
    }
   ],
   "source": [
    "# Remove duplicate values from the DataFrame\n",
    "df = df.dropDuplicates()\n",
    "df.show()"
   ]
  },
  {
   "cell_type": "code",
   "execution_count": 0,
   "metadata": {
    "application/vnd.databricks.v1+cell": {
     "cellMetadata": {
      "byteLimit": 2048000,
      "rowLimit": 10000
     },
     "inputWidgets": {},
     "nuid": "b2b80003-4332-406e-9e47-3b916e7399df",
     "showTitle": false,
     "title": ""
    }
   },
   "outputs": [
    {
     "output_type": "stream",
     "name": "stdout",
     "output_type": "stream",
     "text": [
      "+--------------------------------------------------------------------------------------------------+----------+------------+----------------------------------+-------------+\n|Track Name                                                                                        |Popularity|Release Date|Artist                            |Duration (ms)|\n+--------------------------------------------------------------------------------------------------+----------+------------+----------------------------------+-------------+\n|One Of The Girls (with JENNIE, Lily Rose Depp)                                                    |91        |2023-06-23  |The Weeknd, JENNIE, Lily-Rose Depp|244684       |\n|My Love Mine All Mine                                                                             |89        |2023-09-15  |Mitski                            |137773       |\n|Starboy                                                                                           |88        |2016-11-25  |The Weeknd, Daft Punk             |230453       |\n|I Remember Everything (feat. Kacey Musgraves)                                                     |88        |2023-08-25  |Zach Bryan, Kacey Musgraves       |227195       |\n|Blinding Lights                                                                                   |88        |2020-03-20  |The Weeknd                        |200040       |\n|Give Me Everything (feat. Nayer)                                                                  |86        |2011-06-17  |Pitbull, AFROJACK, Ne-Yo, Nayer   |252306       |\n|Nasty                                                                                             |86        |2024-04-12  |Tinashe                           |176027       |\n|Perfect                                                                                           |85        |2017-03-03  |Ed Sheeran                        |263400       |\n|Shape of You                                                                                      |85        |2017-03-03  |Ed Sheeran                        |233712       |\n|Popular (with Playboi Carti & Madonna) - From The Idol Vol. 1 (Music from the HBO Original Series)|85        |2023-06-02  |The Weeknd, Playboi Carti, Madonna|215466       |\n|Pour Me A Drink (Feat. Blake Shelton)                                                             |85        |2024-06-21  |Post Malone, Blake Shelton        |195122       |\n|Yeah! (feat. Lil Jon & Ludacris)                                                                  |85        |2004-03-23  |USHER, Lil Jon, Ludacris          |250373       |\n|This Is What You Came For                                                                         |85        |2016-04-29  |Calvin Harris, Rihanna            |222160       |\n|Die For You                                                                                       |84        |2016-11-24  |The Weeknd                        |260253       |\n|Timber                                                                                            |84        |2012        |Pitbull, Kesha                    |204160       |\n|Time of Our Lives                                                                                 |84        |2014-11-21  |Pitbull, Ne-Yo                    |229360       |\n|TiK ToK                                                                                           |84        |2010-01-01  |Kesha                             |199693       |\n|Save Your Tears                                                                                   |84        |2020-03-20  |The Weeknd                        |215626       |\n|Under The Influence                                                                               |84        |2019-10-04  |Chris Brown                       |184613       |\n|The Hills                                                                                         |84        |2015-08-28  |The Weeknd                        |242253       |\n+--------------------------------------------------------------------------------------------------+----------+------------+----------------------------------+-------------+\nonly showing top 20 rows\n\n"
     ]
    }
   ],
   "source": [
    "# Sort the DataFrame by \"Popularity\" column in descending order\n",
    "sorted_df = df.orderBy(col(\"Popularity\").desc())\n",
    "\n",
    "# Select specific columns and display the results\n",
    "sorted_df.select(\"Track Name\", \"Popularity\", \"Release Date\", \"Artist\", \"Duration (ms)\").show(truncate=False)"
   ]
  },
  {
   "cell_type": "markdown",
   "metadata": {
    "application/vnd.databricks.v1+cell": {
     "cellMetadata": {
      "byteLimit": 2048000,
      "rowLimit": 10000
     },
     "inputWidgets": {},
     "nuid": "d83d25f4-50e2-4a04-b2cb-a6bec458abbb",
     "showTitle": false,
     "title": ""
    }
   },
   "source": [
    "# BUILD THE DASHBOARD"
   ]
  },
  {
   "cell_type": "markdown",
   "metadata": {
    "application/vnd.databricks.v1+cell": {
     "cellMetadata": {
      "byteLimit": 2048000,
      "rowLimit": 10000
     },
     "inputWidgets": {},
     "nuid": "802b13ca-c698-450b-a2e9-49d9bdd0fb15",
     "showTitle": false,
     "title": ""
    }
   },
   "source": [
    "**In this step we will build the dashboard based on dataset. However, we only filter the data which release date is in 07/07/2021 so that we can get more insights about Productivity and Popularity of artirts in 3 year up to now .**\n",
    "\n",
    "**Interpret the dashboard:**\n",
    "1. Productivity vs. Popularity:\n",
    "\n",
    "The bar graph immediately reveals the artists with the highest number of tracks, indicating their productivity and output.The line graph overlays the average popularity score for each artist, allowing for a direct comparison between their productivity and the overall reception of their music.This can highlight artists who consistently produce popular music (high bars and high line points) versus those who release many tracks but with lower average popularity (high bars and low line points).\n",
    "\n",
    "2. Outliers and Trends:\n",
    "\n",
    "The combined graph can quickly identify outliers:\n",
    "Artists with a high number of tracks but unexpectedly low average popularity (potential for niche appeal or declining quality).\n",
    "Artists with a low number of tracks but surprisingly high average popularity (potential for emerging talent or viral hits or really famous artist: Taylor Swift).\n",
    "It can also reveal trends:\n",
    "Does a higher number of tracks generally correlate with higher or lower average popularity?\n",
    "Are there any clusters of artists with similar productivity and popularity levels, suggesting genre or style influences?"
   ]
  },
  {
   "cell_type": "code",
   "execution_count": 0,
   "metadata": {
    "application/vnd.databricks.v1+cell": {
     "cellMetadata": {
      "byteLimit": 2048000,
      "rowLimit": 10000
     },
     "inputWidgets": {},
     "nuid": "883ec5f0-374a-476a-abb6-f06488074c8a",
     "showTitle": false,
     "title": ""
    }
   },
   "outputs": [
    {
     "output_type": "display_data",
     "data": {
      "text/html": [
       "<style scoped>\n",
       "  .table-result-container {\n",
       "    max-height: 300px;\n",
       "    overflow: auto;\n",
       "  }\n",
       "  table, th, td {\n",
       "    border: 1px solid black;\n",
       "    border-collapse: collapse;\n",
       "  }\n",
       "  th, td {\n",
       "    padding: 5px;\n",
       "  }\n",
       "  th {\n",
       "    text-align: left;\n",
       "  }\n",
       "</style><div class='table-result-container'><table class='table-result'><thead style='background-color: white'><tr><th>Track Name</th><th>Popularity</th><th>Release Date</th><th>Artist</th><th>Duration (ms)</th></tr></thead><tbody><tr><td>One Of The Girls (with JENNIE, Lily Rose Depp)</td><td>91</td><td>2023-06-23</td><td>The Weeknd, JENNIE, Lily-Rose Depp</td><td>244684</td></tr><tr><td>My Love Mine All Mine</td><td>89</td><td>2023-09-15</td><td>Mitski</td><td>137773</td></tr><tr><td>I Remember Everything (feat. Kacey Musgraves)</td><td>88</td><td>2023-08-25</td><td>Zach Bryan, Kacey Musgraves</td><td>227195</td></tr><tr><td>Nasty</td><td>86</td><td>2024-04-12</td><td>Tinashe</td><td>176027</td></tr><tr><td>Popular (with Playboi Carti & Madonna) - From The Idol Vol. 1 (Music from the HBO Original Series)</td><td>85</td><td>2023-06-02</td><td>The Weeknd, Playboi Carti, Madonna</td><td>215466</td></tr><tr><td>Pour Me A Drink (Feat. Blake Shelton)</td><td>85</td><td>2024-06-21</td><td>Post Malone, Blake Shelton</td><td>195122</td></tr><tr><td>Dance The Night - From Barbie The Album</td><td>84</td><td>2023-05-25</td><td>Dua Lipa</td><td>176579</td></tr><tr><td>Creepin' (with The Weeknd & 21 Savage)</td><td>83</td><td>2022-12-02</td><td>Metro Boomin, The Weeknd, 21 Savage</td><td>221520</td></tr><tr><td>Shivers</td><td>82</td><td>2021-10-25</td><td>Ed Sheeran</td><td>207853</td></tr><tr><td>Superhero (Heroes & Villains) [with Future & Chris Brown]</td><td>82</td><td>2022-12-02</td><td>Metro Boomin, Future, Chris Brown</td><td>182666</td></tr><tr><td>Houdini</td><td>82</td><td>2024-05-03</td><td>Dua Lipa</td><td>185917</td></tr><tr><td>Training Season</td><td>82</td><td>2024-05-03</td><td>Dua Lipa</td><td>209487</td></tr><tr><td>You & Me - Rivo Remix</td><td>81</td><td>2023-12-22</td><td>Disclosure, Eliza Doolittle, Rivo</td><td>208524</td></tr><tr><td>Illusion</td><td>81</td><td>2024-05-03</td><td>Dua Lipa</td><td>188143</td></tr><tr><td>Bad Habits</td><td>80</td><td>2021-10-25</td><td>Ed Sheeran</td><td>230746</td></tr><tr><td>Angel Numbers / Ten Toes</td><td>79</td><td>2023-11-10</td><td>Chris Brown</td><td>306847</td></tr><tr><td>Margaret (feat. Bleachers)</td><td>78</td><td>2023-03-24</td><td>Lana Del Rey, Bleachers</td><td>339890</td></tr><tr><td>She’s Gone, Dance On</td><td>77</td><td>2024-05-29</td><td>Disclosure</td><td>226773</td></tr><tr><td>Puntería</td><td>75</td><td>2024-03-22</td><td>Shakira, Cardi B</td><td>181666</td></tr><tr><td>She Calls Me Back (with Kacey Musgraves)</td><td>74</td><td>2023-10-06</td><td>Noah Kahan, Kacey Musgraves</td><td>243962</td></tr><tr><td>Closer to You (feat. Major Lazer)</td><td>74</td><td>2023-11-03</td><td>Jung Kook, Major Lazer</td><td>170995</td></tr><tr><td>Beautiful As You</td><td>74</td><td>2024-05-10</td><td>Thomas Rhett</td><td>163894</td></tr><tr><td>PUT EM IN THE FRIDGE</td><td>74</td><td>2024-06-20</td><td>Peso Pluma, Cardi B</td><td>154200</td></tr><tr><td>Heaven</td><td>73</td><td>2023-06-09</td><td>Niall Horan</td><td>186043</td></tr><tr><td>Bam Bam (feat. Ed Sheeran)</td><td>71</td><td>2022-04-07</td><td>Camila Cabello, Ed Sheeran</td><td>206070</td></tr><tr><td>Enough (Miami)</td><td>71</td><td>2024-03-15</td><td>Cardi B</td><td>158727</td></tr><tr><td>Wait On It (feat. Bryson Tiller & Chris Brown)</td><td>70</td><td>2024-06-28</td><td>Jeremih, Bryson Tiller, Chris Brown</td><td>205400</td></tr><tr><td>Deeper Well</td><td>70</td><td>2024-03-15</td><td>Kacey Musgraves</td><td>232133</td></tr><tr><td>Gone Country</td><td>70</td><td>2024-06-07</td><td>Thomas Rhett</td><td>163422</td></tr><tr><td>Sensational (feat. Davido & Lojay)</td><td>69</td><td>2023-11-10</td><td>Chris Brown, Davido, Lojay</td><td>231109</td></tr><tr><td>Cold Heart - PNAU Remix</td><td>69</td><td>2021-10-22</td><td>Elton John, Dua Lipa, PNAU</td><td>202735</td></tr><tr><td>Try That In A Small Town</td><td>68</td><td>2023-11-03</td><td>Jason Aldean</td><td>181600</td></tr><tr><td>Mountains</td><td>67</td><td>2024-05-10</td><td>Jonas Blue, Galantis, Zoe Wees</td><td>178619</td></tr><tr><td>Half Of Me</td><td>67</td><td>2022-04-01</td><td>Thomas Rhett, Riley Green</td><td>183026</td></tr><tr><td>Taxi Blurr (Feat. NATTY of KISS OF LIFE)</td><td>66</td><td>2024-05-28</td><td>Jay Park, NATTY</td><td>230499</td></tr><tr><td>BLOOD ON THE DANCE FLOOR (feat. Bloody Civilian and Wale)</td><td>65</td><td>2023-10-06</td><td>ODUMODUBLVCK, Bloody Civilian, Wale</td><td>233571</td></tr><tr><td>Too Good to be True</td><td>65</td><td>2024-03-15</td><td>Kacey Musgraves</td><td>160053</td></tr><tr><td>If I Didn’t Love You</td><td>65</td><td>2021-11-12</td><td>Jason Aldean, Carrie Underwood</td><td>212893</td></tr><tr><td>Mamaw's House</td><td>65</td><td>2023-09-29</td><td>Thomas Rhett, Morgan Wallen</td><td>187269</td></tr><tr><td>Meltdown</td><td>65</td><td>2023-06-09</td><td>Niall Horan</td><td>153037</td></tr><tr><td>Wanna Be (with Megan Thee Stallion & Cardi B) - Remix</td><td>65</td><td>2024-05-29</td><td>GloRilla, Megan Thee Stallion, Cardi B</td><td>224000</td></tr><tr><td>Toxic Pony</td><td>64</td><td>2022-01-21</td><td>ALTÉGO, Britney Spears, Ginuwine</td><td>198041</td></tr><tr><td>UNHEALTHY (feat. Shania Twain)</td><td>63</td><td>2023-07-28</td><td>Anne-Marie, Shania Twain</td><td>149653</td></tr><tr><td>From This Moment On - Pop On-Tour Version / Remastered 2023</td><td>63</td><td>2023-11-17</td><td>Shania Twain</td><td>237939</td></tr><tr><td>All The Time (feat. Lil Wayne & Natasha Mosley)</td><td>63</td><td>2022-03-11</td><td>Jeremih, Lil Wayne, Natasha Mosley</td><td>263785</td></tr><tr><td>Pretty Low</td><td>62</td><td>2024-06-21</td><td>Dillon Francis, Galantis, Arden Jones</td><td>172655</td></tr><tr><td>Black Out Days - Sped Up</td><td>62</td><td>2022-06-03</td><td>Phantogram, Speed Radio, Esteve</td><td>181584</td></tr><tr><td>Cardinal</td><td>62</td><td>2024-03-15</td><td>Kacey Musgraves</td><td>191413</td></tr><tr><td>Lighter</td><td>61</td><td>2024-05-17</td><td>Galantis, David Guetta, 5 Seconds of Summer</td><td>172268</td></tr><tr><td>Overtime (feat. Kacey Musgraves)</td><td>61</td><td>2024-05-10</td><td>Rainbow Kitten Surprise, Kacey Musgraves</td><td>173610</td></tr><tr><td>More Than A Little Bit (feat. Tinashe)</td><td>61</td><td>2024-06-07</td><td>KAYTRANADA, Tinashe</td><td>174562</td></tr><tr><td>Getting No Sleep</td><td>61</td><td>2024-06-28</td><td>Tinashe</td><td>192000</td></tr><tr><td>Needs</td><td>61</td><td>2023-09-08</td><td>Tinashe</td><td>146791</td></tr><tr><td>KNOCKA</td><td>60</td><td>2024-04-26</td><td>YG</td><td>150144</td></tr><tr><td>Dancer</td><td>60</td><td>2024-02-16</td><td>IDLES, LCD Soundsystem</td><td>189493</td></tr><tr><td>Our Song</td><td>60</td><td>2021-07-23</td><td>Anne-Marie, Niall Horan</td><td>163733</td></tr><tr><td>Heartbreak Anthem</td><td>59</td><td>2024-05-17</td><td>Galantis, David Guetta, Little Mix</td><td>183725</td></tr><tr><td>Black Out Days - Subtronics Remix</td><td>59</td><td>2023-06-16</td><td>Phantogram, Subtronics</td><td>208457</td></tr><tr><td>Like I Do (Jay Park Remix)</td><td>59</td><td>2024-04-25</td><td>Jay Park</td><td>130373</td></tr><tr><td>She Likes It (feat. Jake Scott)</td><td>59</td><td>2022-11-04</td><td>Russell Dickerson, Jake Scott</td><td>163311</td></tr><tr><td>Modern Girl</td><td>59</td><td>2024-03-08</td><td>Bleachers</td><td>223100</td></tr><tr><td>Tiny Moves</td><td>59</td><td>2024-03-08</td><td>Bleachers</td><td>228381</td></tr><tr><td>GANADARA (Feat. IU)</td><td>58</td><td>2022-03-11</td><td>Jay Park, IU</td><td>203727</td></tr><tr><td>Still Life</td><td>58</td><td>2022-04-05</td><td>BIGBANG</td><td>188369</td></tr><tr><td>God Gave Me A Girl</td><td>58</td><td>2022-11-04</td><td>Russell Dickerson</td><td>187226</td></tr><tr><td>She Calls Me Back (with Kacey Musgraves)</td><td>57</td><td>2024-02-09</td><td>Noah Kahan, Kacey Musgraves</td><td>243962</td></tr><tr><td>STAYING ALIVE (feat. Drake & Lil Baby)</td><td>57</td><td>2022-08-26</td><td>DJ Khaled, Drake, Lil Baby</td><td>178176</td></tr><tr><td>Black Out Days - Future Islands Remix (Slowed)</td><td>56</td><td>2021-09-10</td><td>Phantogram, xxtristanxo, Slowed Radio, Future Islands</td><td>214394</td></tr><tr><td>One Cry (feat. Rosa Linn)</td><td>56</td><td>2024-05-17</td><td>Galantis, Rosa Linn</td><td>186790</td></tr><tr><td>Big Time Nothing</td><td>56</td><td>2024-04-26</td><td>St. Vincent</td><td>178722</td></tr><tr><td>I Don't Live Here Anymore (feat. Lucius)</td><td>56</td><td>2021-10-29</td><td>The War On Drugs, Lucius</td><td>327546</td></tr><tr><td>Your/My</td><td>55</td><td>2024-04-25</td><td>Jay Park</td><td>219742</td></tr><tr><td>妳在哪裡 (WYA)</td><td>55</td><td>2023-07-30</td><td>Jay Park, NINGNING</td><td>223728</td></tr><tr><td>Broken Man</td><td>55</td><td>2024-04-26</td><td>St. Vincent</td><td>201533</td></tr><tr><td>McNasty</td><td>54</td><td>2024-06-30</td><td>Jay Park</td><td>192378</td></tr><tr><td>Black Ice (feat. Phantogram)</td><td>54</td><td>2024-04-19</td><td>Subtronics, Rezz, Phantogram</td><td>260001</td></tr><tr><td>All A Mystery</td><td>54</td><td>2024-05-31</td><td>Phantogram</td><td>189053</td></tr><tr><td>Pony</td><td>54</td><td>2023-04-14</td><td>Ginuwine</td><td>251733</td></tr><tr><td>What’s My Name (with Queen Naija & Coi Leray)</td><td>53</td><td>2022-04-08</td><td>Fivio Foreign, Queen Naija, Coi Leray</td><td>201398</td></tr><tr><td>More Than Yesterday (feat. Russell Dickerson)</td><td>53</td><td>2023-05-10</td><td>Two Friends, Russell Dickerson</td><td>187661</td></tr><tr><td>Bury me (feat. Kelela)</td><td>53</td><td>2023-11-10</td><td>PinkPantheress, Kelela</td><td>124613</td></tr><tr><td>Good Day To Have A Great Day</td><td>53</td><td>2024-05-03</td><td>Russell Dickerson</td><td>181471</td></tr><tr><td>Run (with Galantis)</td><td>53</td><td>2022-03-18</td><td>Becky Hill, Galantis</td><td>190093</td></tr><tr><td>Heatin' Things Up</td><td>53</td><td>2024-04-26</td><td>Josh Turner</td><td>178053</td></tr><tr><td>New To You (with Normani, Tinashe & Offset)</td><td>53</td><td>2022-08-05</td><td>Calvin Harris, Normani, Tinashe, Offset</td><td>302613</td></tr><tr><td>Brand New</td><td>52</td><td>2023-09-29</td><td>Tyga, YG, Lil Wayne</td><td>182532</td></tr><tr><td>Drink Water (feat. Jon Bellion and Fireboy DML)</td><td>52</td><td>2023-08-18</td><td>Jon Batiste, Jon Bellion, Fireboy DML</td><td>169708</td></tr><tr><td>Hate Our Love (with Big Sean)</td><td>52</td><td>2022-02-04</td><td>Queen Naija, Big Sean</td><td>226373</td></tr><tr><td>Big Energy (feat. DJ Khaled) - Remix</td><td>52</td><td>2022-03-25</td><td>Latto, Mariah Carey, DJ Khaled</td><td>181665</td></tr><tr><td>Anti-Hero (feat. Bleachers)</td><td>52</td><td>2022-11-08</td><td>Taylor Swift, Bleachers</td><td>228397</td></tr><tr><td>Talk To Me Nice</td><td>52</td><td>2023-09-08</td><td>Tinashe</td><td>229844</td></tr><tr><td>Wait on You</td><td>51</td><td>2024-06-28</td><td>Washed Out</td><td>176049</td></tr><tr><td>Flea</td><td>51</td><td>2024-04-26</td><td>St. Vincent</td><td>226578</td></tr><tr><td>Good Riddance</td><td>51</td><td>2022-06-29</td><td>Levi Hummon, Filmore, YA'BOYZ</td><td>142204</td></tr><tr><td>I Remember</td><td>50</td><td>2023-01-27</td><td>Cheat Codes, Russell Dickerson</td><td>168117</td></tr><tr><td>Chinatown (feat. Bruce Springsteen)</td><td>50</td><td>2021-07-30</td><td>Bleachers, Bruce Springsteen</td><td>244186</td></tr><tr><td>Hell Is Near</td><td>50</td><td>2024-04-26</td><td>St. Vincent</td><td>248995</td></tr><tr><td>Me Before You</td><td>49</td><td>2024-03-08</td><td>Bleachers</td><td>203519</td></tr><tr><td>Down In Georgia</td><td>49</td><td>2024-06-07</td><td>Josh Turner</td><td>200853</td></tr><tr><td>Harmonia's Dream</td><td>49</td><td>2021-10-29</td><td>The War On Drugs</td><td>386346</td></tr><tr><td>Fire On Wheels</td><td>48</td><td>2022-06-24</td><td>Kip Moore</td><td>156973</td></tr><tr><td>Violent Times</td><td>48</td><td>2024-04-26</td><td>St. Vincent</td><td>237029</td></tr><tr><td>Reckless</td><td>48</td><td>2024-04-26</td><td>St. Vincent</td><td>237203</td></tr><tr><td>Contact</td><td>47</td><td>2023-02-10</td><td>Kelela</td><td>240725</td></tr><tr><td>Sweetest Fruit</td><td>47</td><td>2024-04-26</td><td>St. Vincent</td><td>235488</td></tr><tr><td>Love Me Enough (feat. Monica & Keyshia Cole)</td><td>46</td><td>2023-12-15</td><td>Nicki Minaj, Monica, Keyshia Cole</td><td>230400</td></tr><tr><td>Waking Up</td><td>45</td><td>2024-06-28</td><td>Washed Out</td><td>279958</td></tr><tr><td>The Hardest Part</td><td>44</td><td>2024-06-28</td><td>Washed Out</td><td>245980</td></tr><tr><td>Say Goodbye</td><td>44</td><td>2024-06-28</td><td>Washed Out</td><td>275661</td></tr><tr><td>All or Nothing (feat. Ella Mai)</td><td>43</td><td>2023-11-17</td><td>Queen Naija, Ella Mai</td><td>190498</td></tr><tr><td>Happy Ending</td><td>43</td><td>2023-02-10</td><td>Kelela</td><td>248817</td></tr><tr><td>Screwin (with Omarion)</td><td>43</td><td>2021-11-05</td><td>Summer Walker, Omarion</td><td>333582</td></tr><tr><td>Running Away</td><td>42</td><td>2024-06-28</td><td>Washed Out</td><td>238066</td></tr><tr><td>Something We Can Make Love To</td><td>42</td><td>2024-06-28</td><td>Eric Benét, Tamar Braxton</td><td>211365</td></tr><tr><td>Blue Hour</td><td>42</td><td>2022-10-28</td><td>Nosaj Thing, Julianna Barwick</td><td>211845</td></tr><tr><td>Above The Law</td><td>42</td><td>2023-11-10</td><td>Rick Ross, Meek Mill, Teyana Taylor, DJ Khaled</td><td>212815</td></tr><tr><td>Drunk I Am</td><td>42</td><td>2022-04-19</td><td>You Betcha Guy, Filmore</td><td>180637</td></tr><tr><td>Complicated</td><td>41</td><td>2021-07-30</td><td>Leela James</td><td>244870</td></tr><tr><td>On the Run</td><td>41</td><td>2023-02-10</td><td>Kelela</td><td>292824</td></tr><tr><td>We Are (우리는) - Mixed</td><td>41</td><td>2024-06-21</td><td>Nosaj Thing, HYUKOH</td><td>174550</td></tr><tr><td>Where My Wild Things Are</td><td>41</td><td>2023-08-11</td><td>Ryan Bingham</td><td>237781</td></tr><tr><td>Serious</td><td>40</td><td>2023-05-05</td><td>Omarion</td><td>173604</td></tr><tr><td>Washed Away</td><td>40</td><td>2023-02-10</td><td>Kelela</td><td>216178</td></tr><tr><td>Sex Story</td><td>40</td><td>2021-07-30</td><td>Ar'mon & Trey</td><td>208626</td></tr><tr><td>You're The One</td><td>39</td><td>2021-07-30</td><td>Leela James</td><td>214758</td></tr><tr><td>One of them Days (feat. Monica)</td><td>38</td><td>2023-11-17</td><td>Queen Naija, Monica</td><td>155355</td></tr><tr><td>Too Close</td><td>38</td><td>2023-08-23</td><td>Nosaj Thing, Jacques Greene, Ouri</td><td>224839</td></tr><tr><td>Right Back In It</td><td>37</td><td>2023-10-27</td><td>Leela James</td><td>222588</td></tr><tr><td>Changed</td><td>37</td><td>2023-03-17</td><td>Tamar Braxton</td><td>195082</td></tr><tr><td>ONE IN A MILLION</td><td>37</td><td>2024-06-11</td><td>RAT BOY, lil aaron</td><td>196356</td></tr><tr><td>Happy Ending - A.G Remix</td><td>36</td><td>2024-02-09</td><td>Kelela, A.G</td><td>195800</td></tr><tr><td>CLOUDS</td><td>36</td><td>2021-09-10</td><td>박혜진 Park Hye Jin, Nosaj Thing</td><td>196007</td></tr><tr><td>Notice Me</td><td>36</td><td>2024-03-15</td><td>Tamar Braxton</td><td>208992</td></tr><tr><td>The Ocean - Acoustic Live In Studio (feat. Charlie Worsham)</td><td>36</td><td>2022-09-23</td><td>Jillian Jacqueline, Charlie Worsham</td><td>212932</td></tr><tr><td>Thinkin' We're In Love</td><td>35</td><td>2022-07-08</td><td>Tyler Rich, Marie-Mai</td><td>228038</td></tr><tr><td>South On Me</td><td>34</td><td>2024-04-12</td><td>Filmore</td><td>210293</td></tr><tr><td>Betcha Gonna</td><td>33</td><td>2024-07-05</td><td>Filmore</td><td>173333</td></tr><tr><td>A Little Bit Of You</td><td>33</td><td>2021-11-12</td><td>Tyler Rich</td><td>180374</td></tr><tr><td>Condition</td><td>32</td><td>2022-10-28</td><td>Nosaj Thing, Toro y Moi</td><td>224393</td></tr><tr><td>Take the Blame</td><td>31</td><td>2021-07-30</td><td>Ar'mon & Trey, Lil Tjay</td><td>213332</td></tr><tr><td>Continua</td><td>30</td><td>2022-10-28</td><td>Nosaj Thing, Duval Timothy</td><td>189458</td></tr><tr><td>Running Straight To You</td><td>29</td><td>2024-06-21</td><td>Sheppard</td><td>224524</td></tr><tr><td>Sex Story</td><td>28</td><td>2021-07-29</td><td>Ar'mon & Trey</td><td>162461</td></tr><tr><td>All 4 U</td><td>27</td><td>2021-07-30</td><td>Ar'mon & Trey</td><td>209620</td></tr><tr><td>SUBURBIA CALLING</td><td>26</td><td>2024-04-22</td><td>RAT BOY</td><td>169245</td></tr><tr><td>Next Up</td><td>26</td><td>2022-02-18</td><td>MiC LOWRY</td><td>212000</td></tr><tr><td>First Love Story</td><td>24</td><td>2022-03-03</td><td>Baek A Yeon</td><td>207773</td></tr><tr><td>Stay with me</td><td>24</td><td>2021-07-28</td><td>Baek A Yeon</td><td>236573</td></tr><tr><td>USA</td><td>23</td><td>2023-01-13</td><td>Filmore, Pitbull</td><td>175752</td></tr><tr><td>Monopoly</td><td>21</td><td>2024-07-05</td><td>MiC LOWRY</td><td>225232</td></tr><tr><td>Creepin'</td><td>20</td><td>2022-11-11</td><td>MiC LOWRY, H33RA</td><td>225319</td></tr><tr><td>Rest of Your Life</td><td>18</td><td>2024-05-31</td><td>Eric Ethridge</td><td>166630</td></tr><tr><td>Somewhere With Beer</td><td>17</td><td>2023-01-13</td><td>Filmore</td><td>184167</td></tr><tr><td>Irreversible Damage</td><td>15</td><td>2023-02-24</td><td>Algiers, Zack De La Rocha</td><td>282813</td></tr><tr><td>Bite Back</td><td>14</td><td>2023-02-24</td><td>Algiers, billy woods, Backxwash</td><td>360657</td></tr><tr><td>Family First</td><td>13</td><td>2024-05-31</td><td>Eric Ethridge</td><td>240187</td></tr><tr><td>GOLD</td><td>8</td><td>2023-05-03</td><td>KOONTA, SKULL, Gwangil Jo</td><td>205546</td></tr><tr><td>COUNT ON ME</td><td>7</td><td>2023-11-13</td><td>SKULL, Gwangil Jo</td><td>183768</td></tr><tr><td>Because of You</td><td>5</td><td>2024-04-01</td><td>STi</td><td>252320</td></tr><tr><td>STONY FREESTYLE</td><td>4</td><td>2023-10-13</td><td>SKULL, KOONTA</td><td>139746</td></tr><tr><td>GO</td><td>3</td><td>2023-08-06</td><td>STi, LAUL</td><td>195346</td></tr><tr><td>Wait For Rainbow</td><td>1</td><td>2021-08-24</td><td>STi</td><td>296181</td></tr></tbody></table></div>"
      ]
     },
     "metadata": {
      "application/vnd.databricks.v1+output": {
       "addedWidgets": {},
       "aggData": [],
       "aggError": "",
       "aggOverflow": false,
       "aggSchema": [],
       "aggSeriesLimitReached": false,
       "aggType": "",
       "arguments": {},
       "columnCustomDisplayInfos": {},
       "data": [
        [
         "One Of The Girls (with JENNIE, Lily Rose Depp)",
         91,
         "2023-06-23",
         "The Weeknd, JENNIE, Lily-Rose Depp",
         244684
        ],
        [
         "My Love Mine All Mine",
         89,
         "2023-09-15",
         "Mitski",
         137773
        ],
        [
         "I Remember Everything (feat. Kacey Musgraves)",
         88,
         "2023-08-25",
         "Zach Bryan, Kacey Musgraves",
         227195
        ],
        [
         "Nasty",
         86,
         "2024-04-12",
         "Tinashe",
         176027
        ],
        [
         "Popular (with Playboi Carti & Madonna) - From The Idol Vol. 1 (Music from the HBO Original Series)",
         85,
         "2023-06-02",
         "The Weeknd, Playboi Carti, Madonna",
         215466
        ],
        [
         "Pour Me A Drink (Feat. Blake Shelton)",
         85,
         "2024-06-21",
         "Post Malone, Blake Shelton",
         195122
        ],
        [
         "Dance The Night - From Barbie The Album",
         84,
         "2023-05-25",
         "Dua Lipa",
         176579
        ],
        [
         "Creepin' (with The Weeknd & 21 Savage)",
         83,
         "2022-12-02",
         "Metro Boomin, The Weeknd, 21 Savage",
         221520
        ],
        [
         "Shivers",
         82,
         "2021-10-25",
         "Ed Sheeran",
         207853
        ],
        [
         "Superhero (Heroes & Villains) [with Future & Chris Brown]",
         82,
         "2022-12-02",
         "Metro Boomin, Future, Chris Brown",
         182666
        ],
        [
         "Houdini",
         82,
         "2024-05-03",
         "Dua Lipa",
         185917
        ],
        [
         "Training Season",
         82,
         "2024-05-03",
         "Dua Lipa",
         209487
        ],
        [
         "You & Me - Rivo Remix",
         81,
         "2023-12-22",
         "Disclosure, Eliza Doolittle, Rivo",
         208524
        ],
        [
         "Illusion",
         81,
         "2024-05-03",
         "Dua Lipa",
         188143
        ],
        [
         "Bad Habits",
         80,
         "2021-10-25",
         "Ed Sheeran",
         230746
        ],
        [
         "Angel Numbers / Ten Toes",
         79,
         "2023-11-10",
         "Chris Brown",
         306847
        ],
        [
         "Margaret (feat. Bleachers)",
         78,
         "2023-03-24",
         "Lana Del Rey, Bleachers",
         339890
        ],
        [
         "She’s Gone, Dance On",
         77,
         "2024-05-29",
         "Disclosure",
         226773
        ],
        [
         "Puntería",
         75,
         "2024-03-22",
         "Shakira, Cardi B",
         181666
        ],
        [
         "She Calls Me Back (with Kacey Musgraves)",
         74,
         "2023-10-06",
         "Noah Kahan, Kacey Musgraves",
         243962
        ],
        [
         "Closer to You (feat. Major Lazer)",
         74,
         "2023-11-03",
         "Jung Kook, Major Lazer",
         170995
        ],
        [
         "Beautiful As You",
         74,
         "2024-05-10",
         "Thomas Rhett",
         163894
        ],
        [
         "PUT EM IN THE FRIDGE",
         74,
         "2024-06-20",
         "Peso Pluma, Cardi B",
         154200
        ],
        [
         "Heaven",
         73,
         "2023-06-09",
         "Niall Horan",
         186043
        ],
        [
         "Bam Bam (feat. Ed Sheeran)",
         71,
         "2022-04-07",
         "Camila Cabello, Ed Sheeran",
         206070
        ],
        [
         "Enough (Miami)",
         71,
         "2024-03-15",
         "Cardi B",
         158727
        ],
        [
         "Wait On It (feat. Bryson Tiller & Chris Brown)",
         70,
         "2024-06-28",
         "Jeremih, Bryson Tiller, Chris Brown",
         205400
        ],
        [
         "Deeper Well",
         70,
         "2024-03-15",
         "Kacey Musgraves",
         232133
        ],
        [
         "Gone Country",
         70,
         "2024-06-07",
         "Thomas Rhett",
         163422
        ],
        [
         "Sensational (feat. Davido & Lojay)",
         69,
         "2023-11-10",
         "Chris Brown, Davido, Lojay",
         231109
        ],
        [
         "Cold Heart - PNAU Remix",
         69,
         "2021-10-22",
         "Elton John, Dua Lipa, PNAU",
         202735
        ],
        [
         "Try That In A Small Town",
         68,
         "2023-11-03",
         "Jason Aldean",
         181600
        ],
        [
         "Mountains",
         67,
         "2024-05-10",
         "Jonas Blue, Galantis, Zoe Wees",
         178619
        ],
        [
         "Half Of Me",
         67,
         "2022-04-01",
         "Thomas Rhett, Riley Green",
         183026
        ],
        [
         "Taxi Blurr (Feat. NATTY of KISS OF LIFE)",
         66,
         "2024-05-28",
         "Jay Park, NATTY",
         230499
        ],
        [
         "BLOOD ON THE DANCE FLOOR (feat. Bloody Civilian and Wale)",
         65,
         "2023-10-06",
         "ODUMODUBLVCK, Bloody Civilian, Wale",
         233571
        ],
        [
         "Too Good to be True",
         65,
         "2024-03-15",
         "Kacey Musgraves",
         160053
        ],
        [
         "If I Didn’t Love You",
         65,
         "2021-11-12",
         "Jason Aldean, Carrie Underwood",
         212893
        ],
        [
         "Mamaw's House",
         65,
         "2023-09-29",
         "Thomas Rhett, Morgan Wallen",
         187269
        ],
        [
         "Meltdown",
         65,
         "2023-06-09",
         "Niall Horan",
         153037
        ],
        [
         "Wanna Be (with Megan Thee Stallion & Cardi B) - Remix",
         65,
         "2024-05-29",
         "GloRilla, Megan Thee Stallion, Cardi B",
         224000
        ],
        [
         "Toxic Pony",
         64,
         "2022-01-21",
         "ALTÉGO, Britney Spears, Ginuwine",
         198041
        ],
        [
         "UNHEALTHY (feat. Shania Twain)",
         63,
         "2023-07-28",
         "Anne-Marie, Shania Twain",
         149653
        ],
        [
         "From This Moment On - Pop On-Tour Version / Remastered 2023",
         63,
         "2023-11-17",
         "Shania Twain",
         237939
        ],
        [
         "All The Time (feat. Lil Wayne & Natasha Mosley)",
         63,
         "2022-03-11",
         "Jeremih, Lil Wayne, Natasha Mosley",
         263785
        ],
        [
         "Pretty Low",
         62,
         "2024-06-21",
         "Dillon Francis, Galantis, Arden Jones",
         172655
        ],
        [
         "Black Out Days - Sped Up",
         62,
         "2022-06-03",
         "Phantogram, Speed Radio, Esteve",
         181584
        ],
        [
         "Cardinal",
         62,
         "2024-03-15",
         "Kacey Musgraves",
         191413
        ],
        [
         "Lighter",
         61,
         "2024-05-17",
         "Galantis, David Guetta, 5 Seconds of Summer",
         172268
        ],
        [
         "Overtime (feat. Kacey Musgraves)",
         61,
         "2024-05-10",
         "Rainbow Kitten Surprise, Kacey Musgraves",
         173610
        ],
        [
         "More Than A Little Bit (feat. Tinashe)",
         61,
         "2024-06-07",
         "KAYTRANADA, Tinashe",
         174562
        ],
        [
         "Getting No Sleep",
         61,
         "2024-06-28",
         "Tinashe",
         192000
        ],
        [
         "Needs",
         61,
         "2023-09-08",
         "Tinashe",
         146791
        ],
        [
         "KNOCKA",
         60,
         "2024-04-26",
         "YG",
         150144
        ],
        [
         "Dancer",
         60,
         "2024-02-16",
         "IDLES, LCD Soundsystem",
         189493
        ],
        [
         "Our Song",
         60,
         "2021-07-23",
         "Anne-Marie, Niall Horan",
         163733
        ],
        [
         "Heartbreak Anthem",
         59,
         "2024-05-17",
         "Galantis, David Guetta, Little Mix",
         183725
        ],
        [
         "Black Out Days - Subtronics Remix",
         59,
         "2023-06-16",
         "Phantogram, Subtronics",
         208457
        ],
        [
         "Like I Do (Jay Park Remix)",
         59,
         "2024-04-25",
         "Jay Park",
         130373
        ],
        [
         "She Likes It (feat. Jake Scott)",
         59,
         "2022-11-04",
         "Russell Dickerson, Jake Scott",
         163311
        ],
        [
         "Modern Girl",
         59,
         "2024-03-08",
         "Bleachers",
         223100
        ],
        [
         "Tiny Moves",
         59,
         "2024-03-08",
         "Bleachers",
         228381
        ],
        [
         "GANADARA (Feat. IU)",
         58,
         "2022-03-11",
         "Jay Park, IU",
         203727
        ],
        [
         "Still Life",
         58,
         "2022-04-05",
         "BIGBANG",
         188369
        ],
        [
         "God Gave Me A Girl",
         58,
         "2022-11-04",
         "Russell Dickerson",
         187226
        ],
        [
         "She Calls Me Back (with Kacey Musgraves)",
         57,
         "2024-02-09",
         "Noah Kahan, Kacey Musgraves",
         243962
        ],
        [
         "STAYING ALIVE (feat. Drake & Lil Baby)",
         57,
         "2022-08-26",
         "DJ Khaled, Drake, Lil Baby",
         178176
        ],
        [
         "Black Out Days - Future Islands Remix (Slowed)",
         56,
         "2021-09-10",
         "Phantogram, xxtristanxo, Slowed Radio, Future Islands",
         214394
        ],
        [
         "One Cry (feat. Rosa Linn)",
         56,
         "2024-05-17",
         "Galantis, Rosa Linn",
         186790
        ],
        [
         "Big Time Nothing",
         56,
         "2024-04-26",
         "St. Vincent",
         178722
        ],
        [
         "I Don't Live Here Anymore (feat. Lucius)",
         56,
         "2021-10-29",
         "The War On Drugs, Lucius",
         327546
        ],
        [
         "Your/My",
         55,
         "2024-04-25",
         "Jay Park",
         219742
        ],
        [
         "妳在哪裡 (WYA)",
         55,
         "2023-07-30",
         "Jay Park, NINGNING",
         223728
        ],
        [
         "Broken Man",
         55,
         "2024-04-26",
         "St. Vincent",
         201533
        ],
        [
         "McNasty",
         54,
         "2024-06-30",
         "Jay Park",
         192378
        ],
        [
         "Black Ice (feat. Phantogram)",
         54,
         "2024-04-19",
         "Subtronics, Rezz, Phantogram",
         260001
        ],
        [
         "All A Mystery",
         54,
         "2024-05-31",
         "Phantogram",
         189053
        ],
        [
         "Pony",
         54,
         "2023-04-14",
         "Ginuwine",
         251733
        ],
        [
         "What’s My Name (with Queen Naija & Coi Leray)",
         53,
         "2022-04-08",
         "Fivio Foreign, Queen Naija, Coi Leray",
         201398
        ],
        [
         "More Than Yesterday (feat. Russell Dickerson)",
         53,
         "2023-05-10",
         "Two Friends, Russell Dickerson",
         187661
        ],
        [
         "Bury me (feat. Kelela)",
         53,
         "2023-11-10",
         "PinkPantheress, Kelela",
         124613
        ],
        [
         "Good Day To Have A Great Day",
         53,
         "2024-05-03",
         "Russell Dickerson",
         181471
        ],
        [
         "Run (with Galantis)",
         53,
         "2022-03-18",
         "Becky Hill, Galantis",
         190093
        ],
        [
         "Heatin' Things Up",
         53,
         "2024-04-26",
         "Josh Turner",
         178053
        ],
        [
         "New To You (with Normani, Tinashe & Offset)",
         53,
         "2022-08-05",
         "Calvin Harris, Normani, Tinashe, Offset",
         302613
        ],
        [
         "Brand New",
         52,
         "2023-09-29",
         "Tyga, YG, Lil Wayne",
         182532
        ],
        [
         "Drink Water (feat. Jon Bellion and Fireboy DML)",
         52,
         "2023-08-18",
         "Jon Batiste, Jon Bellion, Fireboy DML",
         169708
        ],
        [
         "Hate Our Love (with Big Sean)",
         52,
         "2022-02-04",
         "Queen Naija, Big Sean",
         226373
        ],
        [
         "Big Energy (feat. DJ Khaled) - Remix",
         52,
         "2022-03-25",
         "Latto, Mariah Carey, DJ Khaled",
         181665
        ],
        [
         "Anti-Hero (feat. Bleachers)",
         52,
         "2022-11-08",
         "Taylor Swift, Bleachers",
         228397
        ],
        [
         "Talk To Me Nice",
         52,
         "2023-09-08",
         "Tinashe",
         229844
        ],
        [
         "Wait on You",
         51,
         "2024-06-28",
         "Washed Out",
         176049
        ],
        [
         "Flea",
         51,
         "2024-04-26",
         "St. Vincent",
         226578
        ],
        [
         "Good Riddance",
         51,
         "2022-06-29",
         "Levi Hummon, Filmore, YA'BOYZ",
         142204
        ],
        [
         "I Remember",
         50,
         "2023-01-27",
         "Cheat Codes, Russell Dickerson",
         168117
        ],
        [
         "Chinatown (feat. Bruce Springsteen)",
         50,
         "2021-07-30",
         "Bleachers, Bruce Springsteen",
         244186
        ],
        [
         "Hell Is Near",
         50,
         "2024-04-26",
         "St. Vincent",
         248995
        ],
        [
         "Me Before You",
         49,
         "2024-03-08",
         "Bleachers",
         203519
        ],
        [
         "Down In Georgia",
         49,
         "2024-06-07",
         "Josh Turner",
         200853
        ],
        [
         "Harmonia's Dream",
         49,
         "2021-10-29",
         "The War On Drugs",
         386346
        ],
        [
         "Fire On Wheels",
         48,
         "2022-06-24",
         "Kip Moore",
         156973
        ],
        [
         "Violent Times",
         48,
         "2024-04-26",
         "St. Vincent",
         237029
        ],
        [
         "Reckless",
         48,
         "2024-04-26",
         "St. Vincent",
         237203
        ],
        [
         "Contact",
         47,
         "2023-02-10",
         "Kelela",
         240725
        ],
        [
         "Sweetest Fruit",
         47,
         "2024-04-26",
         "St. Vincent",
         235488
        ],
        [
         "Love Me Enough (feat. Monica & Keyshia Cole)",
         46,
         "2023-12-15",
         "Nicki Minaj, Monica, Keyshia Cole",
         230400
        ],
        [
         "Waking Up",
         45,
         "2024-06-28",
         "Washed Out",
         279958
        ],
        [
         "The Hardest Part",
         44,
         "2024-06-28",
         "Washed Out",
         245980
        ],
        [
         "Say Goodbye",
         44,
         "2024-06-28",
         "Washed Out",
         275661
        ],
        [
         "All or Nothing (feat. Ella Mai)",
         43,
         "2023-11-17",
         "Queen Naija, Ella Mai",
         190498
        ],
        [
         "Happy Ending",
         43,
         "2023-02-10",
         "Kelela",
         248817
        ],
        [
         "Screwin (with Omarion)",
         43,
         "2021-11-05",
         "Summer Walker, Omarion",
         333582
        ],
        [
         "Running Away",
         42,
         "2024-06-28",
         "Washed Out",
         238066
        ],
        [
         "Something We Can Make Love To",
         42,
         "2024-06-28",
         "Eric Benét, Tamar Braxton",
         211365
        ],
        [
         "Blue Hour",
         42,
         "2022-10-28",
         "Nosaj Thing, Julianna Barwick",
         211845
        ],
        [
         "Above The Law",
         42,
         "2023-11-10",
         "Rick Ross, Meek Mill, Teyana Taylor, DJ Khaled",
         212815
        ],
        [
         "Drunk I Am",
         42,
         "2022-04-19",
         "You Betcha Guy, Filmore",
         180637
        ],
        [
         "Complicated",
         41,
         "2021-07-30",
         "Leela James",
         244870
        ],
        [
         "On the Run",
         41,
         "2023-02-10",
         "Kelela",
         292824
        ],
        [
         "We Are (우리는) - Mixed",
         41,
         "2024-06-21",
         "Nosaj Thing, HYUKOH",
         174550
        ],
        [
         "Where My Wild Things Are",
         41,
         "2023-08-11",
         "Ryan Bingham",
         237781
        ],
        [
         "Serious",
         40,
         "2023-05-05",
         "Omarion",
         173604
        ],
        [
         "Washed Away",
         40,
         "2023-02-10",
         "Kelela",
         216178
        ],
        [
         "Sex Story",
         40,
         "2021-07-30",
         "Ar'mon & Trey",
         208626
        ],
        [
         "You're The One",
         39,
         "2021-07-30",
         "Leela James",
         214758
        ],
        [
         "One of them Days (feat. Monica)",
         38,
         "2023-11-17",
         "Queen Naija, Monica",
         155355
        ],
        [
         "Too Close",
         38,
         "2023-08-23",
         "Nosaj Thing, Jacques Greene, Ouri",
         224839
        ],
        [
         "Right Back In It",
         37,
         "2023-10-27",
         "Leela James",
         222588
        ],
        [
         "Changed",
         37,
         "2023-03-17",
         "Tamar Braxton",
         195082
        ],
        [
         "ONE IN A MILLION",
         37,
         "2024-06-11",
         "RAT BOY, lil aaron",
         196356
        ],
        [
         "Happy Ending - A.G Remix",
         36,
         "2024-02-09",
         "Kelela, A.G",
         195800
        ],
        [
         "CLOUDS",
         36,
         "2021-09-10",
         "박혜진 Park Hye Jin, Nosaj Thing",
         196007
        ],
        [
         "Notice Me",
         36,
         "2024-03-15",
         "Tamar Braxton",
         208992
        ],
        [
         "The Ocean - Acoustic Live In Studio (feat. Charlie Worsham)",
         36,
         "2022-09-23",
         "Jillian Jacqueline, Charlie Worsham",
         212932
        ],
        [
         "Thinkin' We're In Love",
         35,
         "2022-07-08",
         "Tyler Rich, Marie-Mai",
         228038
        ],
        [
         "South On Me",
         34,
         "2024-04-12",
         "Filmore",
         210293
        ],
        [
         "Betcha Gonna",
         33,
         "2024-07-05",
         "Filmore",
         173333
        ],
        [
         "A Little Bit Of You",
         33,
         "2021-11-12",
         "Tyler Rich",
         180374
        ],
        [
         "Condition",
         32,
         "2022-10-28",
         "Nosaj Thing, Toro y Moi",
         224393
        ],
        [
         "Take the Blame",
         31,
         "2021-07-30",
         "Ar'mon & Trey, Lil Tjay",
         213332
        ],
        [
         "Continua",
         30,
         "2022-10-28",
         "Nosaj Thing, Duval Timothy",
         189458
        ],
        [
         "Running Straight To You",
         29,
         "2024-06-21",
         "Sheppard",
         224524
        ],
        [
         "Sex Story",
         28,
         "2021-07-29",
         "Ar'mon & Trey",
         162461
        ],
        [
         "All 4 U",
         27,
         "2021-07-30",
         "Ar'mon & Trey",
         209620
        ],
        [
         "SUBURBIA CALLING",
         26,
         "2024-04-22",
         "RAT BOY",
         169245
        ],
        [
         "Next Up",
         26,
         "2022-02-18",
         "MiC LOWRY",
         212000
        ],
        [
         "First Love Story",
         24,
         "2022-03-03",
         "Baek A Yeon",
         207773
        ],
        [
         "Stay with me",
         24,
         "2021-07-28",
         "Baek A Yeon",
         236573
        ],
        [
         "USA",
         23,
         "2023-01-13",
         "Filmore, Pitbull",
         175752
        ],
        [
         "Monopoly",
         21,
         "2024-07-05",
         "MiC LOWRY",
         225232
        ],
        [
         "Creepin'",
         20,
         "2022-11-11",
         "MiC LOWRY, H33RA",
         225319
        ],
        [
         "Rest of Your Life",
         18,
         "2024-05-31",
         "Eric Ethridge",
         166630
        ],
        [
         "Somewhere With Beer",
         17,
         "2023-01-13",
         "Filmore",
         184167
        ],
        [
         "Irreversible Damage",
         15,
         "2023-02-24",
         "Algiers, Zack De La Rocha",
         282813
        ],
        [
         "Bite Back",
         14,
         "2023-02-24",
         "Algiers, billy woods, Backxwash",
         360657
        ],
        [
         "Family First",
         13,
         "2024-05-31",
         "Eric Ethridge",
         240187
        ],
        [
         "GOLD",
         8,
         "2023-05-03",
         "KOONTA, SKULL, Gwangil Jo",
         205546
        ],
        [
         "COUNT ON ME",
         7,
         "2023-11-13",
         "SKULL, Gwangil Jo",
         183768
        ],
        [
         "Because of You",
         5,
         "2024-04-01",
         "STi",
         252320
        ],
        [
         "STONY FREESTYLE",
         4,
         "2023-10-13",
         "SKULL, KOONTA",
         139746
        ],
        [
         "GO",
         3,
         "2023-08-06",
         "STi, LAUL",
         195346
        ],
        [
         "Wait For Rainbow",
         1,
         "2021-08-24",
         "STi",
         296181
        ]
       ],
       "datasetInfos": [],
       "dbfsResultPath": null,
       "isJsonSchema": true,
       "metadata": {},
       "overflow": false,
       "plotOptions": {
        "customPlotOptions": {},
        "displayType": "table",
        "pivotAggregation": null,
        "pivotColumns": null,
        "xColumns": null,
        "yColumns": null
       },
       "removedWidgets": [],
       "schema": [
        {
         "metadata": "{}",
         "name": "Track Name",
         "type": "\"string\""
        },
        {
         "metadata": "{}",
         "name": "Popularity",
         "type": "\"integer\""
        },
        {
         "metadata": "{}",
         "name": "Release Date",
         "type": "\"string\""
        },
        {
         "metadata": "{}",
         "name": "Artist",
         "type": "\"string\""
        },
        {
         "metadata": "{}",
         "name": "Duration (ms)",
         "type": "\"long\""
        }
       ],
       "type": "table"
      }
     },
     "output_type": "display_data"
    },
    {
     "output_type": "display_data",
     "data": {
      "text/plain": [
       "Databricks visualization. Run in Databricks to view."
      ]
     },
     "metadata": {
      "application/vnd.databricks.v1.subcommand+json": {
       "baseErrorDetails": null,
       "bindings": {},
       "collapsed": false,
       "command": "%python\n__backend_agg_display_orig = display\n__backend_agg_dfs = []\ndef __backend_agg_display_new(df):\n    __backend_agg_df_modules = [\"pandas.core.frame\", \"databricks.koalas.frame\", \"pyspark.sql.dataframe\", \"pyspark.pandas.frame\", \"pyspark.sql.connect.dataframe\"]\n    if (type(df).__module__ in __backend_agg_df_modules and type(df).__name__ == 'DataFrame') or isinstance(df, list):\n        __backend_agg_dfs.append(df)\n\ndisplay = __backend_agg_display_new\n\ndef __backend_agg_user_code_fn():\n    import base64\n    exec(base64.standard_b64decode(\"IyBEaXNwbGF5IHRyYWNrcyByZWxlYXNlZCBhZnRlciBKYW51YXJ5IDEsIDIwMjMsIGluY2x1ZGluZyB0aGVpciBuYW1lLCBwb3B1bGFyaXR5LCByZWxlYXNlIGRhdGUsIGFydGlzdCwgYW5kIGR1cmF0aW9uCmRpc3BsYXkoc29ydGVkX2RmLmZpbHRlcihjb2woIlJlbGVhc2UgRGF0ZSIpID4gIjIwMjEtMDctMDciKS5zZWxlY3QoIlRyYWNrIE5hbWUiLCAiUG9wdWxhcml0eSIsICJSZWxlYXNlIERhdGUiLCAiQXJ0aXN0IiwgIkR1cmF0aW9uIChtcykiKSk=\").decode())\n\ntry:\n    # run user code\n    __backend_agg_user_code_fn()\n\n    #reset display function\n    display = __backend_agg_display_orig\n\n    if len(__backend_agg_dfs) > 0:\n        # create a temp view\n        if type(__backend_agg_dfs[0]).__module__ == \"databricks.koalas.frame\":\n            # koalas dataframe\n            __backend_agg_dfs[0].to_spark().createOrReplaceTempView(\"DatabricksView65d9742\")\n        elif type(__backend_agg_dfs[0]).__module__ == \"pandas.core.frame\" or isinstance(__backend_agg_dfs[0], list):\n            # pandas dataframe\n            spark.createDataFrame(__backend_agg_dfs[0]).createOrReplaceTempView(\"DatabricksView65d9742\")\n        else:\n            __backend_agg_dfs[0].createOrReplaceTempView(\"DatabricksView65d9742\")\n        #run backend agg\n        display(spark.sql(\"\"\"WITH q AS (select * from DatabricksView65d9742) SELECT `Artist`,COUNT(`Track Name`) `column_6f17608e61`,AVG(`Popularity`) `column_6f17608e67` FROM q GROUP BY `Artist`\"\"\"))\n    else:\n        displayHTML(\"dataframe no longer exists. If you're using dataframe.display(), use display(dataframe) instead.\")\n\n\nfinally:\n    spark.sql(\"drop view if exists DatabricksView65d9742\")\n    display = __backend_agg_display_orig\n    del __backend_agg_display_new\n    del __backend_agg_display_orig\n    del __backend_agg_dfs\n    del __backend_agg_user_code_fn\n\n",
       "commandTitle": "Productivity and Popularity",
       "commandType": "auto",
       "commandVersion": 0,
       "commentThread": [],
       "commentsVisible": false,
       "contentSha256Hex": null,
       "customPlotOptions": {
        "redashChart": [
         {
          "key": "type",
          "value": "CHART"
         },
         {
          "key": "options",
          "value": {
           "alignYAxesAtZero": true,
           "coefficient": 1,
           "columnConfigurationMap": {
            "x": {
             "column": "Artist",
             "id": "column_6f17608e69"
            },
            "y": [
             {
              "column": "Track Name",
              "id": "column_6f17608e61",
              "transform": "COUNT"
             },
             {
              "column": "Popularity",
              "id": "column_6f17608e67",
              "transform": "AVG"
             }
            ]
           },
           "dateTimeFormat": "DD/MM/YYYY HH:mm",
           "direction": {
            "type": "counterclockwise"
           },
           "error_y": {
            "type": "data",
            "visible": true
           },
           "globalSeriesType": "combo",
           "isAggregationOn": true,
           "legend": {
            "traceorder": "normal"
           },
           "missingValuesAsZero": true,
           "numberFormat": "0,0.[00000]",
           "percentFormat": "0[.]00%",
           "series": {
            "error_y": {
             "type": "data",
             "visible": true
            },
            "stacking": null
           },
           "seriesOptions": {
            "column_6f17608e61": {
             "type": "column"
            },
            "column_6f17608e67": {
             "type": "line",
             "yAxis": 1
            }
           },
           "showDataLabels": false,
           "sizemode": "diameter",
           "sortX": true,
           "sortY": true,
           "swappedAxes": false,
           "textFormat": "",
           "useAggregationsUi": true,
           "valuesOptions": {},
           "version": 2,
           "xAxis": {
            "labels": {
             "enabled": true
            },
            "type": "-"
           },
           "yAxis": [
            {
             "title": {
              "text": "Number of track name"
             },
             "type": "-"
            },
            {
             "opposite": true,
             "title": {
              "text": "Average Popularity Score"
             },
             "type": "-"
            }
           ]
          }
         }
        ]
       },
       "datasetPreviewNameToCmdIdMap": {},
       "diffDeletes": [],
       "diffInserts": [],
       "displayType": "redashChart",
       "error": null,
       "errorDetails": null,
       "errorSummary": null,
       "errorTraceType": null,
       "finishTime": 0,
       "globalVars": {},
       "guid": "",
       "height": "auto",
       "hideCommandCode": false,
       "hideCommandResult": false,
       "iPythonMetadata": null,
       "inputWidgets": {},
       "isLockedInExamMode": false,
       "latestUser": "a user",
       "latestUserId": null,
       "listResultMetadata": null,
       "metadata": {
        "byteLimit": 2048000,
        "rowLimit": 10000
       },
       "nuid": "49b2dea5-4b02-4bbd-86d8-30bb45949f90",
       "origId": 0,
       "parentHierarchy": [],
       "pivotAggregation": null,
       "pivotColumns": null,
       "position": 19.0,
       "resultDbfsErrorMessage": null,
       "resultDbfsStatus": "INLINED_IN_TREE",
       "results": null,
       "showCommandTitle": false,
       "startTime": 0,
       "state": "finished",
       "streamStates": {},
       "subcommandOptions": {
        "queryPlan": {
         "groups": [
          {
           "column": "Artist",
           "type": "column"
          }
         ],
         "selects": [
          {
           "column": "Artist",
           "type": "column"
          },
          {
           "alias": "column_6f17608e61",
           "args": [
            {
             "column": "Track Name",
             "type": "column"
            }
           ],
           "function": "COUNT",
           "type": "function"
          },
          {
           "alias": "column_6f17608e67",
           "args": [
            {
             "column": "Popularity",
             "type": "column"
            }
           ],
           "function": "AVG",
           "type": "function"
          }
         ]
        }
       },
       "submitTime": 0,
       "subtype": "tableResultSubCmd.visualization",
       "tableResultIndex": 0,
       "useConsistentColors": false,
       "version": "CommandV1",
       "width": "auto",
       "workflows": [],
       "xColumns": null,
       "yColumns": null
      }
     },
     "output_type": "display_data"
    }
   ],
   "source": [
    "# Display tracks released after January 1, 2023, including their name, popularity, release date, artist, and duration\n",
    "display(sorted_df.filter(col(\"Release Date\") > \"2021-07-07\").select(\"Track Name\", \"Popularity\", \"Release Date\", \"Artist\", \"Duration (ms)\"))"
   ]
  },
  {
   "cell_type": "markdown",
   "metadata": {
    "application/vnd.databricks.v1+cell": {
     "cellMetadata": {
      "byteLimit": 2048000,
      "rowLimit": 10000
     },
     "inputWidgets": {},
     "nuid": "586c69a1-6393-4391-bb5f-e451f4489e0b",
     "showTitle": false,
     "title": ""
    }
   },
   "source": [
    "# FETCHING DATA FROM SPOTIFY API TO CHECK THE TOP TRACK OF A SPECIFIC ARTIST"
   ]
  },
  {
   "cell_type": "markdown",
   "metadata": {
    "application/vnd.databricks.v1+cell": {
     "cellMetadata": {
      "byteLimit": 2048000,
      "rowLimit": 10000
     },
     "inputWidgets": {},
     "nuid": "300f2556-b49e-4c8d-ad32-16803f5ac2b5",
     "showTitle": false,
     "title": ""
    }
   },
   "source": [
    "Moreover, we can also extract data from one specific artist and his top tracks to get some insights\n"
   ]
  },
  {
   "cell_type": "code",
   "execution_count": 0,
   "metadata": {
    "application/vnd.databricks.v1+cell": {
     "cellMetadata": {
      "byteLimit": 2048000,
      "rowLimit": 10000
     },
     "inputWidgets": {},
     "nuid": "764050a6-f6b7-4bda-ac5e-0dae39804f89",
     "showTitle": false,
     "title": ""
    }
   },
   "outputs": [
    {
     "output_type": "execute_result",
     "data": {
      "text/plain": [
       "{'external_urls': {'spotify': 'https://open.spotify.com/artist/1Xyo4u8uXC1ZmMpatF05PJ'},\n",
       " 'followers': {'href': None, 'total': 85718694},\n",
       " 'genres': ['canadian contemporary r&b', 'canadian pop', 'pop'],\n",
       " 'href': 'https://api.spotify.com/v1/artists/1Xyo4u8uXC1ZmMpatF05PJ',\n",
       " 'id': '1Xyo4u8uXC1ZmMpatF05PJ',\n",
       " 'images': [{'height': 640,\n",
       "   'url': 'https://i.scdn.co/image/ab6761610000e5eb214f3cf1cbe7139c1e26ffbb',\n",
       "   'width': 640},\n",
       "  {'height': 320,\n",
       "   'url': 'https://i.scdn.co/image/ab67616100005174214f3cf1cbe7139c1e26ffbb',\n",
       "   'width': 320},\n",
       "  {'height': 160,\n",
       "   'url': 'https://i.scdn.co/image/ab6761610000f178214f3cf1cbe7139c1e26ffbb',\n",
       "   'width': 160}],\n",
       " 'name': 'The Weeknd',\n",
       " 'popularity': 93,\n",
       " 'type': 'artist',\n",
       " 'uri': 'spotify:artist:1Xyo4u8uXC1ZmMpatF05PJ'}"
      ]
     },
     "execution_count": 125,
     "metadata": {},
     "output_type": "execute_result"
    }
   ],
   "source": [
    "# Fetching details for the artist with the given ID\n",
    "sp.artist(\"1Xyo4u8uXC1ZmMpatF05PJ\")"
   ]
  },
  {
   "cell_type": "code",
   "execution_count": 0,
   "metadata": {
    "application/vnd.databricks.v1+cell": {
     "cellMetadata": {
      "byteLimit": 2048000,
      "rowLimit": 10000
     },
     "inputWidgets": {},
     "nuid": "f7465208-36b0-4492-b353-5b084b96e41e",
     "showTitle": false,
     "title": ""
    }
   },
   "outputs": [],
   "source": [
    "# Fetching the top tracks for the artist with the given ID (The Weeknd in this case)\n",
    "tracks = []\n",
    "artist_id = \"1Xyo4u8uXC1ZmMpatF05PJ\"\n",
    "    # Fetching the top tracks for the given artist ID\n",
    "top_tracks = sp.artist_top_tracks(artist_id)\n",
    "    # Appending the fetched top tracks to the tracks list\n",
    "tracks.append(top_tracks)"
   ]
  },
  {
   "cell_type": "markdown",
   "metadata": {
    "application/vnd.databricks.v1+cell": {
     "cellMetadata": {
      "byteLimit": 2048000,
      "rowLimit": 10000
     },
     "inputWidgets": {},
     "nuid": "3b330a32-a17b-4d97-91cc-a43abc90579a",
     "showTitle": false,
     "title": ""
    }
   },
   "source": [
    "# DATA CLEANING AND TRANSFORMATION\n"
   ]
  },
  {
   "cell_type": "code",
   "execution_count": 0,
   "metadata": {
    "application/vnd.databricks.v1+cell": {
     "cellMetadata": {
      "byteLimit": 2048000,
      "rowLimit": 10000
     },
     "inputWidgets": {},
     "nuid": "8560654c-c286-4c44-bbad-344dd8f6d1cf",
     "showTitle": false,
     "title": ""
    }
   },
   "outputs": [],
   "source": [
    "# Importing necessary libraries for creating a SparkSession and defining the schema for a DataFrame\n",
    "from pyspark.sql import SparkSession\n",
    "from pyspark.sql.types import StructType, StructField, StringType, LongType, IntegerType\n",
    "\n"
   ]
  },
  {
   "cell_type": "code",
   "execution_count": 0,
   "metadata": {
    "application/vnd.databricks.v1+cell": {
     "cellMetadata": {
      "byteLimit": 2048000,
      "rowLimit": 10000
     },
     "inputWidgets": {},
     "nuid": "be391c2b-337a-454e-95ad-eca5b9ef6f3b",
     "showTitle": false,
     "title": ""
    }
   },
   "outputs": [],
   "source": [
    "# Defining schema for the DataFrame\n",
    "schema = StructType([\n",
    "    StructField(\"Track ID\", StringType(), nullable=False),\n",
    "    StructField(\"Track Name\", StringType(), nullable=False),\n",
    "    StructField(\"Duration (ms)\", LongType(), nullable=False),\n",
    "    StructField(\"Popularity\", IntegerType(), nullable=False),\n",
    "    StructField(\"Album Name\", StringType(), nullable=False),\n",
    "    StructField(\"Album Type\", StringType(), nullable=False),\n",
    "    StructField(\"Release Date\", StringType(), nullable=False),\n",
    "    StructField(\"Artist\", StringType(), nullable=False)\n",
    "])"
   ]
  },
  {
   "cell_type": "code",
   "execution_count": 0,
   "metadata": {
    "application/vnd.databricks.v1+cell": {
     "cellMetadata": {
      "byteLimit": 2048000,
      "rowLimit": 10000
     },
     "inputWidgets": {},
     "nuid": "824b2a00-463b-449c-96e6-9214fba3ed25",
     "showTitle": false,
     "title": ""
    }
   },
   "outputs": [],
   "source": [
    "rows = []\n",
    "for track in tracks:\n",
    "    for track_data in track[\"tracks\"]:\n",
    "        track_id = track_data[\"id\"]\n",
    "        track_name = track_data[\"name\"]\n",
    "        track_duration = track_data[\"duration_ms\"]\n",
    "        track_popularity = track_data[\"popularity\"]\n",
    "        album_name = track_data[\"album\"][\"name\"]\n",
    "        album_type = track_data[\"album\"][\"album_type\"]\n",
    "        album_release_date = track_data[\"album\"][\"release_date\"]\n",
    "        # Combining artist names into a single string\n",
    "        artist_names = \", \".join([artist[\"name\"] for artist in track_data[\"artists\"]])\n",
    "        rows.append((track_id, track_name, track_duration, track_popularity, album_name, album_type, album_release_date, artist_names))\n",
    "# Creating a DataFrame from the collected rows with the predefined schema\n",
    "df = spark.createDataFrame(rows, schema)"
   ]
  },
  {
   "cell_type": "markdown",
   "metadata": {
    "application/vnd.databricks.v1+cell": {
     "cellMetadata": {
      "byteLimit": 2048000,
      "rowLimit": 10000
     },
     "inputWidgets": {},
     "nuid": "08250e96-c8f2-4006-8705-54391633d9d0",
     "showTitle": false,
     "title": ""
    }
   },
   "source": [
    "# BUILD THE DASHBOARD"
   ]
  },
  {
   "cell_type": "markdown",
   "metadata": {
    "application/vnd.databricks.v1+cell": {
     "cellMetadata": {
      "byteLimit": 2048000,
      "rowLimit": 10000
     },
     "inputWidgets": {},
     "nuid": "003d1fea-f2ae-45dd-87ce-16944d4b793d",
     "showTitle": false,
     "title": ""
    }
   },
   "source": [
    "Intepret the dashboard:\n",
    "1. The higher points on the graph represent the Weekend's most popular tracks over the years which are\n",
    "One Of The Girl, Binding Light, Starboy\n",
    "2. Evolution of Sound: \n",
    "There is a consistently increasing popularity score of the Weekend's songs which may suggest a successful adherence to a particular style, and some fluctuations could indicate experimentation or changes in musical direction.\n",
    "\n",
    "3. Audience Reception:\n",
    "A high and consistent popularity score also suggests a strong and loyal fan base"
   ]
  },
  {
   "cell_type": "code",
   "execution_count": 0,
   "metadata": {
    "application/vnd.databricks.v1+cell": {
     "cellMetadata": {
      "byteLimit": 2048000,
      "rowLimit": 10000
     },
     "inputWidgets": {},
     "nuid": "639bfa29-d14d-497f-b11f-d30590a19404",
     "showTitle": false,
     "title": ""
    }
   },
   "outputs": [
    {
     "output_type": "display_data",
     "data": {
      "text/html": [
       "<style scoped>\n",
       "  .table-result-container {\n",
       "    max-height: 300px;\n",
       "    overflow: auto;\n",
       "  }\n",
       "  table, th, td {\n",
       "    border: 1px solid black;\n",
       "    border-collapse: collapse;\n",
       "  }\n",
       "  th, td {\n",
       "    padding: 5px;\n",
       "  }\n",
       "  th {\n",
       "    text-align: left;\n",
       "  }\n",
       "</style><div class='table-result-container'><table class='table-result'><thead style='background-color: white'><tr><th>Track ID</th><th>Track Name</th><th>Duration (ms)</th><th>Popularity</th><th>Album Name</th><th>Album Type</th><th>Release Date</th><th>Artist</th></tr></thead><tbody><tr><td>7fBv7CLKzipRk6EC6TWHOB</td><td>The Hills</td><td>242253</td><td>84</td><td>Beauty Behind The Madness</td><td>album</td><td>2015-08-28</td><td>The Weeknd</td></tr><tr><td>2LBqCSwhJGcFQeTHMVGwy3</td><td>Die For You</td><td>260253</td><td>84</td><td>Starboy</td><td>album</td><td>2016-11-24</td><td>The Weeknd</td></tr><tr><td>5gDWsRxpJ2lZAffh5p7K0w</td><td>Stargirl Interlude</td><td>111626</td><td>83</td><td>Starboy</td><td>album</td><td>2016-11-24</td><td>The Weeknd, Lana Del Rey</td></tr><tr><td>7MXVkk9YMctZqd1Srtv4MB</td><td>Starboy</td><td>230453</td><td>88</td><td>Starboy</td><td>album</td><td>2016-11-25</td><td>The Weeknd, Daft Punk</td></tr><tr><td>09mEdoA6zrmBPgTEN5qXmN</td><td>Call Out My Name</td><td>228373</td><td>83</td><td>My Dear Melancholy,</td><td>album</td><td>2018-03-30</td><td>The Weeknd</td></tr><tr><td>0VjIjW4GlUZAMYd2vXMi3b</td><td>Blinding Lights</td><td>200040</td><td>88</td><td>After Hours</td><td>album</td><td>2020-03-20</td><td>The Weeknd</td></tr><tr><td>5QO79kh1waicV47BqGRL3g</td><td>Save Your Tears</td><td>215626</td><td>84</td><td>After Hours</td><td>album</td><td>2020-03-20</td><td>The Weeknd</td></tr><tr><td>2dHHgzDwk4BJdRwy9uXhTO</td><td>Creepin' (with The Weeknd & 21 Savage)</td><td>221520</td><td>83</td><td>HEROES & VILLAINS</td><td>album</td><td>2022-12-02</td><td>Metro Boomin, The Weeknd, 21 Savage</td></tr><tr><td>6WzRpISELf3YglGAh7TXcG</td><td>Popular (with Playboi Carti & Madonna) - From The Idol Vol. 1 (Music from the HBO Original Series)</td><td>215466</td><td>85</td><td>Popular (Music from the HBO Original Series)</td><td>single</td><td>2023-06-02</td><td>The Weeknd, Playboi Carti, Madonna</td></tr><tr><td>7CyPwkp0oE8Ro9Dd5CUDjW</td><td>One Of The Girls (with JENNIE, Lily Rose Depp)</td><td>244684</td><td>91</td><td>The Idol Episode 4 (Music from the HBO Original Series)</td><td>single</td><td>2023-06-23</td><td>The Weeknd, JENNIE, Lily-Rose Depp</td></tr></tbody></table></div>"
      ]
     },
     "metadata": {
      "application/vnd.databricks.v1+output": {
       "addedWidgets": {},
       "aggData": [],
       "aggError": "",
       "aggOverflow": false,
       "aggSchema": [],
       "aggSeriesLimitReached": false,
       "aggType": "",
       "arguments": {},
       "columnCustomDisplayInfos": {},
       "data": [
        [
         "7fBv7CLKzipRk6EC6TWHOB",
         "The Hills",
         242253,
         84,
         "Beauty Behind The Madness",
         "album",
         "2015-08-28",
         "The Weeknd"
        ],
        [
         "2LBqCSwhJGcFQeTHMVGwy3",
         "Die For You",
         260253,
         84,
         "Starboy",
         "album",
         "2016-11-24",
         "The Weeknd"
        ],
        [
         "5gDWsRxpJ2lZAffh5p7K0w",
         "Stargirl Interlude",
         111626,
         83,
         "Starboy",
         "album",
         "2016-11-24",
         "The Weeknd, Lana Del Rey"
        ],
        [
         "7MXVkk9YMctZqd1Srtv4MB",
         "Starboy",
         230453,
         88,
         "Starboy",
         "album",
         "2016-11-25",
         "The Weeknd, Daft Punk"
        ],
        [
         "09mEdoA6zrmBPgTEN5qXmN",
         "Call Out My Name",
         228373,
         83,
         "My Dear Melancholy,",
         "album",
         "2018-03-30",
         "The Weeknd"
        ],
        [
         "0VjIjW4GlUZAMYd2vXMi3b",
         "Blinding Lights",
         200040,
         88,
         "After Hours",
         "album",
         "2020-03-20",
         "The Weeknd"
        ],
        [
         "5QO79kh1waicV47BqGRL3g",
         "Save Your Tears",
         215626,
         84,
         "After Hours",
         "album",
         "2020-03-20",
         "The Weeknd"
        ],
        [
         "2dHHgzDwk4BJdRwy9uXhTO",
         "Creepin' (with The Weeknd & 21 Savage)",
         221520,
         83,
         "HEROES & VILLAINS",
         "album",
         "2022-12-02",
         "Metro Boomin, The Weeknd, 21 Savage"
        ],
        [
         "6WzRpISELf3YglGAh7TXcG",
         "Popular (with Playboi Carti & Madonna) - From The Idol Vol. 1 (Music from the HBO Original Series)",
         215466,
         85,
         "Popular (Music from the HBO Original Series)",
         "single",
         "2023-06-02",
         "The Weeknd, Playboi Carti, Madonna"
        ],
        [
         "7CyPwkp0oE8Ro9Dd5CUDjW",
         "One Of The Girls (with JENNIE, Lily Rose Depp)",
         244684,
         91,
         "The Idol Episode 4 (Music from the HBO Original Series)",
         "single",
         "2023-06-23",
         "The Weeknd, JENNIE, Lily-Rose Depp"
        ]
       ],
       "datasetInfos": [],
       "dbfsResultPath": null,
       "isJsonSchema": true,
       "metadata": {},
       "overflow": false,
       "plotOptions": {
        "customPlotOptions": {},
        "displayType": "table",
        "pivotAggregation": null,
        "pivotColumns": null,
        "xColumns": null,
        "yColumns": null
       },
       "removedWidgets": [],
       "schema": [
        {
         "metadata": "{}",
         "name": "Track ID",
         "type": "\"string\""
        },
        {
         "metadata": "{}",
         "name": "Track Name",
         "type": "\"string\""
        },
        {
         "metadata": "{}",
         "name": "Duration (ms)",
         "type": "\"long\""
        },
        {
         "metadata": "{}",
         "name": "Popularity",
         "type": "\"integer\""
        },
        {
         "metadata": "{}",
         "name": "Album Name",
         "type": "\"string\""
        },
        {
         "metadata": "{}",
         "name": "Album Type",
         "type": "\"string\""
        },
        {
         "metadata": "{}",
         "name": "Release Date",
         "type": "\"string\""
        },
        {
         "metadata": "{}",
         "name": "Artist",
         "type": "\"string\""
        }
       ],
       "type": "table"
      }
     },
     "output_type": "display_data"
    },
    {
     "output_type": "display_data",
     "data": {
      "text/plain": [
       "Databricks visualization. Run in Databricks to view."
      ]
     },
     "metadata": {
      "application/vnd.databricks.v1.subcommand+json": {
       "baseErrorDetails": null,
       "bindings": {},
       "collapsed": false,
       "command": "%python\n__backend_agg_display_orig = display\n__backend_agg_dfs = []\ndef __backend_agg_display_new(df):\n    __backend_agg_df_modules = [\"pandas.core.frame\", \"databricks.koalas.frame\", \"pyspark.sql.dataframe\", \"pyspark.pandas.frame\", \"pyspark.sql.connect.dataframe\"]\n    if (type(df).__module__ in __backend_agg_df_modules and type(df).__name__ == 'DataFrame') or isinstance(df, list):\n        __backend_agg_dfs.append(df)\n\ndisplay = __backend_agg_display_new\n\ndef __backend_agg_user_code_fn():\n    import base64\n    exec(base64.standard_b64decode(\"IyBSZW1vdmUgZHVwbGljYXRlIHZhbHVlcyBmcm9tIHRoZSBEYXRhRnJhbWUKZGYgPSBkZi5kcm9wRHVwbGljYXRlcygpCmRpc3BsYXkoZGYub3JkZXJCeShjb2woIlJlbGVhc2UgRGF0ZSIpLmFzYygpKSk=\").decode())\n\ntry:\n    # run user code\n    __backend_agg_user_code_fn()\n\n    #reset display function\n    display = __backend_agg_display_orig\n\n    if len(__backend_agg_dfs) > 0:\n        # create a temp view\n        if type(__backend_agg_dfs[0]).__module__ == \"databricks.koalas.frame\":\n            # koalas dataframe\n            __backend_agg_dfs[0].to_spark().createOrReplaceTempView(\"DatabricksView71b7f05\")\n        elif type(__backend_agg_dfs[0]).__module__ == \"pandas.core.frame\" or isinstance(__backend_agg_dfs[0], list):\n            # pandas dataframe\n            spark.createDataFrame(__backend_agg_dfs[0]).createOrReplaceTempView(\"DatabricksView71b7f05\")\n        else:\n            __backend_agg_dfs[0].createOrReplaceTempView(\"DatabricksView71b7f05\")\n        #run backend agg\n        display(spark.sql(\"\"\"WITH q AS (select * from DatabricksView71b7f05) SELECT `Track Name`,AVG(`Popularity`) `column_291eb15010` FROM q GROUP BY `Track Name`\"\"\"))\n    else:\n        displayHTML(\"dataframe no longer exists. If you're using dataframe.display(), use display(dataframe) instead.\")\n\n\nfinally:\n    spark.sql(\"drop view if exists DatabricksView71b7f05\")\n    display = __backend_agg_display_orig\n    del __backend_agg_display_new\n    del __backend_agg_display_orig\n    del __backend_agg_dfs\n    del __backend_agg_user_code_fn\n\n",
       "commandTitle": "Average popularity score for each top track throughout years",
       "commandType": "auto",
       "commandVersion": 0,
       "commentThread": [],
       "commentsVisible": false,
       "contentSha256Hex": null,
       "customPlotOptions": {
        "redashChart": [
         {
          "key": "type",
          "value": "CHART"
         },
         {
          "key": "options",
          "value": {
           "alignYAxesAtZero": true,
           "coefficient": 1,
           "columnConfigurationMap": {
            "x": {
             "column": "Track Name",
             "id": "column_291eb1508"
            },
            "y": [
             {
              "column": "Popularity",
              "id": "column_291eb15010",
              "transform": "AVG"
             }
            ]
           },
           "dateTimeFormat": "DD/MM/YYYY HH:mm",
           "direction": {
            "type": "counterclockwise"
           },
           "error_y": {
            "type": "data",
            "visible": true
           },
           "globalSeriesType": "line",
           "isAggregationOn": true,
           "legend": {
            "traceorder": "normal"
           },
           "missingValuesAsZero": true,
           "numberFormat": "0,0.[00000]",
           "percentFormat": "0[.]00%",
           "series": {
            "error_y": {
             "type": "data",
             "visible": true
            },
            "stacking": null
           },
           "seriesOptions": {
            "column_291eb15010": {
             "type": "line",
             "yAxis": 0
            }
           },
           "showDataLabels": false,
           "sizemode": "diameter",
           "sortX": false,
           "sortY": true,
           "swappedAxes": false,
           "textFormat": "",
           "useAggregationsUi": true,
           "valuesOptions": {},
           "version": 2,
           "xAxis": {
            "labels": {
             "enabled": true
            },
            "type": "-"
           },
           "yAxis": [
            {
             "title": {
              "text": "Average Popularity Score"
             },
             "type": "-"
            },
            {
             "opposite": true,
             "type": "-"
            }
           ]
          }
         }
        ]
       },
       "datasetPreviewNameToCmdIdMap": {},
       "diffDeletes": [],
       "diffInserts": [],
       "displayType": "redashChart",
       "error": null,
       "errorDetails": null,
       "errorSummary": null,
       "errorTraceType": null,
       "finishTime": 0,
       "globalVars": {},
       "guid": "",
       "height": "auto",
       "hideCommandCode": false,
       "hideCommandResult": false,
       "iPythonMetadata": null,
       "inputWidgets": {},
       "isLockedInExamMode": false,
       "latestUser": "a user",
       "latestUserId": null,
       "listResultMetadata": null,
       "metadata": {
        "byteLimit": 2048000,
        "rowLimit": 10000
       },
       "nuid": "f4cb5b42-0ce2-4b40-8256-299ee93e751d",
       "origId": 0,
       "parentHierarchy": [],
       "pivotAggregation": null,
       "pivotColumns": null,
       "position": 26.0,
       "resultDbfsErrorMessage": null,
       "resultDbfsStatus": "INLINED_IN_TREE",
       "results": null,
       "showCommandTitle": false,
       "startTime": 0,
       "state": "finished",
       "streamStates": {},
       "subcommandOptions": {
        "queryPlan": {
         "groups": [
          {
           "column": "Track Name",
           "type": "column"
          }
         ],
         "selects": [
          {
           "column": "Track Name",
           "type": "column"
          },
          {
           "alias": "column_291eb15010",
           "args": [
            {
             "column": "Popularity",
             "type": "column"
            }
           ],
           "function": "AVG",
           "type": "function"
          }
         ]
        }
       },
       "submitTime": 0,
       "subtype": "tableResultSubCmd.visualization",
       "tableResultIndex": 0,
       "useConsistentColors": false,
       "version": "CommandV1",
       "width": "auto",
       "workflows": [],
       "xColumns": null,
       "yColumns": null
      }
     },
     "output_type": "display_data"
    }
   ],
   "source": [
    "# Remove duplicate values from the DataFrame\n",
    "df = df.dropDuplicates()\n",
    "display(df.orderBy(col(\"Release Date\").asc()))"
   ]
  },
  {
   "cell_type": "markdown",
   "metadata": {
    "application/vnd.databricks.v1+cell": {
     "cellMetadata": {
      "byteLimit": 2048000,
      "rowLimit": 10000
     },
     "inputWidgets": {},
     "nuid": "de5393ca-6293-476a-b799-2fe5969a7772",
     "showTitle": false,
     "title": ""
    }
   },
   "source": [
    "# FETCHING DATA TO TRACK POPULARITY SCORE OF SOME KIND OF GENRES ACROSS COMBINATION OF MARKETS"
   ]
  },
  {
   "cell_type": "code",
   "execution_count": 0,
   "metadata": {
    "application/vnd.databricks.v1+cell": {
     "cellMetadata": {
      "byteLimit": 2048000,
      "rowLimit": 10000
     },
     "inputWidgets": {},
     "nuid": "4afd4361-fd56-434f-8cb3-fd7bd2bffa35",
     "showTitle": false,
     "title": ""
    }
   },
   "outputs": [
    {
     "output_type": "display_data",
     "data": {
      "text/html": [
       "<style scoped>\n",
       "  .table-result-container {\n",
       "    max-height: 300px;\n",
       "    overflow: auto;\n",
       "  }\n",
       "  table, th, td {\n",
       "    border: 1px solid black;\n",
       "    border-collapse: collapse;\n",
       "  }\n",
       "  th, td {\n",
       "    padding: 5px;\n",
       "  }\n",
       "  th {\n",
       "    text-align: left;\n",
       "  }\n",
       "</style><div class='table-result-container'><table class='table-result'><thead style='background-color: white'><tr><th>name</th><th>id</th><th>market</th><th>popularity</th></tr></thead><tbody><tr><td>Calvin Harris</td><td>7CajNmpbOovFoOoasH2HaY</td><td>List(AU, BR, CA, FR, US, JP)</td><td>83</td></tr><tr><td>Miley Cyrus</td><td>5YGY8feqx7naU7z4HrwZM6</td><td>List(AU, BR, CA, FR, US, JP)</td><td>76</td></tr><tr><td>Snakehips</td><td>2FwJwEswyIUAljqgjNSHgP</td><td>List(AU, BR, CA, FR, US, JP)</td><td>51</td></tr><tr><td>Bryson Tiller</td><td>2EMAnMvWE2eb56ToJVfCWs</td><td>List(AU, BR, CA, FR, US, JP)</td><td>80</td></tr><tr><td>Selena Gomez</td><td>0C8ZW7ezQVs4URX5aX7Kqx</td><td>List(AU, BR, FR, KR)</td><td>65</td></tr><tr><td>Future</td><td>1RyvyyTE3xzB2ZywiAwp0i</td><td>List(AU, BR, CA, FR, US, JP)</td><td>61</td></tr><tr><td>ScHoolboy Q</td><td>5IcR3N7QB1j6KBL8eImZ8m</td><td>List(AU, BR, CA, FR, US, JP, KR)</td><td>58</td></tr><tr><td>Katy Perry</td><td>6jJ0s89eD6GaHleKKya26X</td><td>List(AU, BR, CA, FR, US, JP, KR)</td><td>74</td></tr><tr><td>XXXTENTACION</td><td>15UsOTVnJzReFVN1VCnxy4</td><td>List(AU, BR, CA, FR, US, JP, KR)</td><td>82</td></tr><tr><td>The Chainsmokers</td><td>69GGBxA162lTqCwzJG5jLp</td><td>List()</td><td>0</td></tr><tr><td>Lana Del Rey</td><td>00FQb4jTyendYWaN8pK0wa</td><td>List()</td><td>0</td></tr><tr><td>Pitbull</td><td>0TnOYISbd1XYRBk9myaseg</td><td>List(AU, BR, CA, FR, US, JP)</td><td>84</td></tr><tr><td>Marshmello</td><td>64KEffDW9EtZ1y2vBYgq8T</td><td>List(AU, BR, CA, FR, US, JP, KR)</td><td>75</td></tr><tr><td>Matoma</td><td>4YXycRbyyAE0wozTk7QMEq</td><td>List(US)</td><td>41</td></tr><tr><td>Drake</td><td>3TVXtAsR1Inumwj472S9r4</td><td>List(AU, BR, CA, FR, US, JP, KR)</td><td>72</td></tr><tr><td>Jason Derulo</td><td>07YZf4WDAMNwqr4jfgOZ8y</td><td>List(AU, BR, CA, FR, US, JP, KR)</td><td>77</td></tr><tr><td>PnB Rock</td><td>21WS9wngs9AqFckK7yYJPM</td><td>List(AU, BR, CA, FR, US, JP, KR)</td><td>68</td></tr><tr><td>KYLE</td><td>4qBgvVog0wzW75IQ48mU7v</td><td>List(AU, BR, CA, FR, US, JP, KR)</td><td>57</td></tr><tr><td>Kevin Gates</td><td>1gPhS1zisyXr5dHTYZyiMe</td><td>List(AU, BR, CA, FR, US, JP, KR)</td><td>60</td></tr><tr><td>Cheat Codes</td><td>7DMveApC7UnC2NPfPvlHSU</td><td>List(AU, BR, FR, JP)</td><td>54</td></tr><tr><td>Iggy Azalea</td><td>5yG7ZAZafVaAlMTeBybKAL</td><td>List(BR, FR, JP, KR)</td><td>66</td></tr><tr><td>Young Thug</td><td>50co4Is1HCEo8bhOyUWKpn</td><td>List(AU, BR, CA, FR, US, JP, KR)</td><td>65</td></tr><tr><td>Jonas Blue</td><td>1HBjj22wzbscIZ9sEb5dyf</td><td>List(AU, BR, CA, FR, US, JP, KR)</td><td>57</td></tr><tr><td>Camila Cabello</td><td>4nDoRrQiYLoBzwC5BhVJzF</td><td>List(AU, BR, CA, FR, US, JP)</td><td>56</td></tr><tr><td>Nause</td><td>4PVn1b2WnnXdq80C7uaZLZ</td><td>List(AU, BR, CA, FR, US, JP, KR)</td><td>44</td></tr><tr><td>Cheat Codes</td><td>7DMveApC7UnC2NPfPvlHSU</td><td>List(AU, BR, CA, FR, US, JP, KR)</td><td>57</td></tr><tr><td>OMI</td><td>5MouCg6ta7zAxsfMEbc1uh</td><td>List(AU, BR, CA, FR, JP)</td><td>81</td></tr><tr><td>Eminem</td><td>7dGJo4pcD2V6oG8kP0tJRR</td><td>List()</td><td>0</td></tr><tr><td>Dimitri Vegas & Like Mike</td><td>73jBynjsVtofjRpdpRAJGk</td><td>List(AU, BR, CA, FR, US, JP)</td><td>53</td></tr><tr><td>YG</td><td>0A0FS04o6zMoto8OKPsDwY</td><td>List()</td><td>0</td></tr><tr><td>French Montana</td><td>6vXTefBL93Dj5IqAWq6OTv</td><td>List(AU, BR, CA, FR, US, JP)</td><td>86</td></tr><tr><td>Migos</td><td>6oMuImdp5ZcFhWP0ESe6mG</td><td>List(AU, BR, CA, FR, US, JP, KR)</td><td>71</td></tr><tr><td>A R I Z O N A</td><td>7hOGhpa8RMSuDOWntGIAJt</td><td>List(AU, BR, CA, FR, US, JP, KR)</td><td>56</td></tr><tr><td>Lady Gaga</td><td>1HY2Jd0NmPuamShAr6KMms</td><td>List(AU, BR, CA, FR, US, KR)</td><td>74</td></tr><tr><td>The Script</td><td>3AQRLZ9PuTAozP28Skbq8V</td><td>List(AU, BR, CA, FR, US, JP)</td><td>72</td></tr><tr><td>FRENSHIP</td><td>7xEFii6utZmQ61kX59HmLH</td><td>List(AU, BR, CA, FR, US, JP)</td><td>65</td></tr><tr><td>Rae Sremmurd</td><td>7iZtZyCzp3LItcw1wtPI3D</td><td>List(AU, BR, CA, FR, US, JP, KR)</td><td>54</td></tr><tr><td>Daft Punk</td><td>4tZwfgrHOc3mvqYlEYSvVi</td><td>List(AU, BR, CA, FR, US, JP)</td><td>81</td></tr><tr><td>Selena Gomez</td><td>0C8ZW7ezQVs4URX5aX7Kqx</td><td>List(AU, BR, CA, FR, US, JP, KR)</td><td>72</td></tr><tr><td>Tove Lo</td><td>4NHQUGzhtTLFvgF5SZesLK</td><td>List(AU, BR, CA, FR, US, JP, KR)</td><td>60</td></tr><tr><td>Trey Songz</td><td>2iojnBLj0qIMiKPvVhLnsH</td><td>List(AU, BR, CA, FR, US, JP, KR)</td><td>31</td></tr><tr><td>Flo Rida</td><td>0jnsk9HBra6NMjO2oANoPY</td><td>List(AU, BR, CA, FR, US, JP, KR)</td><td>55</td></tr><tr><td>Khalid</td><td>6LuN9FCkKOj5PcnpouEgny</td><td>List(AU, BR, CA, FR, US, JP)</td><td>71</td></tr><tr><td>ZAYN</td><td>5ZsFI1h6hIdQRw2ti0hz81</td><td>List()</td><td>0</td></tr><tr><td>DJ Snake</td><td>540vIaP2JwjQb9dm3aArA4</td><td>List(AU, BR, CA, FR, US, JP, KR)</td><td>83</td></tr><tr><td>Travis Scott</td><td>0Y5tJX1MQlPlqiwlOH1tJY</td><td>List(AU, BR, CA, FR, US, JP)</td><td>86</td></tr><tr><td>Anne-Marie</td><td>1zNqDE7qDGCsyzJwohVaoX</td><td>List(AU, BR, CA, FR, US, JP, KR)</td><td>63</td></tr><tr><td>Troye Sivan</td><td>3WGpXCj9YhhfX11TToZcXP</td><td>List()</td><td>0</td></tr><tr><td>Justin Timberlake</td><td>31TPClRtHm23RisEBtV3X7</td><td>List(AU, BR, CA, FR, US, JP)</td><td>79</td></tr><tr><td>Kid Ink</td><td>6KZDXtSj0SzGOV705nNeh3</td><td>List(AU, BR, CA, FR, US, JP)</td><td>60</td></tr><tr><td>Lorde</td><td>163tK9Wjr9P9DmM0AVK7lm</td><td>List(AU, BR, CA, FR, US, KR)</td><td>77</td></tr><tr><td>Paramore</td><td>74XFHRwlV6OrjEM0A2NCMF</td><td>List(AU, BR, CA, FR, US, JP, KR)</td><td>73</td></tr><tr><td>The Weeknd</td><td>1Xyo4u8uXC1ZmMpatF05PJ</td><td>List()</td><td>0</td></tr><tr><td>Jess Glynne</td><td>4ScCswdRlyA23odg9thgIO</td><td>List()</td><td>60</td></tr><tr><td>Demi Lovato</td><td>6S2OmqARrzebs0tKUEyXyp</td><td>List(AU, BR, CA, FR, US, JP, KR)</td><td>59</td></tr><tr><td>Ty Dolla $ign</td><td>7c0XG5cIJTrrAgEC3ULPiq</td><td>List()</td><td>0</td></tr><tr><td>Pitbull</td><td>0TnOYISbd1XYRBk9myaseg</td><td>List(BR, CA, FR, US, JP)</td><td>84</td></tr><tr><td>Trey Songz</td><td>2iojnBLj0qIMiKPvVhLnsH</td><td>List(AU, BR, CA, FR, US, JP, KR)</td><td>66</td></tr><tr><td>Lady Gaga</td><td>1HY2Jd0NmPuamShAr6KMms</td><td>List()</td><td>3</td></tr><tr><td>Tory Lanez</td><td>2jku7tDXc6XoB6MO2hFuqg</td><td>List(AU, BR, CA, FR, US, JP, KR)</td><td>67</td></tr><tr><td>The Weeknd</td><td>1Xyo4u8uXC1ZmMpatF05PJ</td><td>List(CA, US)</td><td>71</td></tr><tr><td>Lukas Graham</td><td>25u4wHJWxCA9vO0CzxAbK7</td><td>List()</td><td>45</td></tr><tr><td>Jeremih</td><td>3KV3p5EY4AvKxOlhGHORLg</td><td>List(AU, BR, CA, FR, US, JP, KR)</td><td>67</td></tr><tr><td>Alan Walker</td><td>7vk5e3vY1uw9plTHJAMwjN</td><td>List(AU, BR, CA, FR, US, JP)</td><td>60</td></tr><tr><td>Britney Spears</td><td>26dSoYclwsYLMAKD3tpOr4</td><td>List()</td><td>0</td></tr><tr><td>Maroon 5</td><td>04gDigrS5kc9YWfZHwBETP</td><td>List(AU, BR, FR, KR)</td><td>71</td></tr><tr><td>Charlie Puth</td><td>6VuMaDnrHyPL1p4EHjYLi7</td><td>List()</td><td>58</td></tr><tr><td>G-Eazy</td><td>02kJSzxNuaWGqwubyUba0Z</td><td>List(AU, BR, CA, FR, US, JP)</td><td>67</td></tr><tr><td>Shawn Mendes</td><td>7n2wHs1TKAczGzO7Dd2rGr</td><td>List(AU, BR, CA, FR, US, JP, KR)</td><td>78</td></tr><tr><td>Chris Brown</td><td>7bXgB6jMjp9ATFy66eO08Z</td><td>List(AU, BR, CA, FR, US, JP)</td><td>62</td></tr><tr><td>Bruno Mars</td><td>0du5cEVh5yTK9QJze8zA0C</td><td>List(AU, BR, CA, FR, US, JP, KR)</td><td>73</td></tr><tr><td>Ariana Grande</td><td>66CXWjxzNUsdJxJ2JdwvnR</td><td>List(AU, BR, CA, FR, US, JP, KR)</td><td>70</td></tr><tr><td>Meghan Trainor</td><td>6JL8zeS1NmiOftqZTRgdTz</td><td>List(AU, BR, CA, US, JP)</td><td>76</td></tr><tr><td>Sam Hunt</td><td>2kucQ9jQwuD8jWdtR9Ef38</td><td>List(AU, BR, CA, FR, US, JP, KR)</td><td>68</td></tr><tr><td>Ellie Goulding</td><td>0X2BH1fck6amBIoJhDVmmJ</td><td>List(CA, US)</td><td>62</td></tr><tr><td>Lil Baby</td><td>5f7VJjfbwm532GiveGC0ZK</td><td>List(AU, BR, CA, FR, US, JP, KR)</td><td>77</td></tr><tr><td>Maroon 5</td><td>04gDigrS5kc9YWfZHwBETP</td><td>List(AU, BR, FR, JP, KR)</td><td>80</td></tr><tr><td>KYLE</td><td>4qBgvVog0wzW75IQ48mU7v</td><td>List(AU, BR, CA, FR, US, JP, KR)</td><td>63</td></tr><tr><td>Jax Jones</td><td>4Q6nIcaBED8qUel8bBx6Cr</td><td>List(BR, CA, FR, US, JP, KR)</td><td>61</td></tr><tr><td>Macklemore & Ryan Lewis</td><td>6WLvgbfYXQPO396oJEYCsi</td><td>List(AU, BR, CA, US, JP, KR)</td><td>78</td></tr><tr><td>Selena Gomez</td><td>0C8ZW7ezQVs4URX5aX7Kqx</td><td>List(AU, BR, CA, FR, US, JP, KR)</td><td>75</td></tr><tr><td>Fergie</td><td>3r17AfJCCUqC9Lf0OAc73G</td><td>List()</td><td>0</td></tr><tr><td>One Direction</td><td>4AK6F7OLvEQ5QYCBNiQWHq</td><td>List(AU, BR, CA, FR, US, JP)</td><td>83</td></tr><tr><td>Birdy</td><td>2WX2uTcsvV5OnS0inACecP</td><td>List(AU, BR, CA, FR, US, JP, KR)</td><td>69</td></tr><tr><td>Justin Bieber</td><td>1uNFoZAHBGtllmzznpCI3s</td><td>List(AU, BR, CA, FR, US, JP, KR)</td><td>79</td></tr><tr><td>DJ Snake</td><td>540vIaP2JwjQb9dm3aArA4</td><td>List(AU, BR, CA, FR, US, JP)</td><td>69</td></tr><tr><td>French Montana</td><td>6vXTefBL93Dj5IqAWq6OTv</td><td>List(AU, BR, CA, FR, US, JP)</td><td>45</td></tr><tr><td>Ariana Grande</td><td>66CXWjxzNUsdJxJ2JdwvnR</td><td>List()</td><td>1</td></tr><tr><td>Drake</td><td>3TVXtAsR1Inumwj472S9r4</td><td>List(AU, BR, CA, FR, KR)</td><td>73</td></tr><tr><td>James Hersey</td><td>0lzV2CiahHRiGd6qpADtPS</td><td>List()</td><td>0</td></tr><tr><td>GASHI</td><td>0JOxt5QOwq0czoJxvSc5hS</td><td>List(AU, BR, CA, FR, US, JP)</td><td>53</td></tr><tr><td>Passenger</td><td>0gadJ2b9A4SKsB1RFkBb66</td><td>List()</td><td>0</td></tr><tr><td>Martin Garrix</td><td>60d24wfXkVzDSfLS6hyCjZ</td><td>List(JP)</td><td>6</td></tr><tr><td>Nicki Minaj</td><td>0hCNtLu0JehylgoiP8L4Gh</td><td>List(AU, BR, CA, FR, US, JP, KR)</td><td>59</td></tr><tr><td>Playboi Carti</td><td>699OTQXzgjhIYAHMy9RyPD</td><td>List(AU, BR, CA, FR, US, JP, KR)</td><td>78</td></tr><tr><td>Big Shaq</td><td>7mnAzEmgquhrVtGob81SmO</td><td>List(AU, BR, CA, FR, US, JP, KR)</td><td>58</td></tr><tr><td>Calvin Harris</td><td>7CajNmpbOovFoOoasH2HaY</td><td>List(AU, BR, CA, FR, US, JP)</td><td>84</td></tr><tr><td>Jeremih</td><td>3KV3p5EY4AvKxOlhGHORLg</td><td>List(AU, BR, CA, FR, US, JP, KR)</td><td>73</td></tr><tr><td>DJ Khaled</td><td>0QHgL1lAIqAw0HtD7YldmP</td><td>List(US)</td><td>52</td></tr><tr><td>Lady Gaga</td><td>1HY2Jd0NmPuamShAr6KMms</td><td>List(AU, BR, CA, FR, US, JP, KR)</td><td>81</td></tr></tbody></table></div>"
      ]
     },
     "metadata": {
      "application/vnd.databricks.v1+output": {
       "addedWidgets": {},
       "aggData": [],
       "aggError": "",
       "aggOverflow": false,
       "aggSchema": [],
       "aggSeriesLimitReached": false,
       "aggType": "",
       "arguments": {},
       "columnCustomDisplayInfos": {},
       "data": [
        [
         "Calvin Harris",
         "7CajNmpbOovFoOoasH2HaY",
         [
          "AU",
          "BR",
          "CA",
          "FR",
          "US",
          "JP"
         ],
         83
        ],
        [
         "Miley Cyrus",
         "5YGY8feqx7naU7z4HrwZM6",
         [
          "AU",
          "BR",
          "CA",
          "FR",
          "US",
          "JP"
         ],
         76
        ],
        [
         "Snakehips",
         "2FwJwEswyIUAljqgjNSHgP",
         [
          "AU",
          "BR",
          "CA",
          "FR",
          "US",
          "JP"
         ],
         51
        ],
        [
         "Bryson Tiller",
         "2EMAnMvWE2eb56ToJVfCWs",
         [
          "AU",
          "BR",
          "CA",
          "FR",
          "US",
          "JP"
         ],
         80
        ],
        [
         "Selena Gomez",
         "0C8ZW7ezQVs4URX5aX7Kqx",
         [
          "AU",
          "BR",
          "FR",
          "KR"
         ],
         65
        ],
        [
         "Future",
         "1RyvyyTE3xzB2ZywiAwp0i",
         [
          "AU",
          "BR",
          "CA",
          "FR",
          "US",
          "JP"
         ],
         61
        ],
        [
         "ScHoolboy Q",
         "5IcR3N7QB1j6KBL8eImZ8m",
         [
          "AU",
          "BR",
          "CA",
          "FR",
          "US",
          "JP",
          "KR"
         ],
         58
        ],
        [
         "Katy Perry",
         "6jJ0s89eD6GaHleKKya26X",
         [
          "AU",
          "BR",
          "CA",
          "FR",
          "US",
          "JP",
          "KR"
         ],
         74
        ],
        [
         "XXXTENTACION",
         "15UsOTVnJzReFVN1VCnxy4",
         [
          "AU",
          "BR",
          "CA",
          "FR",
          "US",
          "JP",
          "KR"
         ],
         82
        ],
        [
         "The Chainsmokers",
         "69GGBxA162lTqCwzJG5jLp",
         [],
         0
        ],
        [
         "Lana Del Rey",
         "00FQb4jTyendYWaN8pK0wa",
         [],
         0
        ],
        [
         "Pitbull",
         "0TnOYISbd1XYRBk9myaseg",
         [
          "AU",
          "BR",
          "CA",
          "FR",
          "US",
          "JP"
         ],
         84
        ],
        [
         "Marshmello",
         "64KEffDW9EtZ1y2vBYgq8T",
         [
          "AU",
          "BR",
          "CA",
          "FR",
          "US",
          "JP",
          "KR"
         ],
         75
        ],
        [
         "Matoma",
         "4YXycRbyyAE0wozTk7QMEq",
         [
          "US"
         ],
         41
        ],
        [
         "Drake",
         "3TVXtAsR1Inumwj472S9r4",
         [
          "AU",
          "BR",
          "CA",
          "FR",
          "US",
          "JP",
          "KR"
         ],
         72
        ],
        [
         "Jason Derulo",
         "07YZf4WDAMNwqr4jfgOZ8y",
         [
          "AU",
          "BR",
          "CA",
          "FR",
          "US",
          "JP",
          "KR"
         ],
         77
        ],
        [
         "PnB Rock",
         "21WS9wngs9AqFckK7yYJPM",
         [
          "AU",
          "BR",
          "CA",
          "FR",
          "US",
          "JP",
          "KR"
         ],
         68
        ],
        [
         "KYLE",
         "4qBgvVog0wzW75IQ48mU7v",
         [
          "AU",
          "BR",
          "CA",
          "FR",
          "US",
          "JP",
          "KR"
         ],
         57
        ],
        [
         "Kevin Gates",
         "1gPhS1zisyXr5dHTYZyiMe",
         [
          "AU",
          "BR",
          "CA",
          "FR",
          "US",
          "JP",
          "KR"
         ],
         60
        ],
        [
         "Cheat Codes",
         "7DMveApC7UnC2NPfPvlHSU",
         [
          "AU",
          "BR",
          "FR",
          "JP"
         ],
         54
        ],
        [
         "Iggy Azalea",
         "5yG7ZAZafVaAlMTeBybKAL",
         [
          "BR",
          "FR",
          "JP",
          "KR"
         ],
         66
        ],
        [
         "Young Thug",
         "50co4Is1HCEo8bhOyUWKpn",
         [
          "AU",
          "BR",
          "CA",
          "FR",
          "US",
          "JP",
          "KR"
         ],
         65
        ],
        [
         "Jonas Blue",
         "1HBjj22wzbscIZ9sEb5dyf",
         [
          "AU",
          "BR",
          "CA",
          "FR",
          "US",
          "JP",
          "KR"
         ],
         57
        ],
        [
         "Camila Cabello",
         "4nDoRrQiYLoBzwC5BhVJzF",
         [
          "AU",
          "BR",
          "CA",
          "FR",
          "US",
          "JP"
         ],
         56
        ],
        [
         "Nause",
         "4PVn1b2WnnXdq80C7uaZLZ",
         [
          "AU",
          "BR",
          "CA",
          "FR",
          "US",
          "JP",
          "KR"
         ],
         44
        ],
        [
         "Cheat Codes",
         "7DMveApC7UnC2NPfPvlHSU",
         [
          "AU",
          "BR",
          "CA",
          "FR",
          "US",
          "JP",
          "KR"
         ],
         57
        ],
        [
         "OMI",
         "5MouCg6ta7zAxsfMEbc1uh",
         [
          "AU",
          "BR",
          "CA",
          "FR",
          "JP"
         ],
         81
        ],
        [
         "Eminem",
         "7dGJo4pcD2V6oG8kP0tJRR",
         [],
         0
        ],
        [
         "Dimitri Vegas & Like Mike",
         "73jBynjsVtofjRpdpRAJGk",
         [
          "AU",
          "BR",
          "CA",
          "FR",
          "US",
          "JP"
         ],
         53
        ],
        [
         "YG",
         "0A0FS04o6zMoto8OKPsDwY",
         [],
         0
        ],
        [
         "French Montana",
         "6vXTefBL93Dj5IqAWq6OTv",
         [
          "AU",
          "BR",
          "CA",
          "FR",
          "US",
          "JP"
         ],
         86
        ],
        [
         "Migos",
         "6oMuImdp5ZcFhWP0ESe6mG",
         [
          "AU",
          "BR",
          "CA",
          "FR",
          "US",
          "JP",
          "KR"
         ],
         71
        ],
        [
         "A R I Z O N A",
         "7hOGhpa8RMSuDOWntGIAJt",
         [
          "AU",
          "BR",
          "CA",
          "FR",
          "US",
          "JP",
          "KR"
         ],
         56
        ],
        [
         "Lady Gaga",
         "1HY2Jd0NmPuamShAr6KMms",
         [
          "AU",
          "BR",
          "CA",
          "FR",
          "US",
          "KR"
         ],
         74
        ],
        [
         "The Script",
         "3AQRLZ9PuTAozP28Skbq8V",
         [
          "AU",
          "BR",
          "CA",
          "FR",
          "US",
          "JP"
         ],
         72
        ],
        [
         "FRENSHIP",
         "7xEFii6utZmQ61kX59HmLH",
         [
          "AU",
          "BR",
          "CA",
          "FR",
          "US",
          "JP"
         ],
         65
        ],
        [
         "Rae Sremmurd",
         "7iZtZyCzp3LItcw1wtPI3D",
         [
          "AU",
          "BR",
          "CA",
          "FR",
          "US",
          "JP",
          "KR"
         ],
         54
        ],
        [
         "Daft Punk",
         "4tZwfgrHOc3mvqYlEYSvVi",
         [
          "AU",
          "BR",
          "CA",
          "FR",
          "US",
          "JP"
         ],
         81
        ],
        [
         "Selena Gomez",
         "0C8ZW7ezQVs4URX5aX7Kqx",
         [
          "AU",
          "BR",
          "CA",
          "FR",
          "US",
          "JP",
          "KR"
         ],
         72
        ],
        [
         "Tove Lo",
         "4NHQUGzhtTLFvgF5SZesLK",
         [
          "AU",
          "BR",
          "CA",
          "FR",
          "US",
          "JP",
          "KR"
         ],
         60
        ],
        [
         "Trey Songz",
         "2iojnBLj0qIMiKPvVhLnsH",
         [
          "AU",
          "BR",
          "CA",
          "FR",
          "US",
          "JP",
          "KR"
         ],
         31
        ],
        [
         "Flo Rida",
         "0jnsk9HBra6NMjO2oANoPY",
         [
          "AU",
          "BR",
          "CA",
          "FR",
          "US",
          "JP",
          "KR"
         ],
         55
        ],
        [
         "Khalid",
         "6LuN9FCkKOj5PcnpouEgny",
         [
          "AU",
          "BR",
          "CA",
          "FR",
          "US",
          "JP"
         ],
         71
        ],
        [
         "ZAYN",
         "5ZsFI1h6hIdQRw2ti0hz81",
         [],
         0
        ],
        [
         "DJ Snake",
         "540vIaP2JwjQb9dm3aArA4",
         [
          "AU",
          "BR",
          "CA",
          "FR",
          "US",
          "JP",
          "KR"
         ],
         83
        ],
        [
         "Travis Scott",
         "0Y5tJX1MQlPlqiwlOH1tJY",
         [
          "AU",
          "BR",
          "CA",
          "FR",
          "US",
          "JP"
         ],
         86
        ],
        [
         "Anne-Marie",
         "1zNqDE7qDGCsyzJwohVaoX",
         [
          "AU",
          "BR",
          "CA",
          "FR",
          "US",
          "JP",
          "KR"
         ],
         63
        ],
        [
         "Troye Sivan",
         "3WGpXCj9YhhfX11TToZcXP",
         [],
         0
        ],
        [
         "Justin Timberlake",
         "31TPClRtHm23RisEBtV3X7",
         [
          "AU",
          "BR",
          "CA",
          "FR",
          "US",
          "JP"
         ],
         79
        ],
        [
         "Kid Ink",
         "6KZDXtSj0SzGOV705nNeh3",
         [
          "AU",
          "BR",
          "CA",
          "FR",
          "US",
          "JP"
         ],
         60
        ],
        [
         "Lorde",
         "163tK9Wjr9P9DmM0AVK7lm",
         [
          "AU",
          "BR",
          "CA",
          "FR",
          "US",
          "KR"
         ],
         77
        ],
        [
         "Paramore",
         "74XFHRwlV6OrjEM0A2NCMF",
         [
          "AU",
          "BR",
          "CA",
          "FR",
          "US",
          "JP",
          "KR"
         ],
         73
        ],
        [
         "The Weeknd",
         "1Xyo4u8uXC1ZmMpatF05PJ",
         [],
         0
        ],
        [
         "Jess Glynne",
         "4ScCswdRlyA23odg9thgIO",
         [],
         60
        ],
        [
         "Demi Lovato",
         "6S2OmqARrzebs0tKUEyXyp",
         [
          "AU",
          "BR",
          "CA",
          "FR",
          "US",
          "JP",
          "KR"
         ],
         59
        ],
        [
         "Ty Dolla $ign",
         "7c0XG5cIJTrrAgEC3ULPiq",
         [],
         0
        ],
        [
         "Pitbull",
         "0TnOYISbd1XYRBk9myaseg",
         [
          "BR",
          "CA",
          "FR",
          "US",
          "JP"
         ],
         84
        ],
        [
         "Trey Songz",
         "2iojnBLj0qIMiKPvVhLnsH",
         [
          "AU",
          "BR",
          "CA",
          "FR",
          "US",
          "JP",
          "KR"
         ],
         66
        ],
        [
         "Lady Gaga",
         "1HY2Jd0NmPuamShAr6KMms",
         [],
         3
        ],
        [
         "Tory Lanez",
         "2jku7tDXc6XoB6MO2hFuqg",
         [
          "AU",
          "BR",
          "CA",
          "FR",
          "US",
          "JP",
          "KR"
         ],
         67
        ],
        [
         "The Weeknd",
         "1Xyo4u8uXC1ZmMpatF05PJ",
         [
          "CA",
          "US"
         ],
         71
        ],
        [
         "Lukas Graham",
         "25u4wHJWxCA9vO0CzxAbK7",
         [],
         45
        ],
        [
         "Jeremih",
         "3KV3p5EY4AvKxOlhGHORLg",
         [
          "AU",
          "BR",
          "CA",
          "FR",
          "US",
          "JP",
          "KR"
         ],
         67
        ],
        [
         "Alan Walker",
         "7vk5e3vY1uw9plTHJAMwjN",
         [
          "AU",
          "BR",
          "CA",
          "FR",
          "US",
          "JP"
         ],
         60
        ],
        [
         "Britney Spears",
         "26dSoYclwsYLMAKD3tpOr4",
         [],
         0
        ],
        [
         "Maroon 5",
         "04gDigrS5kc9YWfZHwBETP",
         [
          "AU",
          "BR",
          "FR",
          "KR"
         ],
         71
        ],
        [
         "Charlie Puth",
         "6VuMaDnrHyPL1p4EHjYLi7",
         [],
         58
        ],
        [
         "G-Eazy",
         "02kJSzxNuaWGqwubyUba0Z",
         [
          "AU",
          "BR",
          "CA",
          "FR",
          "US",
          "JP"
         ],
         67
        ],
        [
         "Shawn Mendes",
         "7n2wHs1TKAczGzO7Dd2rGr",
         [
          "AU",
          "BR",
          "CA",
          "FR",
          "US",
          "JP",
          "KR"
         ],
         78
        ],
        [
         "Chris Brown",
         "7bXgB6jMjp9ATFy66eO08Z",
         [
          "AU",
          "BR",
          "CA",
          "FR",
          "US",
          "JP"
         ],
         62
        ],
        [
         "Bruno Mars",
         "0du5cEVh5yTK9QJze8zA0C",
         [
          "AU",
          "BR",
          "CA",
          "FR",
          "US",
          "JP",
          "KR"
         ],
         73
        ],
        [
         "Ariana Grande",
         "66CXWjxzNUsdJxJ2JdwvnR",
         [
          "AU",
          "BR",
          "CA",
          "FR",
          "US",
          "JP",
          "KR"
         ],
         70
        ],
        [
         "Meghan Trainor",
         "6JL8zeS1NmiOftqZTRgdTz",
         [
          "AU",
          "BR",
          "CA",
          "US",
          "JP"
         ],
         76
        ],
        [
         "Sam Hunt",
         "2kucQ9jQwuD8jWdtR9Ef38",
         [
          "AU",
          "BR",
          "CA",
          "FR",
          "US",
          "JP",
          "KR"
         ],
         68
        ],
        [
         "Ellie Goulding",
         "0X2BH1fck6amBIoJhDVmmJ",
         [
          "CA",
          "US"
         ],
         62
        ],
        [
         "Lil Baby",
         "5f7VJjfbwm532GiveGC0ZK",
         [
          "AU",
          "BR",
          "CA",
          "FR",
          "US",
          "JP",
          "KR"
         ],
         77
        ],
        [
         "Maroon 5",
         "04gDigrS5kc9YWfZHwBETP",
         [
          "AU",
          "BR",
          "FR",
          "JP",
          "KR"
         ],
         80
        ],
        [
         "KYLE",
         "4qBgvVog0wzW75IQ48mU7v",
         [
          "AU",
          "BR",
          "CA",
          "FR",
          "US",
          "JP",
          "KR"
         ],
         63
        ],
        [
         "Jax Jones",
         "4Q6nIcaBED8qUel8bBx6Cr",
         [
          "BR",
          "CA",
          "FR",
          "US",
          "JP",
          "KR"
         ],
         61
        ],
        [
         "Macklemore & Ryan Lewis",
         "6WLvgbfYXQPO396oJEYCsi",
         [
          "AU",
          "BR",
          "CA",
          "US",
          "JP",
          "KR"
         ],
         78
        ],
        [
         "Selena Gomez",
         "0C8ZW7ezQVs4URX5aX7Kqx",
         [
          "AU",
          "BR",
          "CA",
          "FR",
          "US",
          "JP",
          "KR"
         ],
         75
        ],
        [
         "Fergie",
         "3r17AfJCCUqC9Lf0OAc73G",
         [],
         0
        ],
        [
         "One Direction",
         "4AK6F7OLvEQ5QYCBNiQWHq",
         [
          "AU",
          "BR",
          "CA",
          "FR",
          "US",
          "JP"
         ],
         83
        ],
        [
         "Birdy",
         "2WX2uTcsvV5OnS0inACecP",
         [
          "AU",
          "BR",
          "CA",
          "FR",
          "US",
          "JP",
          "KR"
         ],
         69
        ],
        [
         "Justin Bieber",
         "1uNFoZAHBGtllmzznpCI3s",
         [
          "AU",
          "BR",
          "CA",
          "FR",
          "US",
          "JP",
          "KR"
         ],
         79
        ],
        [
         "DJ Snake",
         "540vIaP2JwjQb9dm3aArA4",
         [
          "AU",
          "BR",
          "CA",
          "FR",
          "US",
          "JP"
         ],
         69
        ],
        [
         "French Montana",
         "6vXTefBL93Dj5IqAWq6OTv",
         [
          "AU",
          "BR",
          "CA",
          "FR",
          "US",
          "JP"
         ],
         45
        ],
        [
         "Ariana Grande",
         "66CXWjxzNUsdJxJ2JdwvnR",
         [],
         1
        ],
        [
         "Drake",
         "3TVXtAsR1Inumwj472S9r4",
         [
          "AU",
          "BR",
          "CA",
          "FR",
          "KR"
         ],
         73
        ],
        [
         "James Hersey",
         "0lzV2CiahHRiGd6qpADtPS",
         [],
         0
        ],
        [
         "GASHI",
         "0JOxt5QOwq0czoJxvSc5hS",
         [
          "AU",
          "BR",
          "CA",
          "FR",
          "US",
          "JP"
         ],
         53
        ],
        [
         "Passenger",
         "0gadJ2b9A4SKsB1RFkBb66",
         [],
         0
        ],
        [
         "Martin Garrix",
         "60d24wfXkVzDSfLS6hyCjZ",
         [
          "JP"
         ],
         6
        ],
        [
         "Nicki Minaj",
         "0hCNtLu0JehylgoiP8L4Gh",
         [
          "AU",
          "BR",
          "CA",
          "FR",
          "US",
          "JP",
          "KR"
         ],
         59
        ],
        [
         "Playboi Carti",
         "699OTQXzgjhIYAHMy9RyPD",
         [
          "AU",
          "BR",
          "CA",
          "FR",
          "US",
          "JP",
          "KR"
         ],
         78
        ],
        [
         "Big Shaq",
         "7mnAzEmgquhrVtGob81SmO",
         [
          "AU",
          "BR",
          "CA",
          "FR",
          "US",
          "JP",
          "KR"
         ],
         58
        ],
        [
         "Calvin Harris",
         "7CajNmpbOovFoOoasH2HaY",
         [
          "AU",
          "BR",
          "CA",
          "FR",
          "US",
          "JP"
         ],
         84
        ],
        [
         "Jeremih",
         "3KV3p5EY4AvKxOlhGHORLg",
         [
          "AU",
          "BR",
          "CA",
          "FR",
          "US",
          "JP",
          "KR"
         ],
         73
        ],
        [
         "DJ Khaled",
         "0QHgL1lAIqAw0HtD7YldmP",
         [
          "US"
         ],
         52
        ],
        [
         "Lady Gaga",
         "1HY2Jd0NmPuamShAr6KMms",
         [
          "AU",
          "BR",
          "CA",
          "FR",
          "US",
          "JP",
          "KR"
         ],
         81
        ]
       ],
       "datasetInfos": [],
       "dbfsResultPath": null,
       "isJsonSchema": true,
       "metadata": {},
       "overflow": false,
       "plotOptions": {
        "customPlotOptions": {},
        "displayType": "table",
        "pivotAggregation": null,
        "pivotColumns": null,
        "xColumns": null,
        "yColumns": null
       },
       "removedWidgets": [],
       "schema": [
        {
         "metadata": "{}",
         "name": "name",
         "type": "\"string\""
        },
        {
         "metadata": "{}",
         "name": "id",
         "type": "\"string\""
        },
        {
         "metadata": "{}",
         "name": "market",
         "type": "{\"type\":\"array\",\"elementType\":\"string\",\"containsNull\":true}"
        },
        {
         "metadata": "{}",
         "name": "popularity",
         "type": "\"long\""
        }
       ],
       "type": "table"
      }
     },
     "output_type": "display_data"
    },
    {
     "output_type": "display_data",
     "data": {
      "text/plain": [
       "Databricks visualization. Run in Databricks to view."
      ]
     },
     "metadata": {
      "application/vnd.databricks.v1.subcommand+json": {
       "baseErrorDetails": null,
       "bindings": {},
       "collapsed": false,
       "command": "%python\n__backend_agg_display_orig = display\n__backend_agg_dfs = []\ndef __backend_agg_display_new(df):\n    __backend_agg_df_modules = [\"pandas.core.frame\", \"databricks.koalas.frame\", \"pyspark.sql.dataframe\", \"pyspark.pandas.frame\", \"pyspark.sql.connect.dataframe\"]\n    if (type(df).__module__ in __backend_agg_df_modules and type(df).__name__ == 'DataFrame') or isinstance(df, list):\n        __backend_agg_dfs.append(df)\n\ndisplay = __backend_agg_display_new\n\ndef __backend_agg_user_code_fn():\n    import base64\n    exec(base64.standard_b64decode(\"ZnJvbSBweXNwYXJrLnNxbC5mdW5jdGlvbnMgaW1wb3J0IGNvbAoKIyBGZXRjaGluZyByZWNvbW1lbmRhdGlvbnMgaW5jbHVkaW5nIHBvcHVsYXJpdHkgc2NvcmUKcmVzdWx0cyA9IHNwLnJlY29tbWVuZGF0aW9ucyhzZWVkX2dlbnJlcz1bInBvcCIsXSwgbGltaXQ9MTAwKQoKIyBGaWx0ZXJpbmcgYXZhaWxhYmxlIG1hcmtldHMgYW5kIGNvbnZlcnRpbmcgdG8gYSBTcGFyayBEYXRhRnJhbWUgd2l0aCBwb3B1bGFyaXR5IHNjb3JlCmRlc2lyZWRfbWFya2V0cyA9IHsiVVMiLCAiQ0EiLCAiQVUiLCAiQlIiLCAiS1IiLCAiSlAiLCAiRlIifQpyb3dzID0gWwogICAgUm93KAogICAgICAgIG5hbWU9dHJhY2tbImFydGlzdHMiXVswXVsibmFtZSJdLCAKICAgICAgICBpZD10cmFja1siYXJ0aXN0cyJdWzBdWyJpZCJdLCAKICAgICAgICBtYXJrZXQ9W21hcmtldCBmb3IgbWFya2V0IGluIHRyYWNrWyJhdmFpbGFibGVfbWFya2V0cyJdIGlmIG1hcmtldCBpbiBkZXNpcmVkX21hcmtldHNdLCAKICAgICAgICBwb3B1bGFyaXR5PXRyYWNrWyJwb3B1bGFyaXR5Il0sCiAgICAgICAgcmVsZWFzZV9kYXRlPXRyYWNrWyJhbGJ1bSJdWyJyZWxlYXNlX2RhdGUiXQogICAgKSAKICAgIGZvciB0cmFjayBpbiByZXN1bHRzWyJ0cmFja3MiXSBpZiB0cmFja1siYWxidW0iXVsicmVsZWFzZV9kYXRlIl0gPj0gIjIwMjQtMDEtMDEiCl0KZGYgPSBzcGFyay5jcmVhdGVEYXRhRnJhbWUocm93cykKCmRpc3BsYXkoZGYuZmlsdGVyKGNvbCgicmVsZWFzZV9kYXRlIikgPj0gIjIwMjQtMDEtMDEiKSk=\").decode())\n\ntry:\n    # run user code\n    __backend_agg_user_code_fn()\n\n    #reset display function\n    display = __backend_agg_display_orig\n\n    if len(__backend_agg_dfs) > 0:\n        # create a temp view\n        if type(__backend_agg_dfs[0]).__module__ == \"databricks.koalas.frame\":\n            # koalas dataframe\n            __backend_agg_dfs[0].to_spark().createOrReplaceTempView(\"DatabricksViewdd02c25\")\n        elif type(__backend_agg_dfs[0]).__module__ == \"pandas.core.frame\" or isinstance(__backend_agg_dfs[0], list):\n            # pandas dataframe\n            spark.createDataFrame(__backend_agg_dfs[0]).createOrReplaceTempView(\"DatabricksViewdd02c25\")\n        else:\n            __backend_agg_dfs[0].createOrReplaceTempView(\"DatabricksViewdd02c25\")\n        #run backend agg\n        display(spark.sql(\"\"\"WITH q AS (select * from DatabricksViewdd02c25) SELECT `market`,AVG(`popularity`) `column_d91d366317` FROM q GROUP BY `market`\"\"\"))\n    else:\n        displayHTML(\"dataframe no longer exists. If you're using dataframe.display(), use display(dataframe) instead.\")\n\n\nfinally:\n    spark.sql(\"drop view if exists DatabricksViewdd02c25\")\n    display = __backend_agg_display_orig\n    del __backend_agg_display_new\n    del __backend_agg_display_orig\n    del __backend_agg_dfs\n    del __backend_agg_user_code_fn\n\n",
       "commandTitle": "POPULARITY SCORE OF POP GENRE ACROSS MARKETS",
       "commandType": "auto",
       "commandVersion": 0,
       "commentThread": [],
       "commentsVisible": false,
       "contentSha256Hex": null,
       "customPlotOptions": {
        "redashChart": [
         {
          "key": "type",
          "value": "CHART"
         },
         {
          "key": "options",
          "value": {
           "alignYAxesAtZero": true,
           "coefficient": 1,
           "columnConfigurationMap": {
            "x": {
             "column": "market",
             "id": "column_d91d366315"
            },
            "y": [
             {
              "column": "popularity",
              "id": "column_d91d366317",
              "transform": "AVG"
             }
            ]
           },
           "dateTimeFormat": "DD/MM/YYYY HH:mm",
           "direction": {
            "type": "counterclockwise"
           },
           "error_y": {
            "type": "data",
            "visible": true
           },
           "globalSeriesType": "column",
           "isAggregationOn": true,
           "legend": {
            "traceorder": "normal"
           },
           "missingValuesAsZero": true,
           "numberFormat": "0,0.[00000]",
           "percentFormat": "0[.]00%",
           "series": {
            "error_y": {
             "type": "data",
             "visible": true
            },
            "stacking": null
           },
           "seriesOptions": {
            "column_d91d366317": {
             "color": "#FF3621",
             "type": "column",
             "yAxis": 0
            },
            "column_d91d366320": {
             "type": "column",
             "yAxis": 0
            }
           },
           "showDataLabels": false,
           "sizemode": "diameter",
           "sortX": true,
           "sortY": true,
           "swappedAxes": false,
           "textFormat": "",
           "useAggregationsUi": true,
           "valuesOptions": {},
           "version": 2,
           "xAxis": {
            "labels": {
             "enabled": true
            },
            "title": {
             "text": "Group Of Markets For Pop Genre"
            },
            "type": "-"
           },
           "yAxis": [
            {
             "title": {
              "text": "Average Popularity Score"
             },
             "type": "-"
            },
            {
             "opposite": true,
             "type": "-"
            }
           ]
          }
         }
        ]
       },
       "datasetPreviewNameToCmdIdMap": {},
       "diffDeletes": [],
       "diffInserts": [],
       "displayType": "redashChart",
       "error": null,
       "errorDetails": null,
       "errorSummary": null,
       "errorTraceType": null,
       "finishTime": 0,
       "globalVars": {},
       "guid": "",
       "height": "auto",
       "hideCommandCode": false,
       "hideCommandResult": false,
       "iPythonMetadata": null,
       "inputWidgets": {},
       "isLockedInExamMode": false,
       "latestUser": "a user",
       "latestUserId": null,
       "listResultMetadata": null,
       "metadata": {
        "byteLimit": 2048000,
        "rowLimit": 10000
       },
       "nuid": "14fe549b-e521-4b9c-95b2-25fcbaecc31c",
       "origId": 0,
       "parentHierarchy": [],
       "pivotAggregation": null,
       "pivotColumns": null,
       "position": 5.75,
       "resultDbfsErrorMessage": null,
       "resultDbfsStatus": "INLINED_IN_TREE",
       "results": null,
       "showCommandTitle": false,
       "startTime": 0,
       "state": "input",
       "streamStates": {},
       "subcommandOptions": {
        "queryPlan": {
         "groups": [
          {
           "column": "market",
           "type": "column"
          }
         ],
         "selects": [
          {
           "column": "market",
           "type": "column"
          },
          {
           "alias": "column_d91d366317",
           "args": [
            {
             "column": "popularity",
             "type": "column"
            }
           ],
           "function": "AVG",
           "type": "function"
          }
         ]
        }
       },
       "submitTime": 0,
       "subtype": "tableResultSubCmd.visualization",
       "tableResultIndex": 0,
       "useConsistentColors": false,
       "version": "CommandV1",
       "width": "auto",
       "workflows": [],
       "xColumns": null,
       "yColumns": null
      }
     },
     "output_type": "display_data"
    }
   ],
   "source": [
    "# Fetching recommendations including popularity score\n",
    "results = sp.recommendations(seed_genres=[\"pop\",], limit=100)\n",
    "\n",
    "# Filtering available markets and converting to a Spark DataFrame with popularity score and release date\n",
    "desired_markets = {\"US\", \"CA\", \"AU\", \"BR\", \"KR\", \"JP\", \"FR\"}\n",
    "rows = [\n",
    "    Row(\n",
    "        name=track[\"artists\"][0][\"name\"], \n",
    "        id=track[\"artists\"][0][\"id\"], \n",
    "        market=[market for market in track[\"available_markets\"] if market in desired_markets], \n",
    "        popularity=track[\"popularity\"]\n",
    "    ) \n",
    "    for track in results[\"tracks\"]\n",
    "]\n",
    "df = spark.createDataFrame(rows)\n",
    "\n",
    "display(df)"
   ]
  },
  {
   "cell_type": "markdown",
   "metadata": {
    "application/vnd.databricks.v1+cell": {
     "cellMetadata": {
      "byteLimit": 2048000,
      "rowLimit": 10000
     },
     "inputWidgets": {},
     "nuid": "6046ad84-3d83-4a4d-9d02-72d543a79f94",
     "showTitle": false,
     "title": ""
    }
   },
   "source": [
    "**Interpret the popularity of POP genre across markets**\n",
    "\n",
    "Consistent Popularity: Pop music generally enjoys consistent popularity across different market combinations. Most groups of markets show an average popularity score between 60 and 80. This suggests that pop music has a broad international appeal and is well-received in various parts of the world.\n",
    "\n",
    "Slight Variations: There are some minor fluctuations in popularity depending on the specific market combination. For instance, pop music might be slightly more popular when released in markets including the United States, Australia, Brazil, Korean (mostly seen in group of high popularity records), especially United States the group of music released in US only still get pretty good score (approximately reach the median of the data set)\n",
    "\n"
   ]
  },
  {
   "cell_type": "code",
   "execution_count": 0,
   "metadata": {
    "application/vnd.databricks.v1+cell": {
     "cellMetadata": {
      "byteLimit": 2048000,
      "rowLimit": 10000
     },
     "inputWidgets": {},
     "nuid": "8ab6172f-fdad-47b7-9f2a-90cc5d964aee",
     "showTitle": false,
     "title": ""
    }
   },
   "outputs": [
    {
     "output_type": "display_data",
     "data": {
      "text/html": [
       "<style scoped>\n",
       "  .table-result-container {\n",
       "    max-height: 300px;\n",
       "    overflow: auto;\n",
       "  }\n",
       "  table, th, td {\n",
       "    border: 1px solid black;\n",
       "    border-collapse: collapse;\n",
       "  }\n",
       "  th, td {\n",
       "    padding: 5px;\n",
       "  }\n",
       "  th {\n",
       "    text-align: left;\n",
       "  }\n",
       "</style><div class='table-result-container'><table class='table-result'><thead style='background-color: white'><tr><th>name</th><th>id</th><th>market</th><th>popularity</th></tr></thead><tbody><tr><td>Bibio</td><td>0qzzGu8qpbXYpzgV52wOFT</td><td>List(JP)</td><td>16</td></tr><tr><td>Cold War Kids</td><td>6VDdCwrBM4qQaGxoAyxyJC</td><td>List(AU, BR, CA, FR, US, JP, KR)</td><td>55</td></tr><tr><td>Beat Happening</td><td>1qHR9DMfOJQjvWLEfMZQlG</td><td>List()</td><td>0</td></tr><tr><td>The Districts</td><td>3HZgaiR960RFqx9d4LPraD</td><td>List(AU, BR, CA, FR, US, JP, KR)</td><td>27</td></tr><tr><td>Of Monsters and Men</td><td>4dwdTW1Lfiq0cM8nBAqIIz</td><td>List(CA, US)</td><td>62</td></tr><tr><td>Pinegrove</td><td>2gbT6GPXMis0OAkZbEQCYB</td><td>List()</td><td>0</td></tr><tr><td>Radiohead</td><td>4Z8W4fKeB5YxbusRsdQVPb</td><td>List()</td><td>0</td></tr><tr><td>Another Sunny Day</td><td>6EGQKKjGZOxDJ1iy7Pw25M</td><td>List(AU, BR, CA, FR, US, JP, KR)</td><td>37</td></tr><tr><td>Rilo Kiley</td><td>2cevwbv7ISD92VMNLYLHZA</td><td>List(AU, BR, CA, FR, US, JP, KR)</td><td>49</td></tr><tr><td>The Neighbourhood</td><td>77SW9BnxLY8rJ0RciFqkHh</td><td>List()</td><td>0</td></tr><tr><td>Blood Orange</td><td>6LEeAFiJF8OuPx747e1wxR</td><td>List(AU, BR, CA, FR, US, JP, KR)</td><td>52</td></tr><tr><td>Sufjan Stevens</td><td>4MXUO7sVCaFgFjoTI5ox5c</td><td>List()</td><td>0</td></tr><tr><td>Joji</td><td>3MZsBdqDrRTJihTHQrO6Dq</td><td>List()</td><td>0</td></tr><tr><td>S. Carey</td><td>2LSJrlndCuTpdEluvYHc2E</td><td>List()</td><td>0</td></tr><tr><td>Sylvan Esso</td><td>39vA9YljbnOApXKniLWBZv</td><td>List(AU, BR, CA, FR, US, JP, KR)</td><td>47</td></tr><tr><td>HOMESHAKE</td><td>4DMSJzGjw2SMkKAT5EEE5u</td><td>List()</td><td>0</td></tr><tr><td>Troye Sivan</td><td>3WGpXCj9YhhfX11TToZcXP</td><td>List()</td><td>0</td></tr><tr><td>King Krule</td><td>4wyNyxs74Ux8UIDopNjIai</td><td>List()</td><td>0</td></tr><tr><td>Spoon</td><td>0K1q0nXQ8is36PzOKAMbNe</td><td>List()</td><td>0</td></tr><tr><td>Chet Faker</td><td>6UcJxoeHWWWyT5HZP064om</td><td>List()</td><td>0</td></tr><tr><td>Real Estate</td><td>41SQP16hv1TioVYqdckmxT</td><td>List(AU, BR, CA, FR, US, JP, KR)</td><td>28</td></tr><tr><td>Hozier</td><td>2FXC3k01G6Gw61bmprjgqS</td><td>List(AU, CA, US)</td><td>36</td></tr><tr><td>Jeremy Zucker</td><td>3gIRvgZssIb9aiirIg0nI3</td><td>List(AU, BR, CA, FR, US, JP, KR)</td><td>58</td></tr><tr><td>The Lumineers</td><td>16oZKvXb6WkQlVAjwo2Wbg</td><td>List()</td><td>31</td></tr><tr><td>Saint Motel</td><td>1dWEYMPtNmvSVaDNLgB6NV</td><td>List(AU, BR, CA, FR, JP, KR)</td><td>71</td></tr><tr><td>Miike Snow</td><td>4l1cKWYW591xnwEGxpUg3J</td><td>List(AU, BR, CA, FR, US, JP, KR)</td><td>61</td></tr><tr><td>Twenty One Pilots</td><td>3YQKmKGau1PzlVlkL1iodx</td><td>List(AU, BR, CA, FR, US, JP, KR)</td><td>68</td></tr><tr><td>The Tallest Man On Earth</td><td>2BpAc5eK7Rz5GAwSp9UYXa</td><td>List()</td><td>0</td></tr><tr><td>Aphex Twin</td><td>6kBDZFXuLrZgHnvmPu9NsG</td><td>List()</td><td>0</td></tr><tr><td>Daughter</td><td>46CitWgnWrvF9t70C2p1Me</td><td>List()</td><td>0</td></tr><tr><td>Tash Sultana</td><td>6zVFRTB0Y1whWyH7ZNmywf</td><td>List(AU, BR, FR, JP)</td><td>46</td></tr><tr><td>The Smiths</td><td>3yY2gUcIsjMr8hjo51PoJ8</td><td>List(AU, BR, CA, FR, US, JP, KR)</td><td>73</td></tr><tr><td>Ben Howard</td><td>5schNIzWdI9gJ1QRK8SBnc</td><td>List(AU, BR, CA, US, JP, KR)</td><td>66</td></tr><tr><td>Lykke Li</td><td>6oBm8HB0yfrIc9IHbxs6in</td><td>List(AU, BR, CA, FR, US, JP)</td><td>61</td></tr><tr><td>Disclosure</td><td>6nS5roXSAGhTGr34W6n7Et</td><td>List()</td><td>0</td></tr><tr><td>Robinson</td><td>38CvLGTsjtoloDgv3OKQp8</td><td>List(AU, BR, CA, FR, US, JP)</td><td>37</td></tr><tr><td>King Krule</td><td>4wyNyxs74Ux8UIDopNjIai</td><td>List()</td><td>0</td></tr><tr><td>LCD Soundsystem</td><td>066X20Nz7iquqkkCW6Jxy6</td><td>List(AU, BR, CA, FR, US, JP, KR)</td><td>60</td></tr><tr><td>My Morning Jacket</td><td>43O3c6wewpzPKwVaGEEtBM</td><td>List(CA)</td><td>31</td></tr><tr><td>Local Natives</td><td>75dQReiBOHN37fQgWQrIAJ</td><td>List(CA, US)</td><td>44</td></tr><tr><td>Mumford & Sons</td><td>3gd8FJtBJtkRxdfbTu19U2</td><td>List()</td><td>0</td></tr><tr><td>The Lumineers</td><td>16oZKvXb6WkQlVAjwo2Wbg</td><td>List()</td><td>13</td></tr><tr><td>Vampire Weekend</td><td>5BvJzeQpmsdsFp4HGUYUEx</td><td>List()</td><td>0</td></tr><tr><td>The Wombats</td><td>0Ya43ZKWHTKkAbkoJJkwIB</td><td>List(AU)</td><td>13</td></tr><tr><td>Arcade Fire</td><td>3kjuyTCjPG1WMFCiyc5IuB</td><td>List(AU, BR, CA, FR, US, JP)</td><td>50</td></tr><tr><td>Vance Joy</td><td>10exVja0key0uqUkk6LJRT</td><td>List(BR, CA, FR, US, JP, KR)</td><td>70</td></tr><tr><td>LCD Soundsystem</td><td>066X20Nz7iquqkkCW6Jxy6</td><td>List(AU, BR, CA, FR, US, JP)</td><td>40</td></tr><tr><td>Damien Rice</td><td>14r9dR01KeBLFfylVSKCZQ</td><td>List(BR, FR, JP, KR)</td><td>56</td></tr><tr><td>Portishead</td><td>6liAMWkVf5LH7YR9yfFy1Y</td><td>List(AU, BR, CA, FR, US, JP, KR)</td><td>53</td></tr><tr><td>Tom Misch</td><td>1uiEZYehlNivdK3iQyAbye</td><td>List()</td><td>0</td></tr><tr><td>Real Estate</td><td>41SQP16hv1TioVYqdckmxT</td><td>List(AU, BR, CA, FR, US, JP, KR)</td><td>49</td></tr><tr><td>Daft Punk</td><td>4tZwfgrHOc3mvqYlEYSvVi</td><td>List(AU, BR, CA, FR, US, JP)</td><td>74</td></tr><tr><td>The War On Drugs</td><td>6g0mn3tzAds6aVeUYRsryU</td><td>List()</td><td>0</td></tr><tr><td>Lana Del Rey</td><td>00FQb4jTyendYWaN8pK0wa</td><td>List()</td><td>0</td></tr><tr><td>Toro y Moi</td><td>6O4EGCCb6DoIiR6B1QCQgp</td><td>List()</td><td>0</td></tr><tr><td>Nine Inch Nails</td><td>0X380XXQSNBYuleKzav5UO</td><td>List(AU, BR, CA, FR, US, JP, KR)</td><td>49</td></tr><tr><td>LCD Soundsystem</td><td>066X20Nz7iquqkkCW6Jxy6</td><td>List(AU, BR, CA, FR, US, JP)</td><td>39</td></tr><tr><td>Thom Yorke</td><td>4CvTDPKA6W06DRfBnZKrau</td><td>List()</td><td>0</td></tr><tr><td>Clairo</td><td>3l0CmX0FuQjFxr8SK7Vqag</td><td>List(AU, BR, CA, FR, US, JP, KR)</td><td>72</td></tr><tr><td>Edward Sharpe & The Magnetic Zeros</td><td>7giUHu5pv6YTZgSkxxCcgh</td><td>List()</td><td>8</td></tr><tr><td>Fela Kuti</td><td>5CG9X521RDFWCuAhlo6QoR</td><td>List()</td><td>0</td></tr><tr><td>Tom Grennan</td><td>5SHxzwjek1Pipl1Yk11UHv</td><td>List(AU, BR, CA, FR, US)</td><td>55</td></tr><tr><td>Iron & Wine</td><td>4M5nCE77Qaxayuhp3fVn4V</td><td>List()</td><td>0</td></tr><tr><td>The Knife</td><td>7eQZTqEMozBcuSubfu52i4</td><td>List()</td><td>0</td></tr><tr><td>Dermot Kennedy</td><td>5KNNVgR6LBIABRIomyCwKJ</td><td>List()</td><td>0</td></tr><tr><td>Two Feet</td><td>5sWHDYs0csV6RS48xBl0tH</td><td>List(AU, BR, CA, FR, US, JP, KR)</td><td>75</td></tr><tr><td>Unknown Mortal Orchestra</td><td>1LeVJ5GPeYDOVUjxx1y7Rp</td><td>List()</td><td>0</td></tr><tr><td>Shallou</td><td>7C3Cbtr2PkH2l4tOGhtCsk</td><td>List(AU, BR, CA, FR, JP, KR)</td><td>43</td></tr><tr><td>Beach Fossils</td><td>1bwUhKRmEkOZ1wuTnV9XjC</td><td>List()</td><td>0</td></tr><tr><td>Maggie Rogers</td><td>4NZvixzsSefsNiIqXn0NDe</td><td>List()</td><td>0</td></tr><tr><td>Japanese Breakfast</td><td>7MoIc5s9KXolCBH1fy9kkw</td><td>List()</td><td>0</td></tr><tr><td>Feist</td><td>6CWTBjOJK75cTE8Xv8u1kj</td><td>List(AU, BR, FR, KR)</td><td>18</td></tr><tr><td>Galaxie 500</td><td>6guTJsgPymDUVfqDJyz5UG</td><td>List()</td><td>0</td></tr><tr><td>The xx</td><td>3iOvXCl6edW5Um0fXEBRXy</td><td>List()</td><td>0</td></tr><tr><td>Lorde</td><td>163tK9Wjr9P9DmM0AVK7lm</td><td>List(AU, BR, CA, FR, US, JP, KR)</td><td>57</td></tr><tr><td>Blood Orange</td><td>6LEeAFiJF8OuPx747e1wxR</td><td>List(AU, BR, CA, FR, US, JP, KR)</td><td>63</td></tr><tr><td>Bahamas</td><td>4C50EbCS11M0VbGyH3OfLt</td><td>List(US)</td><td>43</td></tr><tr><td>Moses Sumney</td><td>5W10uJRsbt9bROJDKoI1Wn</td><td>List()</td><td>0</td></tr><tr><td>Björk</td><td>7w29UYBi0qsHi5RTcv3lmA</td><td>List(CA, US)</td><td>45</td></tr><tr><td>Metronomy</td><td>54QMjE4toDfiCryzYWCpXX</td><td>List()</td><td>0</td></tr><tr><td>TV On The Radio</td><td>3HJIB8sYPyxrFGuwvKXSLR</td><td>List(AU, BR, CA, FR, US, KR)</td><td>60</td></tr><tr><td>Belle and Sebastian</td><td>4I2BJf80C0skQpp1sQmA0h</td><td>List()</td><td>0</td></tr><tr><td>Clairo</td><td>3l0CmX0FuQjFxr8SK7Vqag</td><td>List(AU, BR, CA, FR, US, JP, KR)</td><td>73</td></tr><tr><td>King Gizzard & The Lizard Wizard</td><td>6XYvaoDGE0VmRt83Jss9Sn</td><td>List()</td><td>0</td></tr><tr><td>Angel Olsen</td><td>6mKqFxGMS5TGDZI3XkT5Rt</td><td>List()</td><td>0</td></tr><tr><td>Pixies</td><td>6zvul52xwTWzilBZl6BUbT</td><td>List()</td><td>0</td></tr><tr><td>Weezer</td><td>3jOstUTkEu2JkjvRdBA5Gu</td><td>List()</td><td>0</td></tr><tr><td>The xx</td><td>3iOvXCl6edW5Um0fXEBRXy</td><td>List()</td><td>0</td></tr><tr><td>Radiohead</td><td>4Z8W4fKeB5YxbusRsdQVPb</td><td>List()</td><td>0</td></tr><tr><td>Andrew Bird</td><td>4uSftVc3FPWe6RJuMZNEe9</td><td>List(CA, US)</td><td>53</td></tr><tr><td>BROCKHAMPTON</td><td>1Bl6wpkWCQ4KVgnASpvzzA</td><td>List(AU, BR, CA, FR, US, JP)</td><td>53</td></tr><tr><td>Mitski</td><td>2uYWxilOVlUdk4oV9DvwqK</td><td>List()</td><td>0</td></tr><tr><td>Washed Out</td><td>5juOkIIy18sFw9L30syt1Z</td><td>List(CA)</td><td>20</td></tr><tr><td>Modest Mouse</td><td>1yAwtBaoHLEDWAnWR87hBT</td><td>List()</td><td>0</td></tr><tr><td>Tennis</td><td>1ybAN3utgdoUL1MUCtH4QM</td><td>List(AU, CA, US)</td><td>33</td></tr><tr><td>Kelela</td><td>1U0sIzpRtDkvu1hXXzxh60</td><td>List()</td><td>0</td></tr><tr><td>In The Valley Below</td><td>4WQXRya5np83C21wifjNp9</td><td>List(FR)</td><td>38</td></tr><tr><td>Sylvan Esso</td><td>39vA9YljbnOApXKniLWBZv</td><td>List()</td><td>0</td></tr><tr><td>Radiohead</td><td>4Z8W4fKeB5YxbusRsdQVPb</td><td>List()</td><td>0</td></tr><tr><td>Death Cab for Cutie</td><td>0YrtvWJMgSdVrk3SfNjTbx</td><td>List()</td><td>0</td></tr></tbody></table></div>"
      ]
     },
     "metadata": {
      "application/vnd.databricks.v1+output": {
       "addedWidgets": {},
       "aggData": [],
       "aggError": "",
       "aggOverflow": false,
       "aggSchema": [],
       "aggSeriesLimitReached": false,
       "aggType": "",
       "arguments": {},
       "columnCustomDisplayInfos": {},
       "data": [
        [
         "Bibio",
         "0qzzGu8qpbXYpzgV52wOFT",
         [
          "JP"
         ],
         16
        ],
        [
         "Cold War Kids",
         "6VDdCwrBM4qQaGxoAyxyJC",
         [
          "AU",
          "BR",
          "CA",
          "FR",
          "US",
          "JP",
          "KR"
         ],
         55
        ],
        [
         "Beat Happening",
         "1qHR9DMfOJQjvWLEfMZQlG",
         [],
         0
        ],
        [
         "The Districts",
         "3HZgaiR960RFqx9d4LPraD",
         [
          "AU",
          "BR",
          "CA",
          "FR",
          "US",
          "JP",
          "KR"
         ],
         27
        ],
        [
         "Of Monsters and Men",
         "4dwdTW1Lfiq0cM8nBAqIIz",
         [
          "CA",
          "US"
         ],
         62
        ],
        [
         "Pinegrove",
         "2gbT6GPXMis0OAkZbEQCYB",
         [],
         0
        ],
        [
         "Radiohead",
         "4Z8W4fKeB5YxbusRsdQVPb",
         [],
         0
        ],
        [
         "Another Sunny Day",
         "6EGQKKjGZOxDJ1iy7Pw25M",
         [
          "AU",
          "BR",
          "CA",
          "FR",
          "US",
          "JP",
          "KR"
         ],
         37
        ],
        [
         "Rilo Kiley",
         "2cevwbv7ISD92VMNLYLHZA",
         [
          "AU",
          "BR",
          "CA",
          "FR",
          "US",
          "JP",
          "KR"
         ],
         49
        ],
        [
         "The Neighbourhood",
         "77SW9BnxLY8rJ0RciFqkHh",
         [],
         0
        ],
        [
         "Blood Orange",
         "6LEeAFiJF8OuPx747e1wxR",
         [
          "AU",
          "BR",
          "CA",
          "FR",
          "US",
          "JP",
          "KR"
         ],
         52
        ],
        [
         "Sufjan Stevens",
         "4MXUO7sVCaFgFjoTI5ox5c",
         [],
         0
        ],
        [
         "Joji",
         "3MZsBdqDrRTJihTHQrO6Dq",
         [],
         0
        ],
        [
         "S. Carey",
         "2LSJrlndCuTpdEluvYHc2E",
         [],
         0
        ],
        [
         "Sylvan Esso",
         "39vA9YljbnOApXKniLWBZv",
         [
          "AU",
          "BR",
          "CA",
          "FR",
          "US",
          "JP",
          "KR"
         ],
         47
        ],
        [
         "HOMESHAKE",
         "4DMSJzGjw2SMkKAT5EEE5u",
         [],
         0
        ],
        [
         "Troye Sivan",
         "3WGpXCj9YhhfX11TToZcXP",
         [],
         0
        ],
        [
         "King Krule",
         "4wyNyxs74Ux8UIDopNjIai",
         [],
         0
        ],
        [
         "Spoon",
         "0K1q0nXQ8is36PzOKAMbNe",
         [],
         0
        ],
        [
         "Chet Faker",
         "6UcJxoeHWWWyT5HZP064om",
         [],
         0
        ],
        [
         "Real Estate",
         "41SQP16hv1TioVYqdckmxT",
         [
          "AU",
          "BR",
          "CA",
          "FR",
          "US",
          "JP",
          "KR"
         ],
         28
        ],
        [
         "Hozier",
         "2FXC3k01G6Gw61bmprjgqS",
         [
          "AU",
          "CA",
          "US"
         ],
         36
        ],
        [
         "Jeremy Zucker",
         "3gIRvgZssIb9aiirIg0nI3",
         [
          "AU",
          "BR",
          "CA",
          "FR",
          "US",
          "JP",
          "KR"
         ],
         58
        ],
        [
         "The Lumineers",
         "16oZKvXb6WkQlVAjwo2Wbg",
         [],
         31
        ],
        [
         "Saint Motel",
         "1dWEYMPtNmvSVaDNLgB6NV",
         [
          "AU",
          "BR",
          "CA",
          "FR",
          "JP",
          "KR"
         ],
         71
        ],
        [
         "Miike Snow",
         "4l1cKWYW591xnwEGxpUg3J",
         [
          "AU",
          "BR",
          "CA",
          "FR",
          "US",
          "JP",
          "KR"
         ],
         61
        ],
        [
         "Twenty One Pilots",
         "3YQKmKGau1PzlVlkL1iodx",
         [
          "AU",
          "BR",
          "CA",
          "FR",
          "US",
          "JP",
          "KR"
         ],
         68
        ],
        [
         "The Tallest Man On Earth",
         "2BpAc5eK7Rz5GAwSp9UYXa",
         [],
         0
        ],
        [
         "Aphex Twin",
         "6kBDZFXuLrZgHnvmPu9NsG",
         [],
         0
        ],
        [
         "Daughter",
         "46CitWgnWrvF9t70C2p1Me",
         [],
         0
        ],
        [
         "Tash Sultana",
         "6zVFRTB0Y1whWyH7ZNmywf",
         [
          "AU",
          "BR",
          "FR",
          "JP"
         ],
         46
        ],
        [
         "The Smiths",
         "3yY2gUcIsjMr8hjo51PoJ8",
         [
          "AU",
          "BR",
          "CA",
          "FR",
          "US",
          "JP",
          "KR"
         ],
         73
        ],
        [
         "Ben Howard",
         "5schNIzWdI9gJ1QRK8SBnc",
         [
          "AU",
          "BR",
          "CA",
          "US",
          "JP",
          "KR"
         ],
         66
        ],
        [
         "Lykke Li",
         "6oBm8HB0yfrIc9IHbxs6in",
         [
          "AU",
          "BR",
          "CA",
          "FR",
          "US",
          "JP"
         ],
         61
        ],
        [
         "Disclosure",
         "6nS5roXSAGhTGr34W6n7Et",
         [],
         0
        ],
        [
         "Robinson",
         "38CvLGTsjtoloDgv3OKQp8",
         [
          "AU",
          "BR",
          "CA",
          "FR",
          "US",
          "JP"
         ],
         37
        ],
        [
         "King Krule",
         "4wyNyxs74Ux8UIDopNjIai",
         [],
         0
        ],
        [
         "LCD Soundsystem",
         "066X20Nz7iquqkkCW6Jxy6",
         [
          "AU",
          "BR",
          "CA",
          "FR",
          "US",
          "JP",
          "KR"
         ],
         60
        ],
        [
         "My Morning Jacket",
         "43O3c6wewpzPKwVaGEEtBM",
         [
          "CA"
         ],
         31
        ],
        [
         "Local Natives",
         "75dQReiBOHN37fQgWQrIAJ",
         [
          "CA",
          "US"
         ],
         44
        ],
        [
         "Mumford & Sons",
         "3gd8FJtBJtkRxdfbTu19U2",
         [],
         0
        ],
        [
         "The Lumineers",
         "16oZKvXb6WkQlVAjwo2Wbg",
         [],
         13
        ],
        [
         "Vampire Weekend",
         "5BvJzeQpmsdsFp4HGUYUEx",
         [],
         0
        ],
        [
         "The Wombats",
         "0Ya43ZKWHTKkAbkoJJkwIB",
         [
          "AU"
         ],
         13
        ],
        [
         "Arcade Fire",
         "3kjuyTCjPG1WMFCiyc5IuB",
         [
          "AU",
          "BR",
          "CA",
          "FR",
          "US",
          "JP"
         ],
         50
        ],
        [
         "Vance Joy",
         "10exVja0key0uqUkk6LJRT",
         [
          "BR",
          "CA",
          "FR",
          "US",
          "JP",
          "KR"
         ],
         70
        ],
        [
         "LCD Soundsystem",
         "066X20Nz7iquqkkCW6Jxy6",
         [
          "AU",
          "BR",
          "CA",
          "FR",
          "US",
          "JP"
         ],
         40
        ],
        [
         "Damien Rice",
         "14r9dR01KeBLFfylVSKCZQ",
         [
          "BR",
          "FR",
          "JP",
          "KR"
         ],
         56
        ],
        [
         "Portishead",
         "6liAMWkVf5LH7YR9yfFy1Y",
         [
          "AU",
          "BR",
          "CA",
          "FR",
          "US",
          "JP",
          "KR"
         ],
         53
        ],
        [
         "Tom Misch",
         "1uiEZYehlNivdK3iQyAbye",
         [],
         0
        ],
        [
         "Real Estate",
         "41SQP16hv1TioVYqdckmxT",
         [
          "AU",
          "BR",
          "CA",
          "FR",
          "US",
          "JP",
          "KR"
         ],
         49
        ],
        [
         "Daft Punk",
         "4tZwfgrHOc3mvqYlEYSvVi",
         [
          "AU",
          "BR",
          "CA",
          "FR",
          "US",
          "JP"
         ],
         74
        ],
        [
         "The War On Drugs",
         "6g0mn3tzAds6aVeUYRsryU",
         [],
         0
        ],
        [
         "Lana Del Rey",
         "00FQb4jTyendYWaN8pK0wa",
         [],
         0
        ],
        [
         "Toro y Moi",
         "6O4EGCCb6DoIiR6B1QCQgp",
         [],
         0
        ],
        [
         "Nine Inch Nails",
         "0X380XXQSNBYuleKzav5UO",
         [
          "AU",
          "BR",
          "CA",
          "FR",
          "US",
          "JP",
          "KR"
         ],
         49
        ],
        [
         "LCD Soundsystem",
         "066X20Nz7iquqkkCW6Jxy6",
         [
          "AU",
          "BR",
          "CA",
          "FR",
          "US",
          "JP"
         ],
         39
        ],
        [
         "Thom Yorke",
         "4CvTDPKA6W06DRfBnZKrau",
         [],
         0
        ],
        [
         "Clairo",
         "3l0CmX0FuQjFxr8SK7Vqag",
         [
          "AU",
          "BR",
          "CA",
          "FR",
          "US",
          "JP",
          "KR"
         ],
         72
        ],
        [
         "Edward Sharpe & The Magnetic Zeros",
         "7giUHu5pv6YTZgSkxxCcgh",
         [],
         8
        ],
        [
         "Fela Kuti",
         "5CG9X521RDFWCuAhlo6QoR",
         [],
         0
        ],
        [
         "Tom Grennan",
         "5SHxzwjek1Pipl1Yk11UHv",
         [
          "AU",
          "BR",
          "CA",
          "FR",
          "US"
         ],
         55
        ],
        [
         "Iron & Wine",
         "4M5nCE77Qaxayuhp3fVn4V",
         [],
         0
        ],
        [
         "The Knife",
         "7eQZTqEMozBcuSubfu52i4",
         [],
         0
        ],
        [
         "Dermot Kennedy",
         "5KNNVgR6LBIABRIomyCwKJ",
         [],
         0
        ],
        [
         "Two Feet",
         "5sWHDYs0csV6RS48xBl0tH",
         [
          "AU",
          "BR",
          "CA",
          "FR",
          "US",
          "JP",
          "KR"
         ],
         75
        ],
        [
         "Unknown Mortal Orchestra",
         "1LeVJ5GPeYDOVUjxx1y7Rp",
         [],
         0
        ],
        [
         "Shallou",
         "7C3Cbtr2PkH2l4tOGhtCsk",
         [
          "AU",
          "BR",
          "CA",
          "FR",
          "JP",
          "KR"
         ],
         43
        ],
        [
         "Beach Fossils",
         "1bwUhKRmEkOZ1wuTnV9XjC",
         [],
         0
        ],
        [
         "Maggie Rogers",
         "4NZvixzsSefsNiIqXn0NDe",
         [],
         0
        ],
        [
         "Japanese Breakfast",
         "7MoIc5s9KXolCBH1fy9kkw",
         [],
         0
        ],
        [
         "Feist",
         "6CWTBjOJK75cTE8Xv8u1kj",
         [
          "AU",
          "BR",
          "FR",
          "KR"
         ],
         18
        ],
        [
         "Galaxie 500",
         "6guTJsgPymDUVfqDJyz5UG",
         [],
         0
        ],
        [
         "The xx",
         "3iOvXCl6edW5Um0fXEBRXy",
         [],
         0
        ],
        [
         "Lorde",
         "163tK9Wjr9P9DmM0AVK7lm",
         [
          "AU",
          "BR",
          "CA",
          "FR",
          "US",
          "JP",
          "KR"
         ],
         57
        ],
        [
         "Blood Orange",
         "6LEeAFiJF8OuPx747e1wxR",
         [
          "AU",
          "BR",
          "CA",
          "FR",
          "US",
          "JP",
          "KR"
         ],
         63
        ],
        [
         "Bahamas",
         "4C50EbCS11M0VbGyH3OfLt",
         [
          "US"
         ],
         43
        ],
        [
         "Moses Sumney",
         "5W10uJRsbt9bROJDKoI1Wn",
         [],
         0
        ],
        [
         "Björk",
         "7w29UYBi0qsHi5RTcv3lmA",
         [
          "CA",
          "US"
         ],
         45
        ],
        [
         "Metronomy",
         "54QMjE4toDfiCryzYWCpXX",
         [],
         0
        ],
        [
         "TV On The Radio",
         "3HJIB8sYPyxrFGuwvKXSLR",
         [
          "AU",
          "BR",
          "CA",
          "FR",
          "US",
          "KR"
         ],
         60
        ],
        [
         "Belle and Sebastian",
         "4I2BJf80C0skQpp1sQmA0h",
         [],
         0
        ],
        [
         "Clairo",
         "3l0CmX0FuQjFxr8SK7Vqag",
         [
          "AU",
          "BR",
          "CA",
          "FR",
          "US",
          "JP",
          "KR"
         ],
         73
        ],
        [
         "King Gizzard & The Lizard Wizard",
         "6XYvaoDGE0VmRt83Jss9Sn",
         [],
         0
        ],
        [
         "Angel Olsen",
         "6mKqFxGMS5TGDZI3XkT5Rt",
         [],
         0
        ],
        [
         "Pixies",
         "6zvul52xwTWzilBZl6BUbT",
         [],
         0
        ],
        [
         "Weezer",
         "3jOstUTkEu2JkjvRdBA5Gu",
         [],
         0
        ],
        [
         "The xx",
         "3iOvXCl6edW5Um0fXEBRXy",
         [],
         0
        ],
        [
         "Radiohead",
         "4Z8W4fKeB5YxbusRsdQVPb",
         [],
         0
        ],
        [
         "Andrew Bird",
         "4uSftVc3FPWe6RJuMZNEe9",
         [
          "CA",
          "US"
         ],
         53
        ],
        [
         "BROCKHAMPTON",
         "1Bl6wpkWCQ4KVgnASpvzzA",
         [
          "AU",
          "BR",
          "CA",
          "FR",
          "US",
          "JP"
         ],
         53
        ],
        [
         "Mitski",
         "2uYWxilOVlUdk4oV9DvwqK",
         [],
         0
        ],
        [
         "Washed Out",
         "5juOkIIy18sFw9L30syt1Z",
         [
          "CA"
         ],
         20
        ],
        [
         "Modest Mouse",
         "1yAwtBaoHLEDWAnWR87hBT",
         [],
         0
        ],
        [
         "Tennis",
         "1ybAN3utgdoUL1MUCtH4QM",
         [
          "AU",
          "CA",
          "US"
         ],
         33
        ],
        [
         "Kelela",
         "1U0sIzpRtDkvu1hXXzxh60",
         [],
         0
        ],
        [
         "In The Valley Below",
         "4WQXRya5np83C21wifjNp9",
         [
          "FR"
         ],
         38
        ],
        [
         "Sylvan Esso",
         "39vA9YljbnOApXKniLWBZv",
         [],
         0
        ],
        [
         "Radiohead",
         "4Z8W4fKeB5YxbusRsdQVPb",
         [],
         0
        ],
        [
         "Death Cab for Cutie",
         "0YrtvWJMgSdVrk3SfNjTbx",
         [],
         0
        ]
       ],
       "datasetInfos": [],
       "dbfsResultPath": null,
       "isJsonSchema": true,
       "metadata": {},
       "overflow": false,
       "plotOptions": {
        "customPlotOptions": {},
        "displayType": "table",
        "pivotAggregation": null,
        "pivotColumns": null,
        "xColumns": null,
        "yColumns": null
       },
       "removedWidgets": [],
       "schema": [
        {
         "metadata": "{}",
         "name": "name",
         "type": "\"string\""
        },
        {
         "metadata": "{}",
         "name": "id",
         "type": "\"string\""
        },
        {
         "metadata": "{}",
         "name": "market",
         "type": "{\"type\":\"array\",\"elementType\":\"string\",\"containsNull\":true}"
        },
        {
         "metadata": "{}",
         "name": "popularity",
         "type": "\"long\""
        }
       ],
       "type": "table"
      }
     },
     "output_type": "display_data"
    },
    {
     "output_type": "display_data",
     "data": {
      "text/plain": [
       "Databricks visualization. Run in Databricks to view."
      ]
     },
     "metadata": {
      "application/vnd.databricks.v1.subcommand+json": {
       "baseErrorDetails": null,
       "bindings": {},
       "collapsed": false,
       "command": "%python\n__backend_agg_display_orig = display\n__backend_agg_dfs = []\ndef __backend_agg_display_new(df):\n    __backend_agg_df_modules = [\"pandas.core.frame\", \"databricks.koalas.frame\", \"pyspark.sql.dataframe\", \"pyspark.pandas.frame\", \"pyspark.sql.connect.dataframe\"]\n    if (type(df).__module__ in __backend_agg_df_modules and type(df).__name__ == 'DataFrame') or isinstance(df, list):\n        __backend_agg_dfs.append(df)\n\ndisplay = __backend_agg_display_new\n\ndef __backend_agg_user_code_fn():\n    import base64\n    exec(base64.standard_b64decode(\"CiMgRmV0Y2hpbmcgcmVjb21tZW5kYXRpb25zIGluY2x1ZGluZyBwb3B1bGFyaXR5IHNjb3JlCnJlc3VsdHMgPSBzcC5yZWNvbW1lbmRhdGlvbnMoc2VlZF9nZW5yZXM9WyJpbmRpZSIsXSwgbGltaXQ9MTAwKQoKIyBGaWx0ZXJpbmcgYXZhaWxhYmxlIG1hcmtldHMgYW5kIGNvbnZlcnRpbmcgdG8gYSBTcGFyayBEYXRhRnJhbWUgd2l0aCBwb3B1bGFyaXR5IHNjb3JlCmRlc2lyZWRfbWFya2V0cyA9IHsiVVMiLCAiQ0EiLCAiQVUiLCAiQlIiLCAiS1IiLCAiSlAiLCAiRlIifQpyb3dzID0gWwogICAgUm93KAogICAgICAgIG5hbWU9dHJhY2tbImFydGlzdHMiXVswXVsibmFtZSJdLCAKICAgICAgICBpZD10cmFja1siYXJ0aXN0cyJdWzBdWyJpZCJdLCAKICAgICAgICBtYXJrZXQ9W21hcmtldCBmb3IgbWFya2V0IGluIHRyYWNrWyJhdmFpbGFibGVfbWFya2V0cyJdIGlmIG1hcmtldCBpbiBkZXNpcmVkX21hcmtldHNdLCAKICAgICAgICBwb3B1bGFyaXR5PXRyYWNrWyJwb3B1bGFyaXR5Il0KICAgICkgCiAgICBmb3IgdHJhY2sgaW4gcmVzdWx0c1sidHJhY2tzIl0KXQpkZiA9IHNwYXJrLmNyZWF0ZURhdGFGcmFtZShyb3dzKQoKZGlzcGxheShkZik=\").decode())\n\ntry:\n    # run user code\n    __backend_agg_user_code_fn()\n\n    #reset display function\n    display = __backend_agg_display_orig\n\n    if len(__backend_agg_dfs) > 0:\n        # create a temp view\n        if type(__backend_agg_dfs[0]).__module__ == \"databricks.koalas.frame\":\n            # koalas dataframe\n            __backend_agg_dfs[0].to_spark().createOrReplaceTempView(\"DatabricksView1335867\")\n        elif type(__backend_agg_dfs[0]).__module__ == \"pandas.core.frame\" or isinstance(__backend_agg_dfs[0], list):\n            # pandas dataframe\n            spark.createDataFrame(__backend_agg_dfs[0]).createOrReplaceTempView(\"DatabricksView1335867\")\n        else:\n            __backend_agg_dfs[0].createOrReplaceTempView(\"DatabricksView1335867\")\n        #run backend agg\n        display(spark.sql(\"\"\"WITH q AS (select * from DatabricksView1335867) SELECT `market`,AVG(`popularity`) `column_d91d366324` FROM q GROUP BY `market`\"\"\"))\n    else:\n        displayHTML(\"dataframe no longer exists. If you're using dataframe.display(), use display(dataframe) instead.\")\n\n\nfinally:\n    spark.sql(\"drop view if exists DatabricksView1335867\")\n    display = __backend_agg_display_orig\n    del __backend_agg_display_new\n    del __backend_agg_display_orig\n    del __backend_agg_dfs\n    del __backend_agg_user_code_fn\n\n",
       "commandTitle": "POPULARITY SCORE OF INDIE GENRE ACROSS MARKETS",
       "commandType": "auto",
       "commandVersion": 0,
       "commentThread": [],
       "commentsVisible": false,
       "contentSha256Hex": null,
       "customPlotOptions": {
        "redashChart": [
         {
          "key": "type",
          "value": "CHART"
         },
         {
          "key": "options",
          "value": {
           "alignYAxesAtZero": true,
           "coefficient": 1,
           "columnConfigurationMap": {
            "x": {
             "column": "market",
             "id": "column_d91d366322"
            },
            "y": [
             {
              "column": "popularity",
              "id": "column_d91d366324",
              "transform": "AVG"
             }
            ]
           },
           "dateTimeFormat": "DD/MM/YYYY HH:mm",
           "direction": {
            "type": "counterclockwise"
           },
           "error_y": {
            "type": "data",
            "visible": true
           },
           "globalSeriesType": "column",
           "isAggregationOn": true,
           "legend": {
            "traceorder": "normal"
           },
           "missingValuesAsZero": true,
           "numberFormat": "0,0.[00000]",
           "percentFormat": "0[.]00%",
           "series": {
            "error_y": {
             "type": "data",
             "visible": true
            },
            "stacking": null
           },
           "seriesOptions": {
            "column_d91d366324": {
             "color": "#99DDB4",
             "type": "column",
             "yAxis": 0
            }
           },
           "showDataLabels": false,
           "sizemode": "diameter",
           "sortX": true,
           "sortY": true,
           "swappedAxes": false,
           "textFormat": "",
           "useAggregationsUi": true,
           "valuesOptions": {},
           "version": 2,
           "xAxis": {
            "labels": {
             "enabled": true
            },
            "title": {
             "text": "Group Of Markets For Indie Genre"
            },
            "type": "-"
           },
           "yAxis": [
            {
             "title": {
              "text": "Average Popularity Score"
             },
             "type": "-"
            },
            {
             "opposite": true,
             "type": "-"
            }
           ]
          }
         }
        ]
       },
       "datasetPreviewNameToCmdIdMap": {},
       "diffDeletes": [],
       "diffInserts": [],
       "displayType": "redashChart",
       "error": null,
       "errorDetails": null,
       "errorSummary": null,
       "errorTraceType": null,
       "finishTime": 0,
       "globalVars": {},
       "guid": "",
       "height": "auto",
       "hideCommandCode": false,
       "hideCommandResult": false,
       "iPythonMetadata": null,
       "inputWidgets": {},
       "isLockedInExamMode": false,
       "latestUser": "a user",
       "latestUserId": null,
       "listResultMetadata": null,
       "metadata": {
        "byteLimit": 2048000,
        "rowLimit": 10000
       },
       "nuid": "e973f86e-72d9-41c3-bbcc-fbbb2f4a0939",
       "origId": 0,
       "parentHierarchy": [],
       "pivotAggregation": null,
       "pivotColumns": null,
       "position": 28.0,
       "resultDbfsErrorMessage": null,
       "resultDbfsStatus": "INLINED_IN_TREE",
       "results": null,
       "showCommandTitle": false,
       "startTime": 0,
       "state": "input",
       "streamStates": {},
       "subcommandOptions": {
        "queryPlan": {
         "groups": [
          {
           "column": "market",
           "type": "column"
          }
         ],
         "selects": [
          {
           "column": "market",
           "type": "column"
          },
          {
           "alias": "column_d91d366324",
           "args": [
            {
             "column": "popularity",
             "type": "column"
            }
           ],
           "function": "AVG",
           "type": "function"
          }
         ]
        }
       },
       "submitTime": 0,
       "subtype": "tableResultSubCmd.visualization",
       "tableResultIndex": 0,
       "useConsistentColors": false,
       "version": "CommandV1",
       "width": "auto",
       "workflows": [],
       "xColumns": null,
       "yColumns": null
      }
     },
     "output_type": "display_data"
    }
   ],
   "source": [
    "\n",
    "# Fetching recommendations including popularity score\n",
    "results = sp.recommendations(seed_genres=[\"indie\",], limit=100)\n",
    "\n",
    "# Filtering available markets and converting to a Spark DataFrame with popularity score\n",
    "desired_markets = {\"US\", \"CA\", \"AU\", \"BR\", \"KR\", \"JP\", \"FR\"}\n",
    "rows = [\n",
    "    Row(\n",
    "        name=track[\"artists\"][0][\"name\"], \n",
    "        id=track[\"artists\"][0][\"id\"], \n",
    "        market=[market for market in track[\"available_markets\"] if market in desired_markets], \n",
    "        popularity=track[\"popularity\"]\n",
    "    ) \n",
    "    for track in results[\"tracks\"]\n",
    "]\n",
    "df = spark.createDataFrame(rows)\n",
    "\n",
    "display(df)"
   ]
  },
  {
   "cell_type": "markdown",
   "metadata": {
    "application/vnd.databricks.v1+cell": {
     "cellMetadata": {
      "byteLimit": 2048000,
      "rowLimit": 10000
     },
     "inputWidgets": {},
     "nuid": "e77c55f8-258f-41d5-8c5b-ce116db0a070",
     "showTitle": false,
     "title": ""
    }
   },
   "source": [
    "**Interpret the popularity of INDIE genre across markets**\n",
    "\n",
    "Consistent Popularity: Indie music generally enjoys a consistent level of popularity across different market combinations, mostly ranging between 50 and 70. This suggests a steady global appeal, though not as high as some other genres might experience.\n",
    "\n",
    "Impact of Specific Markets:\n",
    "\n",
    "US Market: Including the United States market seems to boost popularity slightly, as combinations with United States tend to be on the higher end of the range.\n",
    "\n",
    "\n",
    "Limited Markets: Releasing in Canada or Japan or Australia only is associated with lower average popularity.\n",
    "\n",
    "Market Combinations: Some specific combinations (e.g., AU, BR, CA, US) seem to perform slightly better than others.\n",
    "\n",
    "Overall: The chart indicates that Indie music maintains a decent level of popularity globally. However, strategic market selection might play a role in maximizing its reach and potential success.\n",
    "\n"
   ]
  },
  {
   "cell_type": "code",
   "execution_count": 0,
   "metadata": {
    "application/vnd.databricks.v1+cell": {
     "cellMetadata": {
      "byteLimit": 2048000,
      "rowLimit": 10000
     },
     "inputWidgets": {},
     "nuid": "c8178932-12a0-4bb9-890c-d1b44b0532fc",
     "showTitle": false,
     "title": ""
    }
   },
   "outputs": [
    {
     "output_type": "display_data",
     "data": {
      "text/html": [
       "<style scoped>\n",
       "  .table-result-container {\n",
       "    max-height: 300px;\n",
       "    overflow: auto;\n",
       "  }\n",
       "  table, th, td {\n",
       "    border: 1px solid black;\n",
       "    border-collapse: collapse;\n",
       "  }\n",
       "  th, td {\n",
       "    padding: 5px;\n",
       "  }\n",
       "  th {\n",
       "    text-align: left;\n",
       "  }\n",
       "</style><div class='table-result-container'><table class='table-result'><thead style='background-color: white'><tr><th>name</th><th>id</th><th>market</th><th>popularity</th></tr></thead><tbody><tr><td>JID</td><td>6U3ybJ9UHNKEdsH7ktGBZ7</td><td>List(AU, BR, CA, FR, US, JP, KR)</td><td>59</td></tr><tr><td>Busta Rhymes</td><td>1YfEcTuGvBQ8xSD1f53UnK</td><td>List(AU, BR, CA, FR, US, JP, KR)</td><td>57</td></tr><tr><td>Dr. Dre</td><td>6DPYiyq5kWVQS4RGwxzPC7</td><td>List()</td><td>0</td></tr><tr><td>Snoop Dogg</td><td>7hJcb9fa4alzcOq3EaNPoG</td><td>List(CA, KR, US)</td><td>67</td></tr><tr><td>6ix9ine</td><td>7gZfnEnfiaHzxARJ2LeXrf</td><td>List()</td><td>2</td></tr><tr><td>Rocko</td><td>0T5OJgMVjKIX3b3W3ekqOl</td><td>List(AU, BR, CA, FR, US, JP, KR)</td><td>55</td></tr><tr><td>Mos Def</td><td>0Mz5XE0kb1GBnbLQm2VbcO</td><td>List(AU, BR, CA, FR, US, JP, KR)</td><td>68</td></tr><tr><td>YG</td><td>0A0FS04o6zMoto8OKPsDwY</td><td>List()</td><td>0</td></tr><tr><td>Gucci Mane</td><td>13y7CgLHjMVRMDqxdx0Xdo</td><td>List(AU, BR, CA, FR, US, JP, KR)</td><td>53</td></tr><tr><td>Westside Connection</td><td>3zNM2tRfTX6LI1lN2PlrTt</td><td>List(US)</td><td>56</td></tr><tr><td>Quality Control</td><td>6i392l38cR3uBPF0DbNs7S</td><td>List(AU, BR, CA, FR, US, JP, KR)</td><td>54</td></tr><tr><td>Carnage</td><td>7CCjtD0hCK005Bvg2WG1a7</td><td>List(AU, BR, CA, FR, US, JP)</td><td>47</td></tr><tr><td>YBN Nahmir</td><td>3gGUMEwIX6XodWsYEvKSal</td><td>List(AU, BR, CA, FR, US, JP, KR)</td><td>62</td></tr><tr><td>Afroman</td><td>4Icvbp9RDt5aY2TWDOVDsr</td><td>List(AU, BR, CA, FR, US, JP, KR)</td><td>69</td></tr><tr><td>French Montana</td><td>6vXTefBL93Dj5IqAWq6OTv</td><td>List(AU, BR, CA, FR, US, JP)</td><td>45</td></tr><tr><td>The Weeknd</td><td>1Xyo4u8uXC1ZmMpatF05PJ</td><td>List(AU, BR, CA, FR, US, JP, KR)</td><td>46</td></tr><tr><td>Quavo</td><td>0VRj0yCOv2FXJNP47XQnx5</td><td>List(AU, BR, CA, FR, US, JP, KR)</td><td>53</td></tr><tr><td>Migos</td><td>6oMuImdp5ZcFhWP0ESe6mG</td><td>List(AU, BR, CA, FR, US, JP, KR)</td><td>52</td></tr><tr><td>The Notorious B.I.G.</td><td>5me0Irg2ANcsgc93uaYrpb</td><td>List(AU, BR, CA, FR, US, JP, KR)</td><td>77</td></tr><tr><td>Drake</td><td>3TVXtAsR1Inumwj472S9r4</td><td>List(AU, BR, CA, FR, US, JP, KR)</td><td>56</td></tr><tr><td>MadeinTYO</td><td>5SyGEPymt1G2uto47tVWvZ</td><td>List()</td><td>0</td></tr><tr><td>Wiz Khalifa</td><td>137W8MRPWKqSmrBGDBFSop</td><td>List(AU, BR, CA, FR, US, JP, KR)</td><td>55</td></tr><tr><td>Bone Thugs-N-Harmony</td><td>5spEJXLwD1sKUdC2bnOHPg</td><td>List(AU, BR, CA, FR, JP, KR, US)</td><td>61</td></tr><tr><td>Wu-Tang Clan</td><td>34EP7KEpOjXcM2TCat1ISk</td><td>List(AU, BR, CA, FR, US, JP)</td><td>62</td></tr><tr><td>Kevin Gates</td><td>1gPhS1zisyXr5dHTYZyiMe</td><td>List(AU, BR, CA, FR, JP, KR)</td><td>17</td></tr><tr><td>Lil Pump</td><td>3wyVrVrFCkukjdVIdirGVY</td><td>List(AU, BR, CA, FR, US, JP, KR)</td><td>51</td></tr><tr><td>Twista</td><td>6vbY3hOaCAhC7VjucswgdS</td><td>List(AU, BR, CA, FR, US, JP, KR)</td><td>48</td></tr><tr><td>GZA</td><td>6ns6XAOsw4B0nDUIovAOUO</td><td>List(AU, BR, CA, FR, US, JP, KR)</td><td>54</td></tr><tr><td>Young Thug</td><td>50co4Is1HCEo8bhOyUWKpn</td><td>List(AU, BR, CA, FR, US, JP, KR)</td><td>48</td></tr><tr><td>Kodak Black</td><td>46SHBwWsqBkxI7EeeBEQG7</td><td>List(AU, BR, CA, FR, US, JP, KR)</td><td>72</td></tr><tr><td>Playboi Carti</td><td>699OTQXzgjhIYAHMy9RyPD</td><td>List(AU, BR, CA, FR, US, JP, KR)</td><td>70</td></tr><tr><td>Kendrick Lamar</td><td>2YZyLoL8N0Wb9xBt1NhZWg</td><td>List(CA, US)</td><td>57</td></tr><tr><td>Kanye West</td><td>5K4W6rqBFWDnAN6FQUkS6x</td><td>List(AU, BR, CA, FR, US, JP, KR)</td><td>80</td></tr><tr><td>A$AP Mob</td><td>7yO4IdJjCEPz7YgZMe25iS</td><td>List(AU, BR, CA, FR, US, JP)</td><td>55</td></tr><tr><td>Juice WRLD</td><td>4MCBfE4596Uoi2O4DtmEMz</td><td>List()</td><td>0</td></tr><tr><td>DJ Khaled</td><td>0QHgL1lAIqAw0HtD7YldmP</td><td>List(AU, BR, CA, FR, US, JP)</td><td>61</td></tr><tr><td>Ahmad Lewis</td><td>4X3nIh5dynzfAQmy1Z5hXI</td><td>List(AU, BR, CA, FR, US, JP, KR)</td><td>40</td></tr><tr><td>Ol' Dirty Bastard</td><td>50NoVNy9GU1lCrDV8iGpyu</td><td>List(AU, BR, CA, FR, US, JP, KR)</td><td>65</td></tr><tr><td>Mac Miller</td><td>4LLpKhyESsyAXpc4laK94U</td><td>List(AU, BR, CA, FR, US, JP, KR)</td><td>72</td></tr><tr><td>2 Chainz</td><td>17lzZA2AlOHwCwFALHttmp</td><td>List()</td><td>0</td></tr><tr><td>Sam Hunt</td><td>2kucQ9jQwuD8jWdtR9Ef38</td><td>List(AU, BR, CA, FR, US, JP, KR)</td><td>68</td></tr><tr><td>Kodak Black</td><td>46SHBwWsqBkxI7EeeBEQG7</td><td>List(AU, BR, CA, FR, US, JP, KR)</td><td>61</td></tr><tr><td>50 Cent</td><td>3q7HBObVc0L8jNeTe5Gofh</td><td>List(AU, BR, CA, FR, US, JP, KR)</td><td>76</td></tr><tr><td>DJ Khaled</td><td>0QHgL1lAIqAw0HtD7YldmP</td><td>List(AU, BR, CA, FR, JP)</td><td>71</td></tr><tr><td>Travis Scott</td><td>0Y5tJX1MQlPlqiwlOH1tJY</td><td>List(AU, BR, CA, FR, US, JP)</td><td>86</td></tr><tr><td>Drake</td><td>3TVXtAsR1Inumwj472S9r4</td><td>List(AU, BR, CA, FR, US, JP, KR)</td><td>62</td></tr><tr><td>Future</td><td>1RyvyyTE3xzB2ZywiAwp0i</td><td>List(AU, BR, CA, FR, US, JP)</td><td>61</td></tr><tr><td>A$AP Rocky</td><td>13ubrt8QOOCPljQ2FL1Kca</td><td>List(AU, BR, CA, FR, US, JP)</td><td>77</td></tr><tr><td>T.I.</td><td>4OBJLual30L7gRl5UkeRcT</td><td>List(AU, BR, CA, FR, US, JP, KR)</td><td>62</td></tr><tr><td>Nelly</td><td>2gBjLmx6zQnFGQJCAQpRgw</td><td>List()</td><td>51</td></tr><tr><td>Kanye West</td><td>5K4W6rqBFWDnAN6FQUkS6x</td><td>List(AU, BR, CA, FR, US, JP, KR)</td><td>61</td></tr><tr><td>Yung Joc</td><td>23LbwefIODbyGdRbAz3urj</td><td>List(AU, BR, CA, FR, US, JP, KR)</td><td>64</td></tr><tr><td>21 Savage</td><td>1URnnhqYAYcrqrcwql10ft</td><td>List(AU, BR, CA, FR, US, JP, KR)</td><td>69</td></tr><tr><td>G-Eazy</td><td>02kJSzxNuaWGqwubyUba0Z</td><td>List(AU, BR, CA, FR, US)</td><td>45</td></tr><tr><td>A Tribe Called Quest</td><td>09hVIj6vWgoCDtT03h8ZCa</td><td>List(AU, BR, CA, FR, US, JP)</td><td>53</td></tr><tr><td>Mac Miller</td><td>4LLpKhyESsyAXpc4laK94U</td><td>List(AU, BR, CA, FR, US, JP, KR)</td><td>72</td></tr><tr><td>A$AP Rocky</td><td>13ubrt8QOOCPljQ2FL1Kca</td><td>List(AU, BR, CA, FR, US, JP)</td><td>63</td></tr><tr><td>Fat Joe</td><td>3ScY9CQxNLQei8Umvpx5g6</td><td>List(AU, BR, CA, FR, US, JP, KR)</td><td>73</td></tr><tr><td>Khalid</td><td>6LuN9FCkKOj5PcnpouEgny</td><td>List(AU, BR, CA, FR, US, JP)</td><td>46</td></tr><tr><td>2Pac</td><td>1ZwdS5xdxEREPySFridCfh</td><td>List(AU, BR, CA, FR, US, JP, KR)</td><td>37</td></tr><tr><td>Post Malone</td><td>246dkjvS1zLTtiykXe5h60</td><td>List(AU, BR, CA, FR, US, JP, KR)</td><td>75</td></tr><tr><td>3X Krazy</td><td>7jVdnobjK8xR3M5OeFGbAF</td><td>List()</td><td>0</td></tr><tr><td>Nicki Minaj</td><td>0hCNtLu0JehylgoiP8L4Gh</td><td>List(AU, BR, CA, FR, US, JP, KR)</td><td>57</td></tr><tr><td>The D.O.C.</td><td>2htToCUWzqrvOX6ISJY1nd</td><td>List(AU, BR, CA, FR, US, JP, KR)</td><td>44</td></tr><tr><td>The Pharcyde</td><td>7yk35uHNQclPXFGFoTU44w</td><td>List(AU, BR, CA, FR, US, JP, KR)</td><td>52</td></tr><tr><td>Nelly</td><td>2gBjLmx6zQnFGQJCAQpRgw</td><td>List()</td><td>0</td></tr><tr><td>Tyler, The Creator</td><td>4V8LLVI7PbaPR0K2TGSxFF</td><td>List(AU, BR, CA, FR, US, JP)</td><td>89</td></tr><tr><td>Young Thug</td><td>50co4Is1HCEo8bhOyUWKpn</td><td>List(AU, BR, CA, FR, US, JP, KR)</td><td>65</td></tr><tr><td>Macklemore & Ryan Lewis</td><td>6WLvgbfYXQPO396oJEYCsi</td><td>List(AU, BR, CA, US, JP, KR)</td><td>78</td></tr><tr><td>Logic</td><td>4xRYI6VqpkE3UwrDrAZL8L</td><td>List(AU, BR, CA, FR, US, JP, KR)</td><td>53</td></tr><tr><td>Metro Boomin</td><td>0iEtIxbK0KxaSlF7G42ZOp</td><td>List()</td><td>0</td></tr><tr><td>Juicy J</td><td>5gCRApTajqwbnHHPbr2Fpi</td><td>List(AU, BR, CA, FR, US, JP)</td><td>46</td></tr><tr><td>Ludacris</td><td>3ipn9JLAPI5GUEo4y4jcoi</td><td>List(AU, BR, CA, FR, US, JP, KR)</td><td>39</td></tr><tr><td>A$AP Ferg</td><td>5dHt1vcEm9qb8fCyLcB3HL</td><td>List(AU, BR, CA, FR, US, JP)</td><td>41</td></tr><tr><td>Kendrick Lamar</td><td>2YZyLoL8N0Wb9xBt1NhZWg</td><td>List(CA, US)</td><td>67</td></tr><tr><td>Hieroglyphics</td><td>0XTSrpKEUhzQ5aiYswppxh</td><td>List(AU, BR, CA, FR, US, JP, KR)</td><td>46</td></tr><tr><td>EPMD</td><td>3zpKjsMg2gw1St5WcWoUJN</td><td>List(AU, BR, CA, FR, US, JP, KR)</td><td>43</td></tr><tr><td>2Pac</td><td>1ZwdS5xdxEREPySFridCfh</td><td>List()</td><td>0</td></tr><tr><td>Lil Uzi Vert</td><td>4O15NlyKLIASxsJ0PrXPfz</td><td>List(AU, BR, CA, FR, US, JP, KR)</td><td>60</td></tr><tr><td>Kendrick Lamar</td><td>2YZyLoL8N0Wb9xBt1NhZWg</td><td>List(AU, BR, CA, FR, US, JP, KR)</td><td>73</td></tr><tr><td>Joey Bada$$</td><td>2P5sC9cVZDToPxyomzF1UH</td><td>List()</td><td>0</td></tr><tr><td>J. Cole</td><td>6l3HvQ5sa6mXTsMTB19rO5</td><td>List(AU, BR, CA, FR, US, JP, KR)</td><td>53</td></tr><tr><td>Onyx</td><td>10Khz9BDdDT2mzm3330Cvu</td><td>List(AU, BR, CA, FR, JP, KR, US)</td><td>59</td></tr><tr><td>DJ Khaled</td><td>0QHgL1lAIqAw0HtD7YldmP</td><td>List()</td><td>0</td></tr><tr><td>Nas</td><td>20qISvAhX20dpIbOOzGK3q</td><td>List(AU, BR, CA, FR, US, JP)</td><td>57</td></tr><tr><td>Post Malone</td><td>246dkjvS1zLTtiykXe5h60</td><td>List()</td><td>8</td></tr><tr><td>GoldLink</td><td>5XenQ7XfcvQdfIbpLEFaKQ</td><td>List(AU, BR, CA, FR, US, JP)</td><td>74</td></tr><tr><td>Bow Wow</td><td>7352aRY2mqSxBZwzUb6LmA</td><td>List()</td><td>35</td></tr><tr><td>Bruno Mars</td><td>0du5cEVh5yTK9QJze8zA0C</td><td>List(AU, BR, CA, FR, US, JP, KR)</td><td>47</td></tr><tr><td>Drake</td><td>3TVXtAsR1Inumwj472S9r4</td><td>List(AU, BR, CA, FR, US, JP, KR)</td><td>71</td></tr><tr><td>Chance the Rapper</td><td>1anyVhU62p31KFi8MEzkbf</td><td>List(AU, BR, CA, FR, US, JP, KR)</td><td>47</td></tr><tr><td>Iggy Azalea</td><td>5yG7ZAZafVaAlMTeBybKAL</td><td>List(AU, BR, CA, FR, JP, US)</td><td>60</td></tr><tr><td>Offset</td><td>4DdkRBBYG6Yk9Ka8tdJ9BW</td><td>List(AU, BR, CA, FR, US, JP)</td><td>84</td></tr><tr><td>Chris Brown</td><td>7bXgB6jMjp9ATFy66eO08Z</td><td>List(AU, BR, CA, FR, US, JP)</td><td>47</td></tr><tr><td>PnB Rock</td><td>21WS9wngs9AqFckK7yYJPM</td><td>List(AU, BR, CA, FR, US, JP, KR)</td><td>68</td></tr><tr><td>Mac Miller</td><td>4LLpKhyESsyAXpc4laK94U</td><td>List(AU, BR, CA, FR, US, JP, KR)</td><td>75</td></tr><tr><td>Eminem</td><td>7dGJo4pcD2V6oG8kP0tJRR</td><td>List()</td><td>0</td></tr><tr><td>Diddy</td><td>59wfkuBoNyhDMQGCljbUbA</td><td>List(AU, BR, CA, FR, US, JP, KR)</td><td>55</td></tr><tr><td>Dr. Dre</td><td>6DPYiyq5kWVQS4RGwxzPC7</td><td>List()</td><td>0</td></tr><tr><td>Coolio</td><td>3y24n3XhZ96wgwRXjvS17T</td><td>List()</td><td>4</td></tr></tbody></table></div>"
      ]
     },
     "metadata": {
      "application/vnd.databricks.v1+output": {
       "addedWidgets": {},
       "aggData": [],
       "aggError": "",
       "aggOverflow": false,
       "aggSchema": [],
       "aggSeriesLimitReached": false,
       "aggType": "",
       "arguments": {},
       "columnCustomDisplayInfos": {},
       "data": [
        [
         "JID",
         "6U3ybJ9UHNKEdsH7ktGBZ7",
         [
          "AU",
          "BR",
          "CA",
          "FR",
          "US",
          "JP",
          "KR"
         ],
         59
        ],
        [
         "Busta Rhymes",
         "1YfEcTuGvBQ8xSD1f53UnK",
         [
          "AU",
          "BR",
          "CA",
          "FR",
          "US",
          "JP",
          "KR"
         ],
         57
        ],
        [
         "Dr. Dre",
         "6DPYiyq5kWVQS4RGwxzPC7",
         [],
         0
        ],
        [
         "Snoop Dogg",
         "7hJcb9fa4alzcOq3EaNPoG",
         [
          "CA",
          "KR",
          "US"
         ],
         67
        ],
        [
         "6ix9ine",
         "7gZfnEnfiaHzxARJ2LeXrf",
         [],
         2
        ],
        [
         "Rocko",
         "0T5OJgMVjKIX3b3W3ekqOl",
         [
          "AU",
          "BR",
          "CA",
          "FR",
          "US",
          "JP",
          "KR"
         ],
         55
        ],
        [
         "Mos Def",
         "0Mz5XE0kb1GBnbLQm2VbcO",
         [
          "AU",
          "BR",
          "CA",
          "FR",
          "US",
          "JP",
          "KR"
         ],
         68
        ],
        [
         "YG",
         "0A0FS04o6zMoto8OKPsDwY",
         [],
         0
        ],
        [
         "Gucci Mane",
         "13y7CgLHjMVRMDqxdx0Xdo",
         [
          "AU",
          "BR",
          "CA",
          "FR",
          "US",
          "JP",
          "KR"
         ],
         53
        ],
        [
         "Westside Connection",
         "3zNM2tRfTX6LI1lN2PlrTt",
         [
          "US"
         ],
         56
        ],
        [
         "Quality Control",
         "6i392l38cR3uBPF0DbNs7S",
         [
          "AU",
          "BR",
          "CA",
          "FR",
          "US",
          "JP",
          "KR"
         ],
         54
        ],
        [
         "Carnage",
         "7CCjtD0hCK005Bvg2WG1a7",
         [
          "AU",
          "BR",
          "CA",
          "FR",
          "US",
          "JP"
         ],
         47
        ],
        [
         "YBN Nahmir",
         "3gGUMEwIX6XodWsYEvKSal",
         [
          "AU",
          "BR",
          "CA",
          "FR",
          "US",
          "JP",
          "KR"
         ],
         62
        ],
        [
         "Afroman",
         "4Icvbp9RDt5aY2TWDOVDsr",
         [
          "AU",
          "BR",
          "CA",
          "FR",
          "US",
          "JP",
          "KR"
         ],
         69
        ],
        [
         "French Montana",
         "6vXTefBL93Dj5IqAWq6OTv",
         [
          "AU",
          "BR",
          "CA",
          "FR",
          "US",
          "JP"
         ],
         45
        ],
        [
         "The Weeknd",
         "1Xyo4u8uXC1ZmMpatF05PJ",
         [
          "AU",
          "BR",
          "CA",
          "FR",
          "US",
          "JP",
          "KR"
         ],
         46
        ],
        [
         "Quavo",
         "0VRj0yCOv2FXJNP47XQnx5",
         [
          "AU",
          "BR",
          "CA",
          "FR",
          "US",
          "JP",
          "KR"
         ],
         53
        ],
        [
         "Migos",
         "6oMuImdp5ZcFhWP0ESe6mG",
         [
          "AU",
          "BR",
          "CA",
          "FR",
          "US",
          "JP",
          "KR"
         ],
         52
        ],
        [
         "The Notorious B.I.G.",
         "5me0Irg2ANcsgc93uaYrpb",
         [
          "AU",
          "BR",
          "CA",
          "FR",
          "US",
          "JP",
          "KR"
         ],
         77
        ],
        [
         "Drake",
         "3TVXtAsR1Inumwj472S9r4",
         [
          "AU",
          "BR",
          "CA",
          "FR",
          "US",
          "JP",
          "KR"
         ],
         56
        ],
        [
         "MadeinTYO",
         "5SyGEPymt1G2uto47tVWvZ",
         [],
         0
        ],
        [
         "Wiz Khalifa",
         "137W8MRPWKqSmrBGDBFSop",
         [
          "AU",
          "BR",
          "CA",
          "FR",
          "US",
          "JP",
          "KR"
         ],
         55
        ],
        [
         "Bone Thugs-N-Harmony",
         "5spEJXLwD1sKUdC2bnOHPg",
         [
          "AU",
          "BR",
          "CA",
          "FR",
          "JP",
          "KR",
          "US"
         ],
         61
        ],
        [
         "Wu-Tang Clan",
         "34EP7KEpOjXcM2TCat1ISk",
         [
          "AU",
          "BR",
          "CA",
          "FR",
          "US",
          "JP"
         ],
         62
        ],
        [
         "Kevin Gates",
         "1gPhS1zisyXr5dHTYZyiMe",
         [
          "AU",
          "BR",
          "CA",
          "FR",
          "JP",
          "KR"
         ],
         17
        ],
        [
         "Lil Pump",
         "3wyVrVrFCkukjdVIdirGVY",
         [
          "AU",
          "BR",
          "CA",
          "FR",
          "US",
          "JP",
          "KR"
         ],
         51
        ],
        [
         "Twista",
         "6vbY3hOaCAhC7VjucswgdS",
         [
          "AU",
          "BR",
          "CA",
          "FR",
          "US",
          "JP",
          "KR"
         ],
         48
        ],
        [
         "GZA",
         "6ns6XAOsw4B0nDUIovAOUO",
         [
          "AU",
          "BR",
          "CA",
          "FR",
          "US",
          "JP",
          "KR"
         ],
         54
        ],
        [
         "Young Thug",
         "50co4Is1HCEo8bhOyUWKpn",
         [
          "AU",
          "BR",
          "CA",
          "FR",
          "US",
          "JP",
          "KR"
         ],
         48
        ],
        [
         "Kodak Black",
         "46SHBwWsqBkxI7EeeBEQG7",
         [
          "AU",
          "BR",
          "CA",
          "FR",
          "US",
          "JP",
          "KR"
         ],
         72
        ],
        [
         "Playboi Carti",
         "699OTQXzgjhIYAHMy9RyPD",
         [
          "AU",
          "BR",
          "CA",
          "FR",
          "US",
          "JP",
          "KR"
         ],
         70
        ],
        [
         "Kendrick Lamar",
         "2YZyLoL8N0Wb9xBt1NhZWg",
         [
          "CA",
          "US"
         ],
         57
        ],
        [
         "Kanye West",
         "5K4W6rqBFWDnAN6FQUkS6x",
         [
          "AU",
          "BR",
          "CA",
          "FR",
          "US",
          "JP",
          "KR"
         ],
         80
        ],
        [
         "A$AP Mob",
         "7yO4IdJjCEPz7YgZMe25iS",
         [
          "AU",
          "BR",
          "CA",
          "FR",
          "US",
          "JP"
         ],
         55
        ],
        [
         "Juice WRLD",
         "4MCBfE4596Uoi2O4DtmEMz",
         [],
         0
        ],
        [
         "DJ Khaled",
         "0QHgL1lAIqAw0HtD7YldmP",
         [
          "AU",
          "BR",
          "CA",
          "FR",
          "US",
          "JP"
         ],
         61
        ],
        [
         "Ahmad Lewis",
         "4X3nIh5dynzfAQmy1Z5hXI",
         [
          "AU",
          "BR",
          "CA",
          "FR",
          "US",
          "JP",
          "KR"
         ],
         40
        ],
        [
         "Ol' Dirty Bastard",
         "50NoVNy9GU1lCrDV8iGpyu",
         [
          "AU",
          "BR",
          "CA",
          "FR",
          "US",
          "JP",
          "KR"
         ],
         65
        ],
        [
         "Mac Miller",
         "4LLpKhyESsyAXpc4laK94U",
         [
          "AU",
          "BR",
          "CA",
          "FR",
          "US",
          "JP",
          "KR"
         ],
         72
        ],
        [
         "2 Chainz",
         "17lzZA2AlOHwCwFALHttmp",
         [],
         0
        ],
        [
         "Sam Hunt",
         "2kucQ9jQwuD8jWdtR9Ef38",
         [
          "AU",
          "BR",
          "CA",
          "FR",
          "US",
          "JP",
          "KR"
         ],
         68
        ],
        [
         "Kodak Black",
         "46SHBwWsqBkxI7EeeBEQG7",
         [
          "AU",
          "BR",
          "CA",
          "FR",
          "US",
          "JP",
          "KR"
         ],
         61
        ],
        [
         "50 Cent",
         "3q7HBObVc0L8jNeTe5Gofh",
         [
          "AU",
          "BR",
          "CA",
          "FR",
          "US",
          "JP",
          "KR"
         ],
         76
        ],
        [
         "DJ Khaled",
         "0QHgL1lAIqAw0HtD7YldmP",
         [
          "AU",
          "BR",
          "CA",
          "FR",
          "JP"
         ],
         71
        ],
        [
         "Travis Scott",
         "0Y5tJX1MQlPlqiwlOH1tJY",
         [
          "AU",
          "BR",
          "CA",
          "FR",
          "US",
          "JP"
         ],
         86
        ],
        [
         "Drake",
         "3TVXtAsR1Inumwj472S9r4",
         [
          "AU",
          "BR",
          "CA",
          "FR",
          "US",
          "JP",
          "KR"
         ],
         62
        ],
        [
         "Future",
         "1RyvyyTE3xzB2ZywiAwp0i",
         [
          "AU",
          "BR",
          "CA",
          "FR",
          "US",
          "JP"
         ],
         61
        ],
        [
         "A$AP Rocky",
         "13ubrt8QOOCPljQ2FL1Kca",
         [
          "AU",
          "BR",
          "CA",
          "FR",
          "US",
          "JP"
         ],
         77
        ],
        [
         "T.I.",
         "4OBJLual30L7gRl5UkeRcT",
         [
          "AU",
          "BR",
          "CA",
          "FR",
          "US",
          "JP",
          "KR"
         ],
         62
        ],
        [
         "Nelly",
         "2gBjLmx6zQnFGQJCAQpRgw",
         [],
         51
        ],
        [
         "Kanye West",
         "5K4W6rqBFWDnAN6FQUkS6x",
         [
          "AU",
          "BR",
          "CA",
          "FR",
          "US",
          "JP",
          "KR"
         ],
         61
        ],
        [
         "Yung Joc",
         "23LbwefIODbyGdRbAz3urj",
         [
          "AU",
          "BR",
          "CA",
          "FR",
          "US",
          "JP",
          "KR"
         ],
         64
        ],
        [
         "21 Savage",
         "1URnnhqYAYcrqrcwql10ft",
         [
          "AU",
          "BR",
          "CA",
          "FR",
          "US",
          "JP",
          "KR"
         ],
         69
        ],
        [
         "G-Eazy",
         "02kJSzxNuaWGqwubyUba0Z",
         [
          "AU",
          "BR",
          "CA",
          "FR",
          "US"
         ],
         45
        ],
        [
         "A Tribe Called Quest",
         "09hVIj6vWgoCDtT03h8ZCa",
         [
          "AU",
          "BR",
          "CA",
          "FR",
          "US",
          "JP"
         ],
         53
        ],
        [
         "Mac Miller",
         "4LLpKhyESsyAXpc4laK94U",
         [
          "AU",
          "BR",
          "CA",
          "FR",
          "US",
          "JP",
          "KR"
         ],
         72
        ],
        [
         "A$AP Rocky",
         "13ubrt8QOOCPljQ2FL1Kca",
         [
          "AU",
          "BR",
          "CA",
          "FR",
          "US",
          "JP"
         ],
         63
        ],
        [
         "Fat Joe",
         "3ScY9CQxNLQei8Umvpx5g6",
         [
          "AU",
          "BR",
          "CA",
          "FR",
          "US",
          "JP",
          "KR"
         ],
         73
        ],
        [
         "Khalid",
         "6LuN9FCkKOj5PcnpouEgny",
         [
          "AU",
          "BR",
          "CA",
          "FR",
          "US",
          "JP"
         ],
         46
        ],
        [
         "2Pac",
         "1ZwdS5xdxEREPySFridCfh",
         [
          "AU",
          "BR",
          "CA",
          "FR",
          "US",
          "JP",
          "KR"
         ],
         37
        ],
        [
         "Post Malone",
         "246dkjvS1zLTtiykXe5h60",
         [
          "AU",
          "BR",
          "CA",
          "FR",
          "US",
          "JP",
          "KR"
         ],
         75
        ],
        [
         "3X Krazy",
         "7jVdnobjK8xR3M5OeFGbAF",
         [],
         0
        ],
        [
         "Nicki Minaj",
         "0hCNtLu0JehylgoiP8L4Gh",
         [
          "AU",
          "BR",
          "CA",
          "FR",
          "US",
          "JP",
          "KR"
         ],
         57
        ],
        [
         "The D.O.C.",
         "2htToCUWzqrvOX6ISJY1nd",
         [
          "AU",
          "BR",
          "CA",
          "FR",
          "US",
          "JP",
          "KR"
         ],
         44
        ],
        [
         "The Pharcyde",
         "7yk35uHNQclPXFGFoTU44w",
         [
          "AU",
          "BR",
          "CA",
          "FR",
          "US",
          "JP",
          "KR"
         ],
         52
        ],
        [
         "Nelly",
         "2gBjLmx6zQnFGQJCAQpRgw",
         [],
         0
        ],
        [
         "Tyler, The Creator",
         "4V8LLVI7PbaPR0K2TGSxFF",
         [
          "AU",
          "BR",
          "CA",
          "FR",
          "US",
          "JP"
         ],
         89
        ],
        [
         "Young Thug",
         "50co4Is1HCEo8bhOyUWKpn",
         [
          "AU",
          "BR",
          "CA",
          "FR",
          "US",
          "JP",
          "KR"
         ],
         65
        ],
        [
         "Macklemore & Ryan Lewis",
         "6WLvgbfYXQPO396oJEYCsi",
         [
          "AU",
          "BR",
          "CA",
          "US",
          "JP",
          "KR"
         ],
         78
        ],
        [
         "Logic",
         "4xRYI6VqpkE3UwrDrAZL8L",
         [
          "AU",
          "BR",
          "CA",
          "FR",
          "US",
          "JP",
          "KR"
         ],
         53
        ],
        [
         "Metro Boomin",
         "0iEtIxbK0KxaSlF7G42ZOp",
         [],
         0
        ],
        [
         "Juicy J",
         "5gCRApTajqwbnHHPbr2Fpi",
         [
          "AU",
          "BR",
          "CA",
          "FR",
          "US",
          "JP"
         ],
         46
        ],
        [
         "Ludacris",
         "3ipn9JLAPI5GUEo4y4jcoi",
         [
          "AU",
          "BR",
          "CA",
          "FR",
          "US",
          "JP",
          "KR"
         ],
         39
        ],
        [
         "A$AP Ferg",
         "5dHt1vcEm9qb8fCyLcB3HL",
         [
          "AU",
          "BR",
          "CA",
          "FR",
          "US",
          "JP"
         ],
         41
        ],
        [
         "Kendrick Lamar",
         "2YZyLoL8N0Wb9xBt1NhZWg",
         [
          "CA",
          "US"
         ],
         67
        ],
        [
         "Hieroglyphics",
         "0XTSrpKEUhzQ5aiYswppxh",
         [
          "AU",
          "BR",
          "CA",
          "FR",
          "US",
          "JP",
          "KR"
         ],
         46
        ],
        [
         "EPMD",
         "3zpKjsMg2gw1St5WcWoUJN",
         [
          "AU",
          "BR",
          "CA",
          "FR",
          "US",
          "JP",
          "KR"
         ],
         43
        ],
        [
         "2Pac",
         "1ZwdS5xdxEREPySFridCfh",
         [],
         0
        ],
        [
         "Lil Uzi Vert",
         "4O15NlyKLIASxsJ0PrXPfz",
         [
          "AU",
          "BR",
          "CA",
          "FR",
          "US",
          "JP",
          "KR"
         ],
         60
        ],
        [
         "Kendrick Lamar",
         "2YZyLoL8N0Wb9xBt1NhZWg",
         [
          "AU",
          "BR",
          "CA",
          "FR",
          "US",
          "JP",
          "KR"
         ],
         73
        ],
        [
         "Joey Bada$$",
         "2P5sC9cVZDToPxyomzF1UH",
         [],
         0
        ],
        [
         "J. Cole",
         "6l3HvQ5sa6mXTsMTB19rO5",
         [
          "AU",
          "BR",
          "CA",
          "FR",
          "US",
          "JP",
          "KR"
         ],
         53
        ],
        [
         "Onyx",
         "10Khz9BDdDT2mzm3330Cvu",
         [
          "AU",
          "BR",
          "CA",
          "FR",
          "JP",
          "KR",
          "US"
         ],
         59
        ],
        [
         "DJ Khaled",
         "0QHgL1lAIqAw0HtD7YldmP",
         [],
         0
        ],
        [
         "Nas",
         "20qISvAhX20dpIbOOzGK3q",
         [
          "AU",
          "BR",
          "CA",
          "FR",
          "US",
          "JP"
         ],
         57
        ],
        [
         "Post Malone",
         "246dkjvS1zLTtiykXe5h60",
         [],
         8
        ],
        [
         "GoldLink",
         "5XenQ7XfcvQdfIbpLEFaKQ",
         [
          "AU",
          "BR",
          "CA",
          "FR",
          "US",
          "JP"
         ],
         74
        ],
        [
         "Bow Wow",
         "7352aRY2mqSxBZwzUb6LmA",
         [],
         35
        ],
        [
         "Bruno Mars",
         "0du5cEVh5yTK9QJze8zA0C",
         [
          "AU",
          "BR",
          "CA",
          "FR",
          "US",
          "JP",
          "KR"
         ],
         47
        ],
        [
         "Drake",
         "3TVXtAsR1Inumwj472S9r4",
         [
          "AU",
          "BR",
          "CA",
          "FR",
          "US",
          "JP",
          "KR"
         ],
         71
        ],
        [
         "Chance the Rapper",
         "1anyVhU62p31KFi8MEzkbf",
         [
          "AU",
          "BR",
          "CA",
          "FR",
          "US",
          "JP",
          "KR"
         ],
         47
        ],
        [
         "Iggy Azalea",
         "5yG7ZAZafVaAlMTeBybKAL",
         [
          "AU",
          "BR",
          "CA",
          "FR",
          "JP",
          "US"
         ],
         60
        ],
        [
         "Offset",
         "4DdkRBBYG6Yk9Ka8tdJ9BW",
         [
          "AU",
          "BR",
          "CA",
          "FR",
          "US",
          "JP"
         ],
         84
        ],
        [
         "Chris Brown",
         "7bXgB6jMjp9ATFy66eO08Z",
         [
          "AU",
          "BR",
          "CA",
          "FR",
          "US",
          "JP"
         ],
         47
        ],
        [
         "PnB Rock",
         "21WS9wngs9AqFckK7yYJPM",
         [
          "AU",
          "BR",
          "CA",
          "FR",
          "US",
          "JP",
          "KR"
         ],
         68
        ],
        [
         "Mac Miller",
         "4LLpKhyESsyAXpc4laK94U",
         [
          "AU",
          "BR",
          "CA",
          "FR",
          "US",
          "JP",
          "KR"
         ],
         75
        ],
        [
         "Eminem",
         "7dGJo4pcD2V6oG8kP0tJRR",
         [],
         0
        ],
        [
         "Diddy",
         "59wfkuBoNyhDMQGCljbUbA",
         [
          "AU",
          "BR",
          "CA",
          "FR",
          "US",
          "JP",
          "KR"
         ],
         55
        ],
        [
         "Dr. Dre",
         "6DPYiyq5kWVQS4RGwxzPC7",
         [],
         0
        ],
        [
         "Coolio",
         "3y24n3XhZ96wgwRXjvS17T",
         [],
         4
        ]
       ],
       "datasetInfos": [],
       "dbfsResultPath": null,
       "isJsonSchema": true,
       "metadata": {},
       "overflow": false,
       "plotOptions": {
        "customPlotOptions": {},
        "displayType": "table",
        "pivotAggregation": null,
        "pivotColumns": null,
        "xColumns": null,
        "yColumns": null
       },
       "removedWidgets": [],
       "schema": [
        {
         "metadata": "{}",
         "name": "name",
         "type": "\"string\""
        },
        {
         "metadata": "{}",
         "name": "id",
         "type": "\"string\""
        },
        {
         "metadata": "{}",
         "name": "market",
         "type": "{\"type\":\"array\",\"elementType\":\"string\",\"containsNull\":true}"
        },
        {
         "metadata": "{}",
         "name": "popularity",
         "type": "\"long\""
        }
       ],
       "type": "table"
      }
     },
     "output_type": "display_data"
    },
    {
     "output_type": "display_data",
     "data": {
      "text/plain": [
       "Databricks visualization. Run in Databricks to view."
      ]
     },
     "metadata": {
      "application/vnd.databricks.v1.subcommand+json": {
       "baseErrorDetails": null,
       "bindings": {},
       "collapsed": false,
       "command": "%python\n__backend_agg_display_orig = display\n__backend_agg_dfs = []\ndef __backend_agg_display_new(df):\n    __backend_agg_df_modules = [\"pandas.core.frame\", \"databricks.koalas.frame\", \"pyspark.sql.dataframe\", \"pyspark.pandas.frame\", \"pyspark.sql.connect.dataframe\"]\n    if (type(df).__module__ in __backend_agg_df_modules and type(df).__name__ == 'DataFrame') or isinstance(df, list):\n        __backend_agg_dfs.append(df)\n\ndisplay = __backend_agg_display_new\n\ndef __backend_agg_user_code_fn():\n    import base64\n    exec(base64.standard_b64decode(\"IyBGZXRjaGluZyByZWNvbW1lbmRhdGlvbnMgaW5jbHVkaW5nIHBvcHVsYXJpdHkgc2NvcmUKcmVzdWx0cyA9IHNwLnJlY29tbWVuZGF0aW9ucyhzZWVkX2dlbnJlcz1bImhpcC1ob3AiLF0sIGxpbWl0PTEwMCkKCiMgRmlsdGVyaW5nIGF2YWlsYWJsZSBtYXJrZXRzIGFuZCBjb252ZXJ0aW5nIHRvIGEgU3BhcmsgRGF0YUZyYW1lIHdpdGggcG9wdWxhcml0eSBzY29yZQpkZXNpcmVkX21hcmtldHMgPSB7IlVTIiwgIkNBIiwgIkFVIiwgIkJSIiwgIktSIiwgIkpQIiwgIkZSIn0Kcm93cyA9IFsKICAgIFJvdygKICAgICAgICBuYW1lPXRyYWNrWyJhcnRpc3RzIl1bMF1bIm5hbWUiXSwgCiAgICAgICAgaWQ9dHJhY2tbImFydGlzdHMiXVswXVsiaWQiXSwgCiAgICAgICAgbWFya2V0PVttYXJrZXQgZm9yIG1hcmtldCBpbiB0cmFja1siYXZhaWxhYmxlX21hcmtldHMiXSBpZiBtYXJrZXQgaW4gZGVzaXJlZF9tYXJrZXRzXSwgCiAgICAgICAgcG9wdWxhcml0eT10cmFja1sicG9wdWxhcml0eSJdCiAgICApIAogICAgZm9yIHRyYWNrIGluIHJlc3VsdHNbInRyYWNrcyJdCl0KZGYgPSBzcGFyay5jcmVhdGVEYXRhRnJhbWUocm93cykKCmRpc3BsYXkoZGYp\").decode())\n\ntry:\n    # run user code\n    __backend_agg_user_code_fn()\n\n    #reset display function\n    display = __backend_agg_display_orig\n\n    if len(__backend_agg_dfs) > 0:\n        # create a temp view\n        if type(__backend_agg_dfs[0]).__module__ == \"databricks.koalas.frame\":\n            # koalas dataframe\n            __backend_agg_dfs[0].to_spark().createOrReplaceTempView(\"DatabricksView63fad4c\")\n        elif type(__backend_agg_dfs[0]).__module__ == \"pandas.core.frame\" or isinstance(__backend_agg_dfs[0], list):\n            # pandas dataframe\n            spark.createDataFrame(__backend_agg_dfs[0]).createOrReplaceTempView(\"DatabricksView63fad4c\")\n        else:\n            __backend_agg_dfs[0].createOrReplaceTempView(\"DatabricksView63fad4c\")\n        #run backend agg\n        display(spark.sql(\"\"\"WITH q AS (select * from DatabricksView63fad4c) SELECT `market`,AVG(`popularity`) `column_d91d366328` FROM q GROUP BY `market`\"\"\"))\n    else:\n        displayHTML(\"dataframe no longer exists. If you're using dataframe.display(), use display(dataframe) instead.\")\n\n\nfinally:\n    spark.sql(\"drop view if exists DatabricksView63fad4c\")\n    display = __backend_agg_display_orig\n    del __backend_agg_display_new\n    del __backend_agg_display_orig\n    del __backend_agg_dfs\n    del __backend_agg_user_code_fn\n\n",
       "commandTitle": "POPULARITY SCORE OF HIPHOP GENRE ACROSS MARKETS",
       "commandType": "auto",
       "commandVersion": 0,
       "commentThread": [],
       "commentsVisible": false,
       "contentSha256Hex": null,
       "customPlotOptions": {
        "redashChart": [
         {
          "key": "type",
          "value": "CHART"
         },
         {
          "key": "options",
          "value": {
           "alignYAxesAtZero": true,
           "coefficient": 1,
           "columnConfigurationMap": {
            "x": {
             "column": "market",
             "id": "column_d91d366326"
            },
            "y": [
             {
              "column": "popularity",
              "id": "column_d91d366328",
              "transform": "AVG"
             }
            ]
           },
           "dateTimeFormat": "DD/MM/YYYY HH:mm",
           "direction": {
            "type": "counterclockwise"
           },
           "error_y": {
            "type": "data",
            "visible": true
           },
           "globalSeriesType": "column",
           "isAggregationOn": true,
           "legend": {
            "traceorder": "normal"
           },
           "missingValuesAsZero": true,
           "numberFormat": "0,0.[00000]",
           "percentFormat": "0[.]00%",
           "series": {
            "error_y": {
             "type": "data",
             "visible": true
            },
            "stacking": null
           },
           "seriesOptions": {
            "column_d91d366328": {
             "color": "#FCA4A1",
             "type": "column",
             "yAxis": 0
            }
           },
           "showDataLabels": false,
           "sizemode": "diameter",
           "sortX": true,
           "sortY": true,
           "swappedAxes": false,
           "textFormat": "",
           "useAggregationsUi": true,
           "valuesOptions": {},
           "version": 2,
           "xAxis": {
            "labels": {
             "enabled": true
            },
            "title": {
             "text": "Group Of Markets For Hiphop Genre"
            },
            "type": "-"
           },
           "yAxis": [
            {
             "title": {
              "text": "Average Popularity Score"
             },
             "type": "-"
            },
            {
             "opposite": true,
             "type": "-"
            }
           ]
          }
         }
        ]
       },
       "datasetPreviewNameToCmdIdMap": {},
       "diffDeletes": [],
       "diffInserts": [],
       "displayType": "redashChart",
       "error": null,
       "errorDetails": null,
       "errorSummary": null,
       "errorTraceType": null,
       "finishTime": 0,
       "globalVars": {},
       "guid": "",
       "height": "auto",
       "hideCommandCode": false,
       "hideCommandResult": false,
       "iPythonMetadata": null,
       "inputWidgets": {},
       "isLockedInExamMode": false,
       "latestUser": "a user",
       "latestUserId": null,
       "listResultMetadata": null,
       "metadata": {
        "byteLimit": 2048000,
        "rowLimit": 10000
       },
       "nuid": "a5c635af-f814-4e89-9e7d-f7c4c8af6b45",
       "origId": 0,
       "parentHierarchy": [],
       "pivotAggregation": null,
       "pivotColumns": null,
       "position": 29.0,
       "resultDbfsErrorMessage": null,
       "resultDbfsStatus": "INLINED_IN_TREE",
       "results": null,
       "showCommandTitle": false,
       "startTime": 0,
       "state": "input",
       "streamStates": {},
       "subcommandOptions": {
        "queryPlan": {
         "groups": [
          {
           "column": "market",
           "type": "column"
          }
         ],
         "selects": [
          {
           "column": "market",
           "type": "column"
          },
          {
           "alias": "column_d91d366328",
           "args": [
            {
             "column": "popularity",
             "type": "column"
            }
           ],
           "function": "AVG",
           "type": "function"
          }
         ]
        }
       },
       "submitTime": 0,
       "subtype": "tableResultSubCmd.visualization",
       "tableResultIndex": 0,
       "useConsistentColors": false,
       "version": "CommandV1",
       "width": "auto",
       "workflows": [],
       "xColumns": null,
       "yColumns": null
      }
     },
     "output_type": "display_data"
    }
   ],
   "source": [
    "# Fetching recommendations including popularity score\n",
    "results = sp.recommendations(seed_genres=[\"hip-hop\",], limit=100)\n",
    "\n",
    "# Filtering available markets and converting to a Spark DataFrame with popularity score\n",
    "desired_markets = {\"US\", \"CA\", \"AU\", \"BR\", \"KR\", \"JP\", \"FR\"}\n",
    "rows = [\n",
    "    Row(\n",
    "        name=track[\"artists\"][0][\"name\"], \n",
    "        id=track[\"artists\"][0][\"id\"], \n",
    "        market=[market for market in track[\"available_markets\"] if market in desired_markets], \n",
    "        popularity=track[\"popularity\"]\n",
    "    ) \n",
    "    for track in results[\"tracks\"]\n",
    "]\n",
    "df = spark.createDataFrame(rows)\n",
    "\n",
    "display(df)"
   ]
  },
  {
   "cell_type": "markdown",
   "metadata": {
    "application/vnd.databricks.v1+cell": {
     "cellMetadata": {
      "byteLimit": 2048000,
      "rowLimit": 10000
     },
     "inputWidgets": {},
     "nuid": "36071e44-f43c-43c0-9e2d-38ae0d38ca59",
     "showTitle": false,
     "title": ""
    }
   },
   "source": [
    "**Interpret the popularity of HIPHOP genre across markets**\n",
    "\n",
    "Consistent Popularity: Hip Hop generally maintains a good level of popularity across most market combinations, often falling within the 40-60 range. This suggests a broad international appeal, although not as universally high as pop or indie music might be.\n",
    "\n",
    "Impact of Specific Markets:\n",
    "\n",
    "US Market: The US market seems particularly important for Hip Hop, as its inclusion generally boosts the average popularity significantly. Most combinations featuring \"US\" rank higher.\n",
    "\n",
    "Other Markets: Australia (AU) and Canada (CA) also appear to positively influence popularity, though to a lesser extent than the US.\n",
    "Japan and Korea (JP, KR): Interestingly, including Japan and Korea doesn't seem to impact popularity as much as other markets. However, they are still a good market when combined with the other larger markets.\n",
    "\n",
    "Combined Markets:  Certain market combinations, like AU, BR, CA, and US, or AU, BR, CA, FR, and US, seem to perform particularly well for Hip Hop. This suggests a synergistic effect when targeting these markets together.\n",
    "\n",
    "Overall:\n",
    "The chart demonstrates that Hip Hop has a solid global following. However, strategic market selection seems crucial, with the US being a particularly influential factor in maximizing the genre's popularity. Combining certain markets can further enhance success."
   ]
  },
  {
   "cell_type": "code",
   "execution_count": 0,
   "metadata": {
    "application/vnd.databricks.v1+cell": {
     "cellMetadata": {
      "byteLimit": 2048000,
      "rowLimit": 10000
     },
     "inputWidgets": {},
     "nuid": "be50e2d7-8909-48df-a9d2-f64fa226bc51",
     "showTitle": false,
     "title": ""
    }
   },
   "outputs": [
    {
     "output_type": "display_data",
     "data": {
      "text/html": [
       "<style scoped>\n",
       "  .table-result-container {\n",
       "    max-height: 300px;\n",
       "    overflow: auto;\n",
       "  }\n",
       "  table, th, td {\n",
       "    border: 1px solid black;\n",
       "    border-collapse: collapse;\n",
       "  }\n",
       "  th, td {\n",
       "    padding: 5px;\n",
       "  }\n",
       "  th {\n",
       "    text-align: left;\n",
       "  }\n",
       "</style><div class='table-result-container'><table class='table-result'><thead style='background-color: white'><tr><th>name</th><th>id</th><th>market</th><th>popularity</th></tr></thead><tbody><tr><td>K. Michelle</td><td>2retT7MFwHDVTeGKDdybEx</td><td>List(AU, BR, CA, FR, US, JP, KR)</td><td>54</td></tr><tr><td>Ella Mai</td><td>7HkdQ0gt53LP4zmHsL0nap</td><td>List(AU, BR, CA, FR, US, JP, KR)</td><td>41</td></tr><tr><td>Jagged Edge</td><td>7Aq8lpLMSt1Zxu56pe9bmp</td><td>List(AU, BR, CA, FR, US, JP)</td><td>56</td></tr><tr><td>The Internet</td><td>7GN9PivdemQRKjDt4z5Zv8</td><td>List(AU, BR, CA, FR, US, JP)</td><td>46</td></tr><tr><td>Mabel</td><td>1MIVXf74SZHmTIp4V4paH4</td><td>List()</td><td>0</td></tr><tr><td>Zendaya</td><td>6sCbFbEjbYepqswM1vWjjs</td><td>List(AU, BR, CA, FR, US, JP, KR)</td><td>55</td></tr><tr><td>Nicki Minaj</td><td>0hCNtLu0JehylgoiP8L4Gh</td><td>List(AU, BR, CA, FR, US, JP, KR)</td><td>34</td></tr><tr><td>Alina Baraz</td><td>6hfwwpXqZPRC9CsKI7qtv1</td><td>List(AU, BR, CA, FR, US, JP, KR)</td><td>65</td></tr><tr><td>Craig David</td><td>2JyWXPbkqI5ZJa3gwqVa0c</td><td>List()</td><td>0</td></tr><tr><td>Charlie Wilson</td><td>6CxZzQFUTM6AzgluGwtq5w</td><td>List(AU, BR, CA, FR, US, JP)</td><td>45</td></tr><tr><td>Anthony Hamilton</td><td>2DzRMyWgjuMbYvt5BLbpCo</td><td>List(AU, BR, CA, FR, US, JP)</td><td>26</td></tr><tr><td>Avant</td><td>0AunegKKH2ys98aLxq8G1A</td><td>List(AU, BR, CA, FR, US, JP, KR)</td><td>54</td></tr><tr><td>Phonte</td><td>5SyCTZ8X8YQCI0J1VRp4iC</td><td>List(AU, BR, CA, FR, US, JP, KR)</td><td>29</td></tr><tr><td>Jhené Aiko</td><td>5ZS223C6JyBfXasXxrRqOk</td><td>List(AU, BR, CA, FR, US, JP, KR)</td><td>53</td></tr><tr><td>USHER</td><td>23zg3TcAtWQy7J6upgbUnj</td><td>List(AU, BR, CA, FR, US, JP)</td><td>70</td></tr><tr><td>Dru Hill</td><td>1255GTUKNCLCTvH9ctD4cT</td><td>List()</td><td>0</td></tr><tr><td>Omarion</td><td>0f5nVCcR06GX8Qikz0COtT</td><td>List(AU, BR, CA, FR, US, JP, KR)</td><td>37</td></tr><tr><td>Tamar Braxton</td><td>1MT1Wz4G9Z9EVOg4L5zZMS</td><td>List(AU, BR, CA, FR, US, JP)</td><td>48</td></tr><tr><td>Bruno Mars</td><td>0du5cEVh5yTK9QJze8zA0C</td><td>List(AU, BR, CA, FR, US, JP, KR)</td><td>84</td></tr><tr><td>Leon Bridges</td><td>3qnGvpP8Yth1AqSBMqON5x</td><td>List()</td><td>0</td></tr><tr><td>Mario</td><td>20s0P9QLxGqKuCsGwFsp7w</td><td>List(AU, BR, CA, FR, US, JP, KR)</td><td>38</td></tr><tr><td>Lil Wayne</td><td>55Aa2cqylxrFIXC767Z865</td><td>List(BR, CA, FR, US, JP, KR)</td><td>67</td></tr><tr><td>Teyana Taylor</td><td>4ULO7IGI3M2bo0Ap7B9h8a</td><td>List(AU, BR, CA, FR, US, JP, KR)</td><td>42</td></tr><tr><td>Kelly Rowland</td><td>3AuMNF8rQAKOzjYppFNAoB</td><td>List(BR, CA, FR, KR, US)</td><td>63</td></tr><tr><td>Zacardi Cortez</td><td>1e5OohAPdgqCeMq3eegvqp</td><td>List()</td><td>0</td></tr><tr><td>USHER</td><td>23zg3TcAtWQy7J6upgbUnj</td><td>List()</td><td>0</td></tr><tr><td>Elijah Blake</td><td>65OtBLtkrifQrdTlKI90IR</td><td>List(BR, CA, US, KR)</td><td>32</td></tr><tr><td>Jill Scott</td><td>6AVLthptCPhfrxlHadOBJD</td><td>List(AU, BR, CA, FR, US, JP)</td><td>45</td></tr><tr><td>Mario</td><td>20s0P9QLxGqKuCsGwFsp7w</td><td>List(AU, BR, CA, FR, JP)</td><td>48</td></tr><tr><td>Musiq Soulchild</td><td>3UVRliakQfa1pMWIsNuiZ8</td><td>List()</td><td>0</td></tr><tr><td>The Carters</td><td>4fpTMHe34LC5t3h5ztK8qu</td><td>List(US)</td><td>39</td></tr><tr><td>Mýa</td><td>6lHL3ubAMgSasKjNqKb8HF</td><td>List(AU, BR, CA, FR, US, JP, KR)</td><td>23</td></tr><tr><td>Sevyn Streeter</td><td>6If57j6e3TXXk0HiLcIZca</td><td>List(AU, BR, CA, FR, US, JP, KR)</td><td>36</td></tr><tr><td>Jazmine Sullivan</td><td>7gSjFKpVmDgC2MMsnN8CYq</td><td>List(AU, BR, CA, FR, US, JP)</td><td>55</td></tr><tr><td>Beyoncé</td><td>6vWDO969PvNqNYHIOW5v0m</td><td>List(AU, BR, CA, FR, US, JP)</td><td>60</td></tr><tr><td>Rihanna</td><td>5pKCCKE2ajJHZ9KAiaK11H</td><td>List(AU)</td><td>65</td></tr><tr><td>USHER</td><td>23zg3TcAtWQy7J6upgbUnj</td><td>List(AU, BR, CA, FR, US, JP)</td><td>70</td></tr><tr><td>J. Holiday</td><td>7G6hXrjGpi6I7waNl4wxAk</td><td>List(AU, BR, FR, US, JP, KR)</td><td>55</td></tr><tr><td>Monica</td><td>6nzxy2wXs6tLgzEtqOkEi2</td><td>List(AU, BR, CA, FR, US, JP)</td><td>45</td></tr><tr><td>Ledisi</td><td>60ciIY5MouLc2Y9n34DJdA</td><td>List(AU, BR, CA, FR, US, JP, KR)</td><td>34</td></tr><tr><td>Sevyn Streeter</td><td>6If57j6e3TXXk0HiLcIZca</td><td>List(AU, BR, CA, FR, US, JP, KR)</td><td>23</td></tr><tr><td>Kayla Brianna</td><td>1WLGlayiDpqOK8doYCiQTa</td><td>List(AU, BR, CA, FR, US, JP, KR)</td><td>17</td></tr><tr><td>Trina</td><td>4PrinKSrmILmo0kERG0Ogn</td><td>List()</td><td>0</td></tr><tr><td>Etta James</td><td>0iOVhN3tnSvgDbcg25JoJb</td><td>List(AU, BR, CA, FR, US, JP, KR)</td><td>17</td></tr><tr><td>Ashanti</td><td>5rkVyNGXEgeUqKkB5ccK83</td><td>List(AU, BR, CA, FR, US, JP, KR)</td><td>33</td></tr><tr><td>En Vogue</td><td>5fikk4h5qbEebqK2Fc6e48</td><td>List(AU, BR, CA, FR, US, JP, KR)</td><td>55</td></tr><tr><td>Missy Elliott</td><td>2wIVse2owClT7go1WT98tk</td><td>List(AU, BR, CA, FR, US, JP, KR)</td><td>41</td></tr><tr><td>Tevin Campbell</td><td>5VfqJBmXcf6ZqXoGij5qTE</td><td>List(AU, BR, CA, FR, US, JP, KR)</td><td>60</td></tr><tr><td>Jennifer Hudson</td><td>35GL8Cu2GKTcHzKGi75xl5</td><td>List(BR)</td><td>38</td></tr><tr><td>Ledisi</td><td>60ciIY5MouLc2Y9n34DJdA</td><td>List(AU, BR, CA, FR, US, JP, KR)</td><td>29</td></tr><tr><td>Trey Songz</td><td>2iojnBLj0qIMiKPvVhLnsH</td><td>List(AU, BR, CA, FR, US, JP, KR)</td><td>66</td></tr><tr><td>Ro James</td><td>7r2oyrNc0YjSC7hZL87V0Y</td><td>List(AU, BR, CA, FR, US, JP)</td><td>35</td></tr><tr><td>Cassie</td><td>27FGXRNruFoOdf1vP8dqcH</td><td>List(AU, BR, CA, FR, US, JP, KR)</td><td>78</td></tr><tr><td>Kehlani</td><td>0cGUm45nv7Z6M6qdXYQGTX</td><td>List(AU, BR, CA, FR, US, JP, KR)</td><td>47</td></tr><tr><td>August Alsina</td><td>19Fi1Rj7kk8kyiwxpXy3yM</td><td>List(AU, BR, CA, FR, US, JP, KR)</td><td>48</td></tr><tr><td>The Weeknd</td><td>1Xyo4u8uXC1ZmMpatF05PJ</td><td>List(CA, US)</td><td>71</td></tr><tr><td>MIKExANGEL</td><td>5kmcKvoT2hRuXOGnjcXc8e</td><td>List(AU, BR, CA, FR, US, JP, KR)</td><td>31</td></tr><tr><td>R.LUM.R</td><td>7JBZN2pehWRUu3fX11lP2y</td><td>List()</td><td>0</td></tr><tr><td>En Vogue</td><td>5fikk4h5qbEebqK2Fc6e48</td><td>List(AU, BR, CA, FR, US, JP, KR)</td><td>56</td></tr><tr><td>Xscape</td><td>5z2cHsOmmmWcAPNG1oEhw0</td><td>List(AU, BR, CA, FR, US, JP)</td><td>35</td></tr><tr><td>LION BABE</td><td>4VA3EAvncrTucjTmrvd4GE</td><td>List()</td><td>0</td></tr><tr><td>Kool & The Gang</td><td>3VNITwohbvU5Wuy5PC6dsI</td><td>List(AU, BR, CA, FR, US, JP, KR)</td><td>60</td></tr><tr><td>Donell Jones</td><td>5KNqYrivNgVCHBssEUSu5B</td><td>List(AU, BR, CA, FR, US, JP)</td><td>56</td></tr><tr><td>LeToya Luckett</td><td>1EyK0glCKdNVaKjVxFOHCD</td><td>List()</td><td>0</td></tr><tr><td>USHER</td><td>23zg3TcAtWQy7J6upgbUnj</td><td>List()</td><td>0</td></tr><tr><td>Trey Songz</td><td>2iojnBLj0qIMiKPvVhLnsH</td><td>List()</td><td>0</td></tr><tr><td>Tony! Toni! Toné!</td><td>7vWlb4pM85jCHvV771qZZW</td><td>List(AU, BR, CA, FR, US, JP, KR)</td><td>48</td></tr><tr><td>Dreezy</td><td>7gWumE1wMALHXANLSIt054</td><td>List(AU, BR, CA, FR, US, JP, KR)</td><td>47</td></tr><tr><td>Ne-Yo</td><td>21E3waRsmPlU7jZsS13rcj</td><td>List(AU, BR, CA, FR, US, JP, KR)</td><td>33</td></tr><tr><td>Bryson Tiller</td><td>2EMAnMvWE2eb56ToJVfCWs</td><td>List(AU, BR, CA, FR, US, JP)</td><td>54</td></tr><tr><td>Nicki Minaj</td><td>0hCNtLu0JehylgoiP8L4Gh</td><td>List(AU, BR, CA, FR, US, JP, KR)</td><td>45</td></tr><tr><td>Ciara</td><td>2NdeV5rLm47xAvogXrYhJX</td><td>List(FR)</td><td>34</td></tr><tr><td>The Internet</td><td>7GN9PivdemQRKjDt4z5Zv8</td><td>List(AU, BR, CA, FR, US, JP)</td><td>43</td></tr><tr><td>Tamar Braxton</td><td>1MT1Wz4G9Z9EVOg4L5zZMS</td><td>List(AU, BR, CA, FR, US, JP)</td><td>50</td></tr><tr><td>Ro James</td><td>7r2oyrNc0YjSC7hZL87V0Y</td><td>List(AU, BR, CA, FR, US, JP)</td><td>37</td></tr><tr><td>Deborah Cox</td><td>601893mmW5hl1FBOykWZHG</td><td>List()</td><td>15</td></tr><tr><td>Summer Walker</td><td>57LYzLEk2LcFghVwuWbcuS</td><td>List()</td><td>0</td></tr><tr><td>William Singe</td><td>5exS0bytCYdixgv02DaCm3</td><td>List(AU, BR, CA, FR, US, JP, KR)</td><td>33</td></tr><tr><td>Mariah Carey</td><td>4iHNK0tOyZPYnBU7nGAgpQ</td><td>List(FR)</td><td>38</td></tr><tr><td>Donell Jones</td><td>5KNqYrivNgVCHBssEUSu5B</td><td>List(AU, BR, CA, FR, US, JP)</td><td>63</td></tr><tr><td>Syd</td><td>3jk39CGeaaSO3FPKNx1RUx</td><td>List(AU, BR, CA, FR, US, JP)</td><td>33</td></tr><tr><td>Corinne Bailey Rae</td><td>29WzbAQtDnBJF09es0uddn</td><td>List(AU, BR, CA, FR, US, JP, KR)</td><td>38</td></tr><tr><td>Star Cast</td><td>6UKDgKJpv0MCwiQHbllkfR</td><td>List(AU, BR, CA, FR, US, JP, KR)</td><td>43</td></tr><tr><td>Mack Wilds</td><td>5BO8aIDUyNtvnq98qMIs85</td><td>List(AU, BR, CA, FR, US, JP, KR)</td><td>14</td></tr><tr><td>John Legend</td><td>5y2Xq6xcjJb2jVM54GHK3t</td><td>List()</td><td>0</td></tr><tr><td>Keyshia Cole</td><td>1vfezMIyCr4XUdYRaKIKi3</td><td>List(CA, US)</td><td>62</td></tr><tr><td>Aaliyah</td><td>0urTpYCsixqZwgNTkPJOJ4</td><td>List(AU, BR, CA, FR, JP)</td><td>33</td></tr><tr><td>Musiq Soulchild</td><td>3UVRliakQfa1pMWIsNuiZ8</td><td>List()</td><td>0</td></tr><tr><td>Sammie</td><td>4p07QU02SrLsaORo25h2Lg</td><td>List(AU, BR, CA, FR, US, JP, KR)</td><td>35</td></tr><tr><td>Wiz Khalifa</td><td>137W8MRPWKqSmrBGDBFSop</td><td>List(AU, BR, CA, FR, US, JP, KR)</td><td>55</td></tr><tr><td>Demetria McKinney</td><td>3HiZsv0ZR9DznDKWycXwYe</td><td>List()</td><td>0</td></tr><tr><td>Summer Walker</td><td>57LYzLEk2LcFghVwuWbcuS</td><td>List()</td><td>0</td></tr><tr><td>Amber Mark</td><td>0tbeZu9lv8YEKSQ9tZSslu</td><td>List(AU, BR, CA, FR, US, JP, KR)</td><td>45</td></tr><tr><td>Mr Eazi</td><td>4TAoP0f9OuWZUesao43xUW</td><td>List()</td><td>0</td></tr><tr><td>Mali Music</td><td>4S4kD5NBlgaq4YLBQSEMyY</td><td>List(AU, BR, CA, FR, US, JP)</td><td>44</td></tr><tr><td>Sevyn Streeter</td><td>6If57j6e3TXXk0HiLcIZca</td><td>List(AU, BR, CA, FR, US, JP, KR)</td><td>24</td></tr><tr><td>Craig David</td><td>2JyWXPbkqI5ZJa3gwqVa0c</td><td>List(AU, BR, CA, FR, US, JP)</td><td>70</td></tr><tr><td>Kelela</td><td>1U0sIzpRtDkvu1hXXzxh60</td><td>List()</td><td>0</td></tr><tr><td>Whitney Houston</td><td>6XpaIBNiVzIetEPCWDvAFP</td><td>List(AU, BR, CA, FR, US, JP)</td><td>76</td></tr><tr><td>Ne-Yo</td><td>21E3waRsmPlU7jZsS13rcj</td><td>List(CA, US)</td><td>36</td></tr></tbody></table></div>"
      ]
     },
     "metadata": {
      "application/vnd.databricks.v1+output": {
       "addedWidgets": {},
       "aggData": [],
       "aggError": "",
       "aggOverflow": false,
       "aggSchema": [],
       "aggSeriesLimitReached": false,
       "aggType": "",
       "arguments": {},
       "columnCustomDisplayInfos": {},
       "data": [
        [
         "K. Michelle",
         "2retT7MFwHDVTeGKDdybEx",
         [
          "AU",
          "BR",
          "CA",
          "FR",
          "US",
          "JP",
          "KR"
         ],
         54
        ],
        [
         "Ella Mai",
         "7HkdQ0gt53LP4zmHsL0nap",
         [
          "AU",
          "BR",
          "CA",
          "FR",
          "US",
          "JP",
          "KR"
         ],
         41
        ],
        [
         "Jagged Edge",
         "7Aq8lpLMSt1Zxu56pe9bmp",
         [
          "AU",
          "BR",
          "CA",
          "FR",
          "US",
          "JP"
         ],
         56
        ],
        [
         "The Internet",
         "7GN9PivdemQRKjDt4z5Zv8",
         [
          "AU",
          "BR",
          "CA",
          "FR",
          "US",
          "JP"
         ],
         46
        ],
        [
         "Mabel",
         "1MIVXf74SZHmTIp4V4paH4",
         [],
         0
        ],
        [
         "Zendaya",
         "6sCbFbEjbYepqswM1vWjjs",
         [
          "AU",
          "BR",
          "CA",
          "FR",
          "US",
          "JP",
          "KR"
         ],
         55
        ],
        [
         "Nicki Minaj",
         "0hCNtLu0JehylgoiP8L4Gh",
         [
          "AU",
          "BR",
          "CA",
          "FR",
          "US",
          "JP",
          "KR"
         ],
         34
        ],
        [
         "Alina Baraz",
         "6hfwwpXqZPRC9CsKI7qtv1",
         [
          "AU",
          "BR",
          "CA",
          "FR",
          "US",
          "JP",
          "KR"
         ],
         65
        ],
        [
         "Craig David",
         "2JyWXPbkqI5ZJa3gwqVa0c",
         [],
         0
        ],
        [
         "Charlie Wilson",
         "6CxZzQFUTM6AzgluGwtq5w",
         [
          "AU",
          "BR",
          "CA",
          "FR",
          "US",
          "JP"
         ],
         45
        ],
        [
         "Anthony Hamilton",
         "2DzRMyWgjuMbYvt5BLbpCo",
         [
          "AU",
          "BR",
          "CA",
          "FR",
          "US",
          "JP"
         ],
         26
        ],
        [
         "Avant",
         "0AunegKKH2ys98aLxq8G1A",
         [
          "AU",
          "BR",
          "CA",
          "FR",
          "US",
          "JP",
          "KR"
         ],
         54
        ],
        [
         "Phonte",
         "5SyCTZ8X8YQCI0J1VRp4iC",
         [
          "AU",
          "BR",
          "CA",
          "FR",
          "US",
          "JP",
          "KR"
         ],
         29
        ],
        [
         "Jhené Aiko",
         "5ZS223C6JyBfXasXxrRqOk",
         [
          "AU",
          "BR",
          "CA",
          "FR",
          "US",
          "JP",
          "KR"
         ],
         53
        ],
        [
         "USHER",
         "23zg3TcAtWQy7J6upgbUnj",
         [
          "AU",
          "BR",
          "CA",
          "FR",
          "US",
          "JP"
         ],
         70
        ],
        [
         "Dru Hill",
         "1255GTUKNCLCTvH9ctD4cT",
         [],
         0
        ],
        [
         "Omarion",
         "0f5nVCcR06GX8Qikz0COtT",
         [
          "AU",
          "BR",
          "CA",
          "FR",
          "US",
          "JP",
          "KR"
         ],
         37
        ],
        [
         "Tamar Braxton",
         "1MT1Wz4G9Z9EVOg4L5zZMS",
         [
          "AU",
          "BR",
          "CA",
          "FR",
          "US",
          "JP"
         ],
         48
        ],
        [
         "Bruno Mars",
         "0du5cEVh5yTK9QJze8zA0C",
         [
          "AU",
          "BR",
          "CA",
          "FR",
          "US",
          "JP",
          "KR"
         ],
         84
        ],
        [
         "Leon Bridges",
         "3qnGvpP8Yth1AqSBMqON5x",
         [],
         0
        ],
        [
         "Mario",
         "20s0P9QLxGqKuCsGwFsp7w",
         [
          "AU",
          "BR",
          "CA",
          "FR",
          "US",
          "JP",
          "KR"
         ],
         38
        ],
        [
         "Lil Wayne",
         "55Aa2cqylxrFIXC767Z865",
         [
          "BR",
          "CA",
          "FR",
          "US",
          "JP",
          "KR"
         ],
         67
        ],
        [
         "Teyana Taylor",
         "4ULO7IGI3M2bo0Ap7B9h8a",
         [
          "AU",
          "BR",
          "CA",
          "FR",
          "US",
          "JP",
          "KR"
         ],
         42
        ],
        [
         "Kelly Rowland",
         "3AuMNF8rQAKOzjYppFNAoB",
         [
          "BR",
          "CA",
          "FR",
          "KR",
          "US"
         ],
         63
        ],
        [
         "Zacardi Cortez",
         "1e5OohAPdgqCeMq3eegvqp",
         [],
         0
        ],
        [
         "USHER",
         "23zg3TcAtWQy7J6upgbUnj",
         [],
         0
        ],
        [
         "Elijah Blake",
         "65OtBLtkrifQrdTlKI90IR",
         [
          "BR",
          "CA",
          "US",
          "KR"
         ],
         32
        ],
        [
         "Jill Scott",
         "6AVLthptCPhfrxlHadOBJD",
         [
          "AU",
          "BR",
          "CA",
          "FR",
          "US",
          "JP"
         ],
         45
        ],
        [
         "Mario",
         "20s0P9QLxGqKuCsGwFsp7w",
         [
          "AU",
          "BR",
          "CA",
          "FR",
          "JP"
         ],
         48
        ],
        [
         "Musiq Soulchild",
         "3UVRliakQfa1pMWIsNuiZ8",
         [],
         0
        ],
        [
         "The Carters",
         "4fpTMHe34LC5t3h5ztK8qu",
         [
          "US"
         ],
         39
        ],
        [
         "Mýa",
         "6lHL3ubAMgSasKjNqKb8HF",
         [
          "AU",
          "BR",
          "CA",
          "FR",
          "US",
          "JP",
          "KR"
         ],
         23
        ],
        [
         "Sevyn Streeter",
         "6If57j6e3TXXk0HiLcIZca",
         [
          "AU",
          "BR",
          "CA",
          "FR",
          "US",
          "JP",
          "KR"
         ],
         36
        ],
        [
         "Jazmine Sullivan",
         "7gSjFKpVmDgC2MMsnN8CYq",
         [
          "AU",
          "BR",
          "CA",
          "FR",
          "US",
          "JP"
         ],
         55
        ],
        [
         "Beyoncé",
         "6vWDO969PvNqNYHIOW5v0m",
         [
          "AU",
          "BR",
          "CA",
          "FR",
          "US",
          "JP"
         ],
         60
        ],
        [
         "Rihanna",
         "5pKCCKE2ajJHZ9KAiaK11H",
         [
          "AU"
         ],
         65
        ],
        [
         "USHER",
         "23zg3TcAtWQy7J6upgbUnj",
         [
          "AU",
          "BR",
          "CA",
          "FR",
          "US",
          "JP"
         ],
         70
        ],
        [
         "J. Holiday",
         "7G6hXrjGpi6I7waNl4wxAk",
         [
          "AU",
          "BR",
          "FR",
          "US",
          "JP",
          "KR"
         ],
         55
        ],
        [
         "Monica",
         "6nzxy2wXs6tLgzEtqOkEi2",
         [
          "AU",
          "BR",
          "CA",
          "FR",
          "US",
          "JP"
         ],
         45
        ],
        [
         "Ledisi",
         "60ciIY5MouLc2Y9n34DJdA",
         [
          "AU",
          "BR",
          "CA",
          "FR",
          "US",
          "JP",
          "KR"
         ],
         34
        ],
        [
         "Sevyn Streeter",
         "6If57j6e3TXXk0HiLcIZca",
         [
          "AU",
          "BR",
          "CA",
          "FR",
          "US",
          "JP",
          "KR"
         ],
         23
        ],
        [
         "Kayla Brianna",
         "1WLGlayiDpqOK8doYCiQTa",
         [
          "AU",
          "BR",
          "CA",
          "FR",
          "US",
          "JP",
          "KR"
         ],
         17
        ],
        [
         "Trina",
         "4PrinKSrmILmo0kERG0Ogn",
         [],
         0
        ],
        [
         "Etta James",
         "0iOVhN3tnSvgDbcg25JoJb",
         [
          "AU",
          "BR",
          "CA",
          "FR",
          "US",
          "JP",
          "KR"
         ],
         17
        ],
        [
         "Ashanti",
         "5rkVyNGXEgeUqKkB5ccK83",
         [
          "AU",
          "BR",
          "CA",
          "FR",
          "US",
          "JP",
          "KR"
         ],
         33
        ],
        [
         "En Vogue",
         "5fikk4h5qbEebqK2Fc6e48",
         [
          "AU",
          "BR",
          "CA",
          "FR",
          "US",
          "JP",
          "KR"
         ],
         55
        ],
        [
         "Missy Elliott",
         "2wIVse2owClT7go1WT98tk",
         [
          "AU",
          "BR",
          "CA",
          "FR",
          "US",
          "JP",
          "KR"
         ],
         41
        ],
        [
         "Tevin Campbell",
         "5VfqJBmXcf6ZqXoGij5qTE",
         [
          "AU",
          "BR",
          "CA",
          "FR",
          "US",
          "JP",
          "KR"
         ],
         60
        ],
        [
         "Jennifer Hudson",
         "35GL8Cu2GKTcHzKGi75xl5",
         [
          "BR"
         ],
         38
        ],
        [
         "Ledisi",
         "60ciIY5MouLc2Y9n34DJdA",
         [
          "AU",
          "BR",
          "CA",
          "FR",
          "US",
          "JP",
          "KR"
         ],
         29
        ],
        [
         "Trey Songz",
         "2iojnBLj0qIMiKPvVhLnsH",
         [
          "AU",
          "BR",
          "CA",
          "FR",
          "US",
          "JP",
          "KR"
         ],
         66
        ],
        [
         "Ro James",
         "7r2oyrNc0YjSC7hZL87V0Y",
         [
          "AU",
          "BR",
          "CA",
          "FR",
          "US",
          "JP"
         ],
         35
        ],
        [
         "Cassie",
         "27FGXRNruFoOdf1vP8dqcH",
         [
          "AU",
          "BR",
          "CA",
          "FR",
          "US",
          "JP",
          "KR"
         ],
         78
        ],
        [
         "Kehlani",
         "0cGUm45nv7Z6M6qdXYQGTX",
         [
          "AU",
          "BR",
          "CA",
          "FR",
          "US",
          "JP",
          "KR"
         ],
         47
        ],
        [
         "August Alsina",
         "19Fi1Rj7kk8kyiwxpXy3yM",
         [
          "AU",
          "BR",
          "CA",
          "FR",
          "US",
          "JP",
          "KR"
         ],
         48
        ],
        [
         "The Weeknd",
         "1Xyo4u8uXC1ZmMpatF05PJ",
         [
          "CA",
          "US"
         ],
         71
        ],
        [
         "MIKExANGEL",
         "5kmcKvoT2hRuXOGnjcXc8e",
         [
          "AU",
          "BR",
          "CA",
          "FR",
          "US",
          "JP",
          "KR"
         ],
         31
        ],
        [
         "R.LUM.R",
         "7JBZN2pehWRUu3fX11lP2y",
         [],
         0
        ],
        [
         "En Vogue",
         "5fikk4h5qbEebqK2Fc6e48",
         [
          "AU",
          "BR",
          "CA",
          "FR",
          "US",
          "JP",
          "KR"
         ],
         56
        ],
        [
         "Xscape",
         "5z2cHsOmmmWcAPNG1oEhw0",
         [
          "AU",
          "BR",
          "CA",
          "FR",
          "US",
          "JP"
         ],
         35
        ],
        [
         "LION BABE",
         "4VA3EAvncrTucjTmrvd4GE",
         [],
         0
        ],
        [
         "Kool & The Gang",
         "3VNITwohbvU5Wuy5PC6dsI",
         [
          "AU",
          "BR",
          "CA",
          "FR",
          "US",
          "JP",
          "KR"
         ],
         60
        ],
        [
         "Donell Jones",
         "5KNqYrivNgVCHBssEUSu5B",
         [
          "AU",
          "BR",
          "CA",
          "FR",
          "US",
          "JP"
         ],
         56
        ],
        [
         "LeToya Luckett",
         "1EyK0glCKdNVaKjVxFOHCD",
         [],
         0
        ],
        [
         "USHER",
         "23zg3TcAtWQy7J6upgbUnj",
         [],
         0
        ],
        [
         "Trey Songz",
         "2iojnBLj0qIMiKPvVhLnsH",
         [],
         0
        ],
        [
         "Tony! Toni! Toné!",
         "7vWlb4pM85jCHvV771qZZW",
         [
          "AU",
          "BR",
          "CA",
          "FR",
          "US",
          "JP",
          "KR"
         ],
         48
        ],
        [
         "Dreezy",
         "7gWumE1wMALHXANLSIt054",
         [
          "AU",
          "BR",
          "CA",
          "FR",
          "US",
          "JP",
          "KR"
         ],
         47
        ],
        [
         "Ne-Yo",
         "21E3waRsmPlU7jZsS13rcj",
         [
          "AU",
          "BR",
          "CA",
          "FR",
          "US",
          "JP",
          "KR"
         ],
         33
        ],
        [
         "Bryson Tiller",
         "2EMAnMvWE2eb56ToJVfCWs",
         [
          "AU",
          "BR",
          "CA",
          "FR",
          "US",
          "JP"
         ],
         54
        ],
        [
         "Nicki Minaj",
         "0hCNtLu0JehylgoiP8L4Gh",
         [
          "AU",
          "BR",
          "CA",
          "FR",
          "US",
          "JP",
          "KR"
         ],
         45
        ],
        [
         "Ciara",
         "2NdeV5rLm47xAvogXrYhJX",
         [
          "FR"
         ],
         34
        ],
        [
         "The Internet",
         "7GN9PivdemQRKjDt4z5Zv8",
         [
          "AU",
          "BR",
          "CA",
          "FR",
          "US",
          "JP"
         ],
         43
        ],
        [
         "Tamar Braxton",
         "1MT1Wz4G9Z9EVOg4L5zZMS",
         [
          "AU",
          "BR",
          "CA",
          "FR",
          "US",
          "JP"
         ],
         50
        ],
        [
         "Ro James",
         "7r2oyrNc0YjSC7hZL87V0Y",
         [
          "AU",
          "BR",
          "CA",
          "FR",
          "US",
          "JP"
         ],
         37
        ],
        [
         "Deborah Cox",
         "601893mmW5hl1FBOykWZHG",
         [],
         15
        ],
        [
         "Summer Walker",
         "57LYzLEk2LcFghVwuWbcuS",
         [],
         0
        ],
        [
         "William Singe",
         "5exS0bytCYdixgv02DaCm3",
         [
          "AU",
          "BR",
          "CA",
          "FR",
          "US",
          "JP",
          "KR"
         ],
         33
        ],
        [
         "Mariah Carey",
         "4iHNK0tOyZPYnBU7nGAgpQ",
         [
          "FR"
         ],
         38
        ],
        [
         "Donell Jones",
         "5KNqYrivNgVCHBssEUSu5B",
         [
          "AU",
          "BR",
          "CA",
          "FR",
          "US",
          "JP"
         ],
         63
        ],
        [
         "Syd",
         "3jk39CGeaaSO3FPKNx1RUx",
         [
          "AU",
          "BR",
          "CA",
          "FR",
          "US",
          "JP"
         ],
         33
        ],
        [
         "Corinne Bailey Rae",
         "29WzbAQtDnBJF09es0uddn",
         [
          "AU",
          "BR",
          "CA",
          "FR",
          "US",
          "JP",
          "KR"
         ],
         38
        ],
        [
         "Star Cast",
         "6UKDgKJpv0MCwiQHbllkfR",
         [
          "AU",
          "BR",
          "CA",
          "FR",
          "US",
          "JP",
          "KR"
         ],
         43
        ],
        [
         "Mack Wilds",
         "5BO8aIDUyNtvnq98qMIs85",
         [
          "AU",
          "BR",
          "CA",
          "FR",
          "US",
          "JP",
          "KR"
         ],
         14
        ],
        [
         "John Legend",
         "5y2Xq6xcjJb2jVM54GHK3t",
         [],
         0
        ],
        [
         "Keyshia Cole",
         "1vfezMIyCr4XUdYRaKIKi3",
         [
          "CA",
          "US"
         ],
         62
        ],
        [
         "Aaliyah",
         "0urTpYCsixqZwgNTkPJOJ4",
         [
          "AU",
          "BR",
          "CA",
          "FR",
          "JP"
         ],
         33
        ],
        [
         "Musiq Soulchild",
         "3UVRliakQfa1pMWIsNuiZ8",
         [],
         0
        ],
        [
         "Sammie",
         "4p07QU02SrLsaORo25h2Lg",
         [
          "AU",
          "BR",
          "CA",
          "FR",
          "US",
          "JP",
          "KR"
         ],
         35
        ],
        [
         "Wiz Khalifa",
         "137W8MRPWKqSmrBGDBFSop",
         [
          "AU",
          "BR",
          "CA",
          "FR",
          "US",
          "JP",
          "KR"
         ],
         55
        ],
        [
         "Demetria McKinney",
         "3HiZsv0ZR9DznDKWycXwYe",
         [],
         0
        ],
        [
         "Summer Walker",
         "57LYzLEk2LcFghVwuWbcuS",
         [],
         0
        ],
        [
         "Amber Mark",
         "0tbeZu9lv8YEKSQ9tZSslu",
         [
          "AU",
          "BR",
          "CA",
          "FR",
          "US",
          "JP",
          "KR"
         ],
         45
        ],
        [
         "Mr Eazi",
         "4TAoP0f9OuWZUesao43xUW",
         [],
         0
        ],
        [
         "Mali Music",
         "4S4kD5NBlgaq4YLBQSEMyY",
         [
          "AU",
          "BR",
          "CA",
          "FR",
          "US",
          "JP"
         ],
         44
        ],
        [
         "Sevyn Streeter",
         "6If57j6e3TXXk0HiLcIZca",
         [
          "AU",
          "BR",
          "CA",
          "FR",
          "US",
          "JP",
          "KR"
         ],
         24
        ],
        [
         "Craig David",
         "2JyWXPbkqI5ZJa3gwqVa0c",
         [
          "AU",
          "BR",
          "CA",
          "FR",
          "US",
          "JP"
         ],
         70
        ],
        [
         "Kelela",
         "1U0sIzpRtDkvu1hXXzxh60",
         [],
         0
        ],
        [
         "Whitney Houston",
         "6XpaIBNiVzIetEPCWDvAFP",
         [
          "AU",
          "BR",
          "CA",
          "FR",
          "US",
          "JP"
         ],
         76
        ],
        [
         "Ne-Yo",
         "21E3waRsmPlU7jZsS13rcj",
         [
          "CA",
          "US"
         ],
         36
        ]
       ],
       "datasetInfos": [],
       "dbfsResultPath": null,
       "isJsonSchema": true,
       "metadata": {},
       "overflow": false,
       "plotOptions": {
        "customPlotOptions": {},
        "displayType": "table",
        "pivotAggregation": null,
        "pivotColumns": null,
        "xColumns": null,
        "yColumns": null
       },
       "removedWidgets": [],
       "schema": [
        {
         "metadata": "{}",
         "name": "name",
         "type": "\"string\""
        },
        {
         "metadata": "{}",
         "name": "id",
         "type": "\"string\""
        },
        {
         "metadata": "{}",
         "name": "market",
         "type": "{\"type\":\"array\",\"elementType\":\"string\",\"containsNull\":true}"
        },
        {
         "metadata": "{}",
         "name": "popularity",
         "type": "\"long\""
        }
       ],
       "type": "table"
      }
     },
     "output_type": "display_data"
    },
    {
     "output_type": "display_data",
     "data": {
      "text/plain": [
       "Databricks visualization. Run in Databricks to view."
      ]
     },
     "metadata": {
      "application/vnd.databricks.v1.subcommand+json": {
       "baseErrorDetails": null,
       "bindings": {},
       "collapsed": false,
       "command": "%python\n__backend_agg_display_orig = display\n__backend_agg_dfs = []\ndef __backend_agg_display_new(df):\n    __backend_agg_df_modules = [\"pandas.core.frame\", \"databricks.koalas.frame\", \"pyspark.sql.dataframe\", \"pyspark.pandas.frame\", \"pyspark.sql.connect.dataframe\"]\n    if (type(df).__module__ in __backend_agg_df_modules and type(df).__name__ == 'DataFrame') or isinstance(df, list):\n        __backend_agg_dfs.append(df)\n\ndisplay = __backend_agg_display_new\n\ndef __backend_agg_user_code_fn():\n    import base64\n    exec(base64.standard_b64decode(\"IyBGZXRjaGluZyByZWNvbW1lbmRhdGlvbnMgaW5jbHVkaW5nIHBvcHVsYXJpdHkgc2NvcmUKcmVzdWx0cyA9IHNwLnJlY29tbWVuZGF0aW9ucyhzZWVkX2dlbnJlcz1bInItbi1iIixdLCBsaW1pdD0xMDApCgojIEZpbHRlcmluZyBhdmFpbGFibGUgbWFya2V0cyBhbmQgY29udmVydGluZyB0byBhIFNwYXJrIERhdGFGcmFtZSB3aXRoIHBvcHVsYXJpdHkgc2NvcmUKZGVzaXJlZF9tYXJrZXRzID0geyJVUyIsICJDQSIsICJBVSIsICJCUiIsICJLUiIsICJKUCIsICJGUiJ9CnJvd3MgPSBbCiAgICBSb3coCiAgICAgICAgbmFtZT10cmFja1siYXJ0aXN0cyJdWzBdWyJuYW1lIl0sIAogICAgICAgIGlkPXRyYWNrWyJhcnRpc3RzIl1bMF1bImlkIl0sIAogICAgICAgIG1hcmtldD1bbWFya2V0IGZvciBtYXJrZXQgaW4gdHJhY2tbImF2YWlsYWJsZV9tYXJrZXRzIl0gaWYgbWFya2V0IGluIGRlc2lyZWRfbWFya2V0c10sIAogICAgICAgIHBvcHVsYXJpdHk9dHJhY2tbInBvcHVsYXJpdHkiXQogICAgKSAKICAgIGZvciB0cmFjayBpbiByZXN1bHRzWyJ0cmFja3MiXQpdCmRmID0gc3BhcmsuY3JlYXRlRGF0YUZyYW1lKHJvd3MpCgpkaXNwbGF5KGRmKQ==\").decode())\n\ntry:\n    # run user code\n    __backend_agg_user_code_fn()\n\n    #reset display function\n    display = __backend_agg_display_orig\n\n    if len(__backend_agg_dfs) > 0:\n        # create a temp view\n        if type(__backend_agg_dfs[0]).__module__ == \"databricks.koalas.frame\":\n            # koalas dataframe\n            __backend_agg_dfs[0].to_spark().createOrReplaceTempView(\"DatabricksViewcd88f1b\")\n        elif type(__backend_agg_dfs[0]).__module__ == \"pandas.core.frame\" or isinstance(__backend_agg_dfs[0], list):\n            # pandas dataframe\n            spark.createDataFrame(__backend_agg_dfs[0]).createOrReplaceTempView(\"DatabricksViewcd88f1b\")\n        else:\n            __backend_agg_dfs[0].createOrReplaceTempView(\"DatabricksViewcd88f1b\")\n        #run backend agg\n        display(spark.sql(\"\"\"WITH q AS (select * from DatabricksViewcd88f1b) SELECT `market`,AVG(`popularity`) `column_d91d366332` FROM q GROUP BY `market`\"\"\"))\n    else:\n        displayHTML(\"dataframe no longer exists. If you're using dataframe.display(), use display(dataframe) instead.\")\n\n\nfinally:\n    spark.sql(\"drop view if exists DatabricksViewcd88f1b\")\n    display = __backend_agg_display_orig\n    del __backend_agg_display_new\n    del __backend_agg_display_orig\n    del __backend_agg_dfs\n    del __backend_agg_user_code_fn\n\n",
       "commandTitle": "POPULARITY SCORE OF RNB GENRE ACROSS MARKETS",
       "commandType": "auto",
       "commandVersion": 0,
       "commentThread": [],
       "commentsVisible": false,
       "contentSha256Hex": null,
       "customPlotOptions": {
        "redashChart": [
         {
          "key": "type",
          "value": "CHART"
         },
         {
          "key": "options",
          "value": {
           "alignYAxesAtZero": true,
           "coefficient": 1,
           "columnConfigurationMap": {
            "x": {
             "column": "market",
             "id": "column_d91d366330"
            },
            "y": [
             {
              "column": "popularity",
              "id": "column_d91d366332",
              "transform": "AVG"
             }
            ]
           },
           "dateTimeFormat": "DD/MM/YYYY HH:mm",
           "direction": {
            "type": "counterclockwise"
           },
           "error_y": {
            "type": "data",
            "visible": true
           },
           "globalSeriesType": "column",
           "isAggregationOn": true,
           "legend": {
            "traceorder": "normal"
           },
           "missingValuesAsZero": true,
           "numberFormat": "0,0.[00000]",
           "percentFormat": "0[.]00%",
           "series": {
            "error_y": {
             "type": "data",
             "visible": true
            },
            "stacking": null
           },
           "seriesOptions": {
            "column_d91d366332": {
             "color": "#AB4057",
             "type": "column",
             "yAxis": 0
            }
           },
           "showDataLabels": false,
           "sizemode": "diameter",
           "sortX": true,
           "sortY": true,
           "swappedAxes": false,
           "textFormat": "",
           "useAggregationsUi": true,
           "valuesOptions": {},
           "version": 2,
           "xAxis": {
            "labels": {
             "enabled": true
            },
            "title": {
             "text": "Group Of Markets for RnB Genre"
            },
            "type": "-"
           },
           "yAxis": [
            {
             "title": {
              "text": "Average Popularity Score"
             },
             "type": "-"
            },
            {
             "opposite": true,
             "type": "-"
            }
           ]
          }
         }
        ]
       },
       "datasetPreviewNameToCmdIdMap": {},
       "diffDeletes": [],
       "diffInserts": [],
       "displayType": "redashChart",
       "error": null,
       "errorDetails": null,
       "errorSummary": null,
       "errorTraceType": null,
       "finishTime": 0,
       "globalVars": {},
       "guid": "",
       "height": "auto",
       "hideCommandCode": false,
       "hideCommandResult": false,
       "iPythonMetadata": null,
       "inputWidgets": {},
       "isLockedInExamMode": false,
       "latestUser": "a user",
       "latestUserId": null,
       "listResultMetadata": null,
       "metadata": {
        "byteLimit": 2048000,
        "rowLimit": 10000
       },
       "nuid": "e2ccebd2-85cc-4d51-bc4c-1c7c937407db",
       "origId": 0,
       "parentHierarchy": [],
       "pivotAggregation": null,
       "pivotColumns": null,
       "position": 30.0,
       "resultDbfsErrorMessage": null,
       "resultDbfsStatus": "INLINED_IN_TREE",
       "results": null,
       "showCommandTitle": false,
       "startTime": 0,
       "state": "input",
       "streamStates": {},
       "subcommandOptions": {
        "queryPlan": {
         "groups": [
          {
           "column": "market",
           "type": "column"
          }
         ],
         "selects": [
          {
           "column": "market",
           "type": "column"
          },
          {
           "alias": "column_d91d366332",
           "args": [
            {
             "column": "popularity",
             "type": "column"
            }
           ],
           "function": "AVG",
           "type": "function"
          }
         ]
        }
       },
       "submitTime": 0,
       "subtype": "tableResultSubCmd.visualization",
       "tableResultIndex": 0,
       "useConsistentColors": false,
       "version": "CommandV1",
       "width": "auto",
       "workflows": [],
       "xColumns": null,
       "yColumns": null
      }
     },
     "output_type": "display_data"
    }
   ],
   "source": [
    "# Fetching recommendations including popularity score\n",
    "results = sp.recommendations(seed_genres=[\"r-n-b\",], limit=100)\n",
    "\n",
    "# Filtering available markets and converting to a Spark DataFrame with popularity score\n",
    "desired_markets = {\"US\", \"CA\", \"AU\", \"BR\", \"KR\", \"JP\", \"FR\"}\n",
    "rows = [\n",
    "    Row(\n",
    "        name=track[\"artists\"][0][\"name\"], \n",
    "        id=track[\"artists\"][0][\"id\"], \n",
    "        market=[market for market in track[\"available_markets\"] if market in desired_markets], \n",
    "        popularity=track[\"popularity\"]\n",
    "    ) \n",
    "    for track in results[\"tracks\"]\n",
    "]\n",
    "df = spark.createDataFrame(rows)\n",
    "\n",
    "display(df)"
   ]
  },
  {
   "cell_type": "markdown",
   "metadata": {
    "application/vnd.databricks.v1+cell": {
     "cellMetadata": {
      "byteLimit": 2048000,
      "rowLimit": 10000
     },
     "inputWidgets": {},
     "nuid": "db5f60ba-a42a-400b-994c-e3bc466bc687",
     "showTitle": false,
     "title": ""
    }
   },
   "source": [
    "**Interpret the popularity of R&B genre across markets**\n",
    "\n",
    "Importance of the US Market: R&B music's popularity significantly increases when released in the US market. Combinations including the US generally have the highest average popularity scores.\n",
    "\n",
    "Gradual Increase with Market Expansion: The popularity generally increases as the music is released in more markets, particularly when adding the US to the mix. This suggests that a broader release strategy is beneficial.\n",
    "\n",
    "Specific Market Combinations: Some combinations seem to perform better than others. Notably, the combination of  BR, FR, US seems to be the most successful.\n",
    "\n",
    "Impact of Individual Markets: While the US has the most significant impact, adding other markets like Australia, Brazil, and Canada seems to contribute positively to popularity.\n",
    "\n",
    "Lower Popularity in Limited Markets: Releasing R&B music in only one market (e.g., only Brazil or sometimes France) results in the lowest average popularity.\n",
    "\n",
    "Overall: The chart indicates that R&B music enjoys greater popularity when released in multiple markets, with a clear emphasis on the US market. Strategic market selection plays a crucial role in maximizing the genre's success.\n",
    "\n"
   ]
  }
 ],
 "metadata": {
  "application/vnd.databricks.v1+notebook": {
   "dashboards": [
    {
     "elements": [
      {
       "dashboardResultIndex": null,
       "elementNUID": "f4cb5b42-0ce2-4b40-8256-299ee93e751d",
       "elementType": "command",
       "guid": "3b720456-3f57-41b1-9757-31a6c8bc364f",
       "options": null,
       "position": {
        "height": 7,
        "width": 24,
        "x": 0,
        "y": 7,
        "z": null
       },
       "resultIndex": null
      },
      {
       "dashboardResultIndex": 0,
       "elementNUID": "639bfa29-d14d-497f-b11f-d30590a19404",
       "elementType": "command",
       "guid": "a6536771-d185-4a31-b9cb-fc9c02d408f1",
       "options": null,
       "position": {
        "height": 7,
        "width": 24,
        "x": 0,
        "y": 0,
        "z": null
       },
       "resultIndex": null
      }
     ],
     "globalVars": {},
     "guid": "",
     "layoutOption": {
      "grid": true,
      "stack": true
     },
     "nuid": "a8e2161c-2f03-47b0-924f-110c72fadb3b",
     "origId": 2986648929373523,
     "title": "Artist Analysis",
     "version": "DashboardViewV1",
     "width": 1024
    },
    {
     "elements": [
      {
       "dashboardResultIndex": null,
       "elementNUID": "49b2dea5-4b02-4bbd-86d8-30bb45949f90",
       "elementType": "command",
       "guid": "50ff6b9c-e6c9-41f1-9a8d-39a01fc5c8ae",
       "options": null,
       "position": {
        "height": 12,
        "width": 24,
        "x": 0,
        "y": 8,
        "z": null
       },
       "resultIndex": null
      },
      {
       "dashboardResultIndex": 0,
       "elementNUID": "883ec5f0-374a-476a-abb6-f06488074c8a",
       "elementType": "command",
       "guid": "ca2bb49c-ecef-4c90-b4d6-d465042f16f4",
       "options": null,
       "position": {
        "height": 8,
        "width": 24,
        "x": 0,
        "y": 0,
        "z": null
       },
       "resultIndex": null
      }
     ],
     "globalVars": {},
     "guid": "",
     "layoutOption": {
      "grid": true,
      "stack": true
     },
     "nuid": "1fb1a1bc-c3dc-4ac3-b46c-234654961097",
     "origId": 4279701683963954,
     "title": "Popularity Analysis",
     "version": "DashboardViewV1",
     "width": 1024
    },
    {
     "elements": [
      {
       "dashboardResultIndex": null,
       "elementNUID": "e2ccebd2-85cc-4d51-bc4c-1c7c937407db",
       "elementType": "command",
       "guid": "5dfae906-56b9-4c92-8da7-743c8c4af8d7",
       "options": null,
       "position": {
        "height": 7,
        "width": 12,
        "x": 12,
        "y": 0,
        "z": null
       },
       "resultIndex": null
      },
      {
       "dashboardResultIndex": null,
       "elementNUID": "a5c635af-f814-4e89-9e7d-f7c4c8af6b45",
       "elementType": "command",
       "guid": "8d2b857d-cffc-49b2-af36-8ff9a8e599d9",
       "options": null,
       "position": {
        "height": 7,
        "width": 12,
        "x": 0,
        "y": 7,
        "z": null
       },
       "resultIndex": null
      },
      {
       "dashboardResultIndex": null,
       "elementNUID": "14fe549b-e521-4b9c-95b2-25fcbaecc31c",
       "elementType": "command",
       "guid": "c7413be8-e685-417b-943a-f061fd60a8bf",
       "options": null,
       "position": {
        "height": 7,
        "width": 12,
        "x": 0,
        "y": 0,
        "z": null
       },
       "resultIndex": null
      },
      {
       "dashboardResultIndex": null,
       "elementNUID": "e973f86e-72d9-41c3-bbcc-fbbb2f4a0939",
       "elementType": "command",
       "guid": "d833c400-3c18-4777-af1b-a20f69e1cef0",
       "options": {
        "autoScaleImg": false,
        "scale": 0,
        "showRunButton": false,
        "showTitle": false,
        "title": "PO",
        "titleAlign": "center"
       },
       "position": {
        "height": 7,
        "width": 12,
        "x": 12,
        "y": 7,
        "z": null
       },
       "resultIndex": null
      }
     ],
     "globalVars": {},
     "guid": "",
     "layoutOption": {
      "grid": true,
      "stack": true
     },
     "nuid": "d57dcf89-3877-4b98-9c66-6810ccc00399",
     "origId": 4164374014784516,
     "title": "Genre Analysis",
     "version": "DashboardViewV1",
     "width": 1024
    }
   ],
   "environmentMetadata": null,
   "language": "python",
   "notebookMetadata": {
    "pythonIndentUnit": 4
   },
   "notebookName": "Spotify API Analysis",
   "widgets": {}
  }
 },
 "nbformat": 4,
 "nbformat_minor": 0
}
